{
  "nbformat": 4,
  "nbformat_minor": 0,
  "metadata": {
    "colab": {
      "name": "5001_proj.ipynb",
      "provenance": [],
      "collapsed_sections": [
        "H9RB0bjB4uqZ",
        "urcMUkHk4uqm",
        "b7MkD2Hh4uue",
        "b1xxNONq4u0E",
        "o9KeHtyT4u0F",
        "_LwCOH_W4u4Z",
        "-CCkGikR4u4o",
        "0cV-hWl74u5d",
        "JPHzC7t34u5d"
      ],
      "toc_visible": true
    },
    "kernelspec": {
      "display_name": "deeplearning",
      "language": "python",
      "name": "deeplearning"
    },
    "language_info": {
      "codemirror_mode": {
        "name": "ipython",
        "version": 3
      },
      "file_extension": ".py",
      "mimetype": "text/x-python",
      "name": "python",
      "nbconvert_exporter": "python",
      "pygments_lexer": "ipython3",
      "version": "3.8.5"
    }
  },
  "cells": [
    {
      "cell_type": "code",
      "metadata": {
        "colab": {
          "base_uri": "https://localhost:8080/"
        },
        "id": "eJO_EbJY4umk",
        "outputId": "973bd8ed-7ef2-45fb-81ca-42d7ef499732"
      },
      "source": [
        "import numpy as np\n",
        "import pandas as pd\n",
        "import seaborn as sns\n",
        "import matplotlib.pyplot as plt\n",
        "import nltk\n",
        "import re,string,unicodedata\n",
        "import keras\n",
        "import tensorflow as tf\n",
        "import time\n",
        "import warnings\n",
        "import lxml\n",
        "import re\n",
        "\n",
        "from wordcloud import WordCloud,STOPWORDS\n",
        "from bs4 import BeautifulSoup\n",
        "from string import punctuation\n",
        "\n",
        "from nltk.corpus import stopwords\n",
        "from nltk.corpus import wordnet\n",
        "from nltk.stem.porter import PorterStemmer\n",
        "from nltk.tokenize import word_tokenize,sent_tokenize\n",
        "from nltk.tokenize import ToktokTokenizer\n",
        "from nltk import pos_tag\n",
        "from nltk.stem.wordnet import WordNetLemmatizer\n",
        "nltk.download('wordnet')\n",
        "\n",
        "from sklearn.preprocessing import MultiLabelBinarizer\n",
        "from sklearn.feature_extraction.text import TfidfVectorizer\n",
        "from sklearn.feature_extraction.text import HashingVectorizer\n",
        "from sklearn.model_selection import KFold\n",
        "from sklearn.model_selection import train_test_split\n",
        "from scipy.sparse import hstack\n",
        "\n"
      ],
      "execution_count": null,
      "outputs": [
        {
          "output_type": "stream",
          "text": [
            "[nltk_data] Downloading package wordnet to /root/nltk_data...\n",
            "[nltk_data]   Package wordnet is already up-to-date!\n"
          ],
          "name": "stdout"
        }
      ]
    },
    {
      "cell_type": "code",
      "metadata": {
        "colab": {
          "base_uri": "https://localhost:8080/"
        },
        "id": "n_uaDmZ-QKOl",
        "outputId": "b5fe8240-0f80-4e61-cc2a-d1eae01a20c3"
      },
      "source": [
        "from google.colab import drive\n",
        "drive.mount('/content/drive')"
      ],
      "execution_count": null,
      "outputs": [
        {
          "output_type": "stream",
          "text": [
            "Mounted at /content/drive\n"
          ],
          "name": "stdout"
        }
      ]
    },
    {
      "cell_type": "code",
      "metadata": {
        "colab": {
          "base_uri": "https://localhost:8080/"
        },
        "id": "70ZT_UkrQB27",
        "outputId": "abec906f-67ca-43fb-aa9a-a8c52fe84f9e"
      },
      "source": [
        "%cd drive\n",
        "%cd My\\ Drive\n",
        "%cd 5001_data/archive"
      ],
      "execution_count": null,
      "outputs": [
        {
          "output_type": "stream",
          "text": [
            "/content/drive\n",
            "/content/drive/My Drive\n",
            "/content/drive/My Drive/5001_data/archive\n"
          ],
          "name": "stdout"
        }
      ]
    },
    {
      "cell_type": "markdown",
      "metadata": {
        "id": "3mOIcdMZ4unJ"
      },
      "source": [
        "## Read Data"
      ]
    },
    {
      "cell_type": "markdown",
      "metadata": {
        "id": "1VH8UzcH4unL"
      },
      "source": [
        "use pandas to read csv files and print head"
      ]
    },
    {
      "cell_type": "markdown",
      "metadata": {
        "id": "b4oa81WB4unf"
      },
      "source": [
        "read the CSV files to get the question info"
      ]
    },
    {
      "cell_type": "code",
      "metadata": {
        "colab": {
          "base_uri": "https://localhost:8080/",
          "height": 195
        },
        "id": "-gn7XsaK4unh",
        "outputId": "7e2193be-f098-4eee-93eb-b0876b311d4e"
      },
      "source": [
        "df_questions = pd.read_csv(\"Questions.csv\",encoding=\"ISO-8859-1\")\n",
        "df_questions.head(5)"
      ],
      "execution_count": null,
      "outputs": [
        {
          "output_type": "execute_result",
          "data": {
            "text/html": [
              "<div>\n",
              "<style scoped>\n",
              "    .dataframe tbody tr th:only-of-type {\n",
              "        vertical-align: middle;\n",
              "    }\n",
              "\n",
              "    .dataframe tbody tr th {\n",
              "        vertical-align: top;\n",
              "    }\n",
              "\n",
              "    .dataframe thead th {\n",
              "        text-align: right;\n",
              "    }\n",
              "</style>\n",
              "<table border=\"1\" class=\"dataframe\">\n",
              "  <thead>\n",
              "    <tr style=\"text-align: right;\">\n",
              "      <th></th>\n",
              "      <th>Id</th>\n",
              "      <th>OwnerUserId</th>\n",
              "      <th>CreationDate</th>\n",
              "      <th>ClosedDate</th>\n",
              "      <th>Score</th>\n",
              "      <th>Title</th>\n",
              "      <th>Body</th>\n",
              "    </tr>\n",
              "  </thead>\n",
              "  <tbody>\n",
              "    <tr>\n",
              "      <th>0</th>\n",
              "      <td>80</td>\n",
              "      <td>26.0</td>\n",
              "      <td>2008-08-01T13:57:07Z</td>\n",
              "      <td>NaN</td>\n",
              "      <td>26</td>\n",
              "      <td>SQLStatement.execute() - multiple queries in o...</td>\n",
              "      <td>&lt;p&gt;I've written a database generation script i...</td>\n",
              "    </tr>\n",
              "    <tr>\n",
              "      <th>1</th>\n",
              "      <td>90</td>\n",
              "      <td>58.0</td>\n",
              "      <td>2008-08-01T14:41:24Z</td>\n",
              "      <td>2012-12-26T03:45:49Z</td>\n",
              "      <td>144</td>\n",
              "      <td>Good branching and merging tutorials for Torto...</td>\n",
              "      <td>&lt;p&gt;Are there any really good tutorials explain...</td>\n",
              "    </tr>\n",
              "    <tr>\n",
              "      <th>2</th>\n",
              "      <td>120</td>\n",
              "      <td>83.0</td>\n",
              "      <td>2008-08-01T15:50:08Z</td>\n",
              "      <td>NaN</td>\n",
              "      <td>21</td>\n",
              "      <td>ASP.NET Site Maps</td>\n",
              "      <td>&lt;p&gt;Has anyone got experience creating &lt;strong&gt;...</td>\n",
              "    </tr>\n",
              "    <tr>\n",
              "      <th>3</th>\n",
              "      <td>180</td>\n",
              "      <td>2089740.0</td>\n",
              "      <td>2008-08-01T18:42:19Z</td>\n",
              "      <td>NaN</td>\n",
              "      <td>53</td>\n",
              "      <td>Function for creating color wheels</td>\n",
              "      <td>&lt;p&gt;This is something I've pseudo-solved many t...</td>\n",
              "    </tr>\n",
              "    <tr>\n",
              "      <th>4</th>\n",
              "      <td>260</td>\n",
              "      <td>91.0</td>\n",
              "      <td>2008-08-01T23:22:08Z</td>\n",
              "      <td>NaN</td>\n",
              "      <td>49</td>\n",
              "      <td>Adding scripting functionality to .NET applica...</td>\n",
              "      <td>&lt;p&gt;I have a little game written in C#. It uses...</td>\n",
              "    </tr>\n",
              "  </tbody>\n",
              "</table>\n",
              "</div>"
            ],
            "text/plain": [
              "    Id  ...                                               Body\n",
              "0   80  ...  <p>I've written a database generation script i...\n",
              "1   90  ...  <p>Are there any really good tutorials explain...\n",
              "2  120  ...  <p>Has anyone got experience creating <strong>...\n",
              "3  180  ...  <p>This is something I've pseudo-solved many t...\n",
              "4  260  ...  <p>I have a little game written in C#. It uses...\n",
              "\n",
              "[5 rows x 7 columns]"
            ]
          },
          "metadata": {
            "tags": []
          },
          "execution_count": 5
        }
      ]
    },
    {
      "cell_type": "code",
      "metadata": {
        "colab": {
          "base_uri": "https://localhost:8080/",
          "height": 195
        },
        "id": "4GXyVVzq4un2",
        "outputId": "f6449a16-bbc6-4710-a9e9-2d6fdd2eb9b2"
      },
      "source": [
        "df_tags = pd.read_csv(\"Tags.csv\",encoding=\"ISO-8859-1\",dtype={'Tag':str})\n",
        "df_tags.head(5)"
      ],
      "execution_count": null,
      "outputs": [
        {
          "output_type": "execute_result",
          "data": {
            "text/html": [
              "<div>\n",
              "<style scoped>\n",
              "    .dataframe tbody tr th:only-of-type {\n",
              "        vertical-align: middle;\n",
              "    }\n",
              "\n",
              "    .dataframe tbody tr th {\n",
              "        vertical-align: top;\n",
              "    }\n",
              "\n",
              "    .dataframe thead th {\n",
              "        text-align: right;\n",
              "    }\n",
              "</style>\n",
              "<table border=\"1\" class=\"dataframe\">\n",
              "  <thead>\n",
              "    <tr style=\"text-align: right;\">\n",
              "      <th></th>\n",
              "      <th>Id</th>\n",
              "      <th>Tag</th>\n",
              "    </tr>\n",
              "  </thead>\n",
              "  <tbody>\n",
              "    <tr>\n",
              "      <th>0</th>\n",
              "      <td>80</td>\n",
              "      <td>flex</td>\n",
              "    </tr>\n",
              "    <tr>\n",
              "      <th>1</th>\n",
              "      <td>80</td>\n",
              "      <td>actionscript-3</td>\n",
              "    </tr>\n",
              "    <tr>\n",
              "      <th>2</th>\n",
              "      <td>80</td>\n",
              "      <td>air</td>\n",
              "    </tr>\n",
              "    <tr>\n",
              "      <th>3</th>\n",
              "      <td>90</td>\n",
              "      <td>svn</td>\n",
              "    </tr>\n",
              "    <tr>\n",
              "      <th>4</th>\n",
              "      <td>90</td>\n",
              "      <td>tortoisesvn</td>\n",
              "    </tr>\n",
              "  </tbody>\n",
              "</table>\n",
              "</div>"
            ],
            "text/plain": [
              "   Id             Tag\n",
              "0  80            flex\n",
              "1  80  actionscript-3\n",
              "2  80             air\n",
              "3  90             svn\n",
              "4  90     tortoisesvn"
            ]
          },
          "metadata": {
            "tags": []
          },
          "execution_count": 6
        }
      ]
    },
    {
      "cell_type": "markdown",
      "metadata": {
        "id": "XBvgY4qE4un-"
      },
      "source": [
        "## Process tags"
      ]
    },
    {
      "cell_type": "code",
      "metadata": {
        "colab": {
          "base_uri": "https://localhost:8080/"
        },
        "id": "5cOYGwRI4uoA",
        "outputId": "d1a1b7c8-768e-40d7-dc81-e4a175f447d7"
      },
      "source": [
        "type(df_tags)"
      ],
      "execution_count": null,
      "outputs": [
        {
          "output_type": "execute_result",
          "data": {
            "text/plain": [
              "pandas.core.frame.DataFrame"
            ]
          },
          "metadata": {
            "tags": []
          },
          "execution_count": 7
        }
      ]
    },
    {
      "cell_type": "code",
      "metadata": {
        "colab": {
          "base_uri": "https://localhost:8080/"
        },
        "id": "OYogMKdY4uoH",
        "outputId": "cac5ffb5-0848-486f-c670-eb2ed9518fcb"
      },
      "source": [
        "type(df_tags['Tag'][0])"
      ],
      "execution_count": null,
      "outputs": [
        {
          "output_type": "execute_result",
          "data": {
            "text/plain": [
              "str"
            ]
          },
          "metadata": {
            "tags": []
          },
          "execution_count": 8
        }
      ]
    },
    {
      "cell_type": "code",
      "metadata": {
        "id": "KgDc-KYt4uoR"
      },
      "source": [
        "df_tags['Tag']=df_tags['Tag'].astype(str)"
      ],
      "execution_count": null,
      "outputs": []
    },
    {
      "cell_type": "code",
      "metadata": {
        "id": "zaMqfOXE4uoZ"
      },
      "source": [
        "a = df_tags.groupby('Id')"
      ],
      "execution_count": null,
      "outputs": []
    },
    {
      "cell_type": "code",
      "metadata": {
        "colab": {
          "base_uri": "https://localhost:8080/",
          "height": 402
        },
        "id": "zPQUA-zS4uof",
        "outputId": "39b5cb20-16c9-4222-9027-68634c5e6c99"
      },
      "source": [
        "a.head(5)"
      ],
      "execution_count": null,
      "outputs": [
        {
          "output_type": "execute_result",
          "data": {
            "text/html": [
              "<div>\n",
              "<style scoped>\n",
              "    .dataframe tbody tr th:only-of-type {\n",
              "        vertical-align: middle;\n",
              "    }\n",
              "\n",
              "    .dataframe tbody tr th {\n",
              "        vertical-align: top;\n",
              "    }\n",
              "\n",
              "    .dataframe thead th {\n",
              "        text-align: right;\n",
              "    }\n",
              "</style>\n",
              "<table border=\"1\" class=\"dataframe\">\n",
              "  <thead>\n",
              "    <tr style=\"text-align: right;\">\n",
              "      <th></th>\n",
              "      <th>Id</th>\n",
              "      <th>Tag</th>\n",
              "    </tr>\n",
              "  </thead>\n",
              "  <tbody>\n",
              "    <tr>\n",
              "      <th>0</th>\n",
              "      <td>80</td>\n",
              "      <td>flex</td>\n",
              "    </tr>\n",
              "    <tr>\n",
              "      <th>1</th>\n",
              "      <td>80</td>\n",
              "      <td>actionscript-3</td>\n",
              "    </tr>\n",
              "    <tr>\n",
              "      <th>2</th>\n",
              "      <td>80</td>\n",
              "      <td>air</td>\n",
              "    </tr>\n",
              "    <tr>\n",
              "      <th>3</th>\n",
              "      <td>90</td>\n",
              "      <td>svn</td>\n",
              "    </tr>\n",
              "    <tr>\n",
              "      <th>4</th>\n",
              "      <td>90</td>\n",
              "      <td>tortoisesvn</td>\n",
              "    </tr>\n",
              "    <tr>\n",
              "      <th>...</th>\n",
              "      <td>...</td>\n",
              "      <td>...</td>\n",
              "    </tr>\n",
              "    <tr>\n",
              "      <th>3750989</th>\n",
              "      <td>40143360</td>\n",
              "      <td>javascript</td>\n",
              "    </tr>\n",
              "    <tr>\n",
              "      <th>3750990</th>\n",
              "      <td>40143360</td>\n",
              "      <td>vue.js</td>\n",
              "    </tr>\n",
              "    <tr>\n",
              "      <th>3750991</th>\n",
              "      <td>40143380</td>\n",
              "      <td>npm</td>\n",
              "    </tr>\n",
              "    <tr>\n",
              "      <th>3750992</th>\n",
              "      <td>40143380</td>\n",
              "      <td>mocha</td>\n",
              "    </tr>\n",
              "    <tr>\n",
              "      <th>3750993</th>\n",
              "      <td>40143380</td>\n",
              "      <td>babel</td>\n",
              "    </tr>\n",
              "  </tbody>\n",
              "</table>\n",
              "<p>3750994 rows × 2 columns</p>\n",
              "</div>"
            ],
            "text/plain": [
              "               Id             Tag\n",
              "0              80            flex\n",
              "1              80  actionscript-3\n",
              "2              80             air\n",
              "3              90             svn\n",
              "4              90     tortoisesvn\n",
              "...           ...             ...\n",
              "3750989  40143360      javascript\n",
              "3750990  40143360          vue.js\n",
              "3750991  40143380             npm\n",
              "3750992  40143380           mocha\n",
              "3750993  40143380           babel\n",
              "\n",
              "[3750994 rows x 2 columns]"
            ]
          },
          "metadata": {
            "tags": []
          },
          "execution_count": 11
        }
      ]
    },
    {
      "cell_type": "code",
      "metadata": {
        "id": "4NlqcR2e4uom"
      },
      "source": [
        "b = a['Tag'].apply(lambda tags: ' '.join(tags))"
      ],
      "execution_count": null,
      "outputs": []
    },
    {
      "cell_type": "code",
      "metadata": {
        "colab": {
          "base_uri": "https://localhost:8080/"
        },
        "id": "OtSdMthG4uou",
        "outputId": "b9574664-ea8c-4c8d-b8bf-da179981722e"
      },
      "source": [
        "b.head(5)"
      ],
      "execution_count": null,
      "outputs": [
        {
          "output_type": "execute_result",
          "data": {
            "text/plain": [
              "Id\n",
              "80                            flex actionscript-3 air\n",
              "90       svn tortoisesvn branch branching-and-merging\n",
              "120                               sql asp.net sitemap\n",
              "180    algorithm language-agnostic colors color-space\n",
              "260           c# .net scripting compiler-construction\n",
              "Name: Tag, dtype: object"
            ]
          },
          "metadata": {
            "tags": []
          },
          "execution_count": 13
        }
      ]
    },
    {
      "cell_type": "code",
      "metadata": {
        "colab": {
          "base_uri": "https://localhost:8080/",
          "height": 402
        },
        "id": "FsEVggWb4uo5",
        "outputId": "4dbe5a1f-ad9f-46c1-b2ec-19991ac1638d"
      },
      "source": [
        "b.reset_index()"
      ],
      "execution_count": null,
      "outputs": [
        {
          "output_type": "execute_result",
          "data": {
            "text/html": [
              "<div>\n",
              "<style scoped>\n",
              "    .dataframe tbody tr th:only-of-type {\n",
              "        vertical-align: middle;\n",
              "    }\n",
              "\n",
              "    .dataframe tbody tr th {\n",
              "        vertical-align: top;\n",
              "    }\n",
              "\n",
              "    .dataframe thead th {\n",
              "        text-align: right;\n",
              "    }\n",
              "</style>\n",
              "<table border=\"1\" class=\"dataframe\">\n",
              "  <thead>\n",
              "    <tr style=\"text-align: right;\">\n",
              "      <th></th>\n",
              "      <th>Id</th>\n",
              "      <th>Tag</th>\n",
              "    </tr>\n",
              "  </thead>\n",
              "  <tbody>\n",
              "    <tr>\n",
              "      <th>0</th>\n",
              "      <td>80</td>\n",
              "      <td>flex actionscript-3 air</td>\n",
              "    </tr>\n",
              "    <tr>\n",
              "      <th>1</th>\n",
              "      <td>90</td>\n",
              "      <td>svn tortoisesvn branch branching-and-merging</td>\n",
              "    </tr>\n",
              "    <tr>\n",
              "      <th>2</th>\n",
              "      <td>120</td>\n",
              "      <td>sql asp.net sitemap</td>\n",
              "    </tr>\n",
              "    <tr>\n",
              "      <th>3</th>\n",
              "      <td>180</td>\n",
              "      <td>algorithm language-agnostic colors color-space</td>\n",
              "    </tr>\n",
              "    <tr>\n",
              "      <th>4</th>\n",
              "      <td>260</td>\n",
              "      <td>c# .net scripting compiler-construction</td>\n",
              "    </tr>\n",
              "    <tr>\n",
              "      <th>...</th>\n",
              "      <td>...</td>\n",
              "      <td>...</td>\n",
              "    </tr>\n",
              "    <tr>\n",
              "      <th>1264211</th>\n",
              "      <td>40143210</td>\n",
              "      <td>php .htaccess</td>\n",
              "    </tr>\n",
              "    <tr>\n",
              "      <th>1264212</th>\n",
              "      <td>40143300</td>\n",
              "      <td>google-bigquery</td>\n",
              "    </tr>\n",
              "    <tr>\n",
              "      <th>1264213</th>\n",
              "      <td>40143340</td>\n",
              "      <td>android android-studio</td>\n",
              "    </tr>\n",
              "    <tr>\n",
              "      <th>1264214</th>\n",
              "      <td>40143360</td>\n",
              "      <td>javascript vue.js</td>\n",
              "    </tr>\n",
              "    <tr>\n",
              "      <th>1264215</th>\n",
              "      <td>40143380</td>\n",
              "      <td>npm mocha babel</td>\n",
              "    </tr>\n",
              "  </tbody>\n",
              "</table>\n",
              "<p>1264216 rows × 2 columns</p>\n",
              "</div>"
            ],
            "text/plain": [
              "               Id                                             Tag\n",
              "0              80                         flex actionscript-3 air\n",
              "1              90    svn tortoisesvn branch branching-and-merging\n",
              "2             120                             sql asp.net sitemap\n",
              "3             180  algorithm language-agnostic colors color-space\n",
              "4             260         c# .net scripting compiler-construction\n",
              "...           ...                                             ...\n",
              "1264211  40143210                                   php .htaccess\n",
              "1264212  40143300                                 google-bigquery\n",
              "1264213  40143340                          android android-studio\n",
              "1264214  40143360                               javascript vue.js\n",
              "1264215  40143380                                 npm mocha babel\n",
              "\n",
              "[1264216 rows x 2 columns]"
            ]
          },
          "metadata": {
            "tags": []
          },
          "execution_count": 14
        }
      ]
    },
    {
      "cell_type": "code",
      "metadata": {
        "id": "7U4ASI4d4upC"
      },
      "source": [
        "b = b.reset_index()"
      ],
      "execution_count": null,
      "outputs": []
    },
    {
      "cell_type": "code",
      "metadata": {
        "colab": {
          "base_uri": "https://localhost:8080/"
        },
        "id": "Wlf4DJGv4upK",
        "outputId": "b3478003-8a90-4bdb-b2f4-dc65c4b2224f"
      },
      "source": [
        "b.index"
      ],
      "execution_count": null,
      "outputs": [
        {
          "output_type": "execute_result",
          "data": {
            "text/plain": [
              "RangeIndex(start=0, stop=1264216, step=1)"
            ]
          },
          "metadata": {
            "tags": []
          },
          "execution_count": 16
        }
      ]
    },
    {
      "cell_type": "code",
      "metadata": {
        "colab": {
          "base_uri": "https://localhost:8080/"
        },
        "id": "-QSQL8bk4upS",
        "outputId": "46e4c21f-d3fb-40d9-dbc9-97f5f1d4dd36"
      },
      "source": [
        "b.values"
      ],
      "execution_count": null,
      "outputs": [
        {
          "output_type": "execute_result",
          "data": {
            "text/plain": [
              "array([[80, 'flex actionscript-3 air'],\n",
              "       [90, 'svn tortoisesvn branch branching-and-merging'],\n",
              "       [120, 'sql asp.net sitemap'],\n",
              "       ...,\n",
              "       [40143340, 'android android-studio'],\n",
              "       [40143360, 'javascript vue.js'],\n",
              "       [40143380, 'npm mocha babel']], dtype=object)"
            ]
          },
          "metadata": {
            "tags": []
          },
          "execution_count": 17
        }
      ]
    },
    {
      "cell_type": "code",
      "metadata": {
        "colab": {
          "base_uri": "https://localhost:8080/"
        },
        "id": "q7DPI7Zd4upc",
        "outputId": "d3317644-3f26-4c28-a5b5-e62e0c364cad"
      },
      "source": [
        "b['Id']"
      ],
      "execution_count": null,
      "outputs": [
        {
          "output_type": "execute_result",
          "data": {
            "text/plain": [
              "0                80\n",
              "1                90\n",
              "2               120\n",
              "3               180\n",
              "4               260\n",
              "             ...   \n",
              "1264211    40143210\n",
              "1264212    40143300\n",
              "1264213    40143340\n",
              "1264214    40143360\n",
              "1264215    40143380\n",
              "Name: Id, Length: 1264216, dtype: int64"
            ]
          },
          "metadata": {
            "tags": []
          },
          "execution_count": 18
        }
      ]
    },
    {
      "cell_type": "code",
      "metadata": {
        "colab": {
          "base_uri": "https://localhost:8080/",
          "height": 195
        },
        "id": "FXr2ioyK4upj",
        "outputId": "1f71df5d-cfa9-4746-9348-31ad2de3288e"
      },
      "source": [
        "grouped_tags_final = pd.DataFrame({'Id':b['Id'],'Tags':b['Tag']})\n",
        "grouped_tags_final.head(5)"
      ],
      "execution_count": null,
      "outputs": [
        {
          "output_type": "execute_result",
          "data": {
            "text/html": [
              "<div>\n",
              "<style scoped>\n",
              "    .dataframe tbody tr th:only-of-type {\n",
              "        vertical-align: middle;\n",
              "    }\n",
              "\n",
              "    .dataframe tbody tr th {\n",
              "        vertical-align: top;\n",
              "    }\n",
              "\n",
              "    .dataframe thead th {\n",
              "        text-align: right;\n",
              "    }\n",
              "</style>\n",
              "<table border=\"1\" class=\"dataframe\">\n",
              "  <thead>\n",
              "    <tr style=\"text-align: right;\">\n",
              "      <th></th>\n",
              "      <th>Id</th>\n",
              "      <th>Tags</th>\n",
              "    </tr>\n",
              "  </thead>\n",
              "  <tbody>\n",
              "    <tr>\n",
              "      <th>0</th>\n",
              "      <td>80</td>\n",
              "      <td>flex actionscript-3 air</td>\n",
              "    </tr>\n",
              "    <tr>\n",
              "      <th>1</th>\n",
              "      <td>90</td>\n",
              "      <td>svn tortoisesvn branch branching-and-merging</td>\n",
              "    </tr>\n",
              "    <tr>\n",
              "      <th>2</th>\n",
              "      <td>120</td>\n",
              "      <td>sql asp.net sitemap</td>\n",
              "    </tr>\n",
              "    <tr>\n",
              "      <th>3</th>\n",
              "      <td>180</td>\n",
              "      <td>algorithm language-agnostic colors color-space</td>\n",
              "    </tr>\n",
              "    <tr>\n",
              "      <th>4</th>\n",
              "      <td>260</td>\n",
              "      <td>c# .net scripting compiler-construction</td>\n",
              "    </tr>\n",
              "  </tbody>\n",
              "</table>\n",
              "</div>"
            ],
            "text/plain": [
              "    Id                                            Tags\n",
              "0   80                         flex actionscript-3 air\n",
              "1   90    svn tortoisesvn branch branching-and-merging\n",
              "2  120                             sql asp.net sitemap\n",
              "3  180  algorithm language-agnostic colors color-space\n",
              "4  260         c# .net scripting compiler-construction"
            ]
          },
          "metadata": {
            "tags": []
          },
          "execution_count": 19
        }
      ]
    },
    {
      "cell_type": "markdown",
      "metadata": {
        "id": "dKPur4Cj4upx"
      },
      "source": [
        "## Process questions"
      ]
    },
    {
      "cell_type": "code",
      "metadata": {
        "colab": {
          "base_uri": "https://localhost:8080/"
        },
        "id": "SKHGTCu14upy",
        "outputId": "bf8cd405-3447-453e-d143-5a1eec8bc85b"
      },
      "source": [
        "df_questions.info()"
      ],
      "execution_count": null,
      "outputs": [
        {
          "output_type": "stream",
          "text": [
            "<class 'pandas.core.frame.DataFrame'>\n",
            "RangeIndex: 1264216 entries, 0 to 1264215\n",
            "Data columns (total 7 columns):\n",
            " #   Column        Non-Null Count    Dtype  \n",
            "---  ------        --------------    -----  \n",
            " 0   Id            1264216 non-null  int64  \n",
            " 1   OwnerUserId   1249762 non-null  float64\n",
            " 2   CreationDate  1264216 non-null  object \n",
            " 3   ClosedDate    55959 non-null    object \n",
            " 4   Score         1264216 non-null  int64  \n",
            " 5   Title         1264216 non-null  object \n",
            " 6   Body          1264216 non-null  object \n",
            "dtypes: float64(1), int64(2), object(4)\n",
            "memory usage: 67.5+ MB\n"
          ],
          "name": "stdout"
        }
      ]
    },
    {
      "cell_type": "code",
      "metadata": {
        "id": "mYtTfnnb4up6"
      },
      "source": [
        "df_questions.drop(columns=['OwnerUserId','CreationDate','ClosedDate'],inplace=True)\n"
      ],
      "execution_count": null,
      "outputs": []
    },
    {
      "cell_type": "markdown",
      "metadata": {
        "id": "cdYemd0Z4uqA"
      },
      "source": [
        "drop()函数中inplace参数使用，默认为False.\n",
        "inplace = True：不创建新的对象，直接对原始对象进行修改； inplace = False：对数据进行修改，创建并返回新的对象承载其修改结果"
      ]
    },
    {
      "cell_type": "code",
      "metadata": {
        "colab": {
          "base_uri": "https://localhost:8080/",
          "height": 195
        },
        "id": "eE6JM2z24uqA",
        "outputId": "4a55e98c-0cc8-44cd-d65e-585c9dbccde3"
      },
      "source": [
        "df_questions.head()"
      ],
      "execution_count": null,
      "outputs": [
        {
          "output_type": "execute_result",
          "data": {
            "text/html": [
              "<div>\n",
              "<style scoped>\n",
              "    .dataframe tbody tr th:only-of-type {\n",
              "        vertical-align: middle;\n",
              "    }\n",
              "\n",
              "    .dataframe tbody tr th {\n",
              "        vertical-align: top;\n",
              "    }\n",
              "\n",
              "    .dataframe thead th {\n",
              "        text-align: right;\n",
              "    }\n",
              "</style>\n",
              "<table border=\"1\" class=\"dataframe\">\n",
              "  <thead>\n",
              "    <tr style=\"text-align: right;\">\n",
              "      <th></th>\n",
              "      <th>Id</th>\n",
              "      <th>Score</th>\n",
              "      <th>Title</th>\n",
              "      <th>Body</th>\n",
              "    </tr>\n",
              "  </thead>\n",
              "  <tbody>\n",
              "    <tr>\n",
              "      <th>0</th>\n",
              "      <td>80</td>\n",
              "      <td>26</td>\n",
              "      <td>SQLStatement.execute() - multiple queries in o...</td>\n",
              "      <td>&lt;p&gt;I've written a database generation script i...</td>\n",
              "    </tr>\n",
              "    <tr>\n",
              "      <th>1</th>\n",
              "      <td>90</td>\n",
              "      <td>144</td>\n",
              "      <td>Good branching and merging tutorials for Torto...</td>\n",
              "      <td>&lt;p&gt;Are there any really good tutorials explain...</td>\n",
              "    </tr>\n",
              "    <tr>\n",
              "      <th>2</th>\n",
              "      <td>120</td>\n",
              "      <td>21</td>\n",
              "      <td>ASP.NET Site Maps</td>\n",
              "      <td>&lt;p&gt;Has anyone got experience creating &lt;strong&gt;...</td>\n",
              "    </tr>\n",
              "    <tr>\n",
              "      <th>3</th>\n",
              "      <td>180</td>\n",
              "      <td>53</td>\n",
              "      <td>Function for creating color wheels</td>\n",
              "      <td>&lt;p&gt;This is something I've pseudo-solved many t...</td>\n",
              "    </tr>\n",
              "    <tr>\n",
              "      <th>4</th>\n",
              "      <td>260</td>\n",
              "      <td>49</td>\n",
              "      <td>Adding scripting functionality to .NET applica...</td>\n",
              "      <td>&lt;p&gt;I have a little game written in C#. It uses...</td>\n",
              "    </tr>\n",
              "  </tbody>\n",
              "</table>\n",
              "</div>"
            ],
            "text/plain": [
              "    Id  ...                                               Body\n",
              "0   80  ...  <p>I've written a database generation script i...\n",
              "1   90  ...  <p>Are there any really good tutorials explain...\n",
              "2  120  ...  <p>Has anyone got experience creating <strong>...\n",
              "3  180  ...  <p>This is something I've pseudo-solved many t...\n",
              "4  260  ...  <p>I have a little game written in C#. It uses...\n",
              "\n",
              "[5 rows x 4 columns]"
            ]
          },
          "metadata": {
            "tags": []
          },
          "execution_count": 22
        }
      ]
    },
    {
      "cell_type": "markdown",
      "metadata": {
        "id": "R_naDpjo4uqH"
      },
      "source": [
        "then merge the tags into the one table"
      ]
    },
    {
      "cell_type": "code",
      "metadata": {
        "colab": {
          "base_uri": "https://localhost:8080/",
          "height": 195
        },
        "id": "wyg86cBj4uqJ",
        "outputId": "36713619-7eac-4572-b164-3a96c5fa51ef"
      },
      "source": [
        "df = df_questions.merge(grouped_tags_final,on='Id')\n",
        "df.head(5)"
      ],
      "execution_count": null,
      "outputs": [
        {
          "output_type": "execute_result",
          "data": {
            "text/html": [
              "<div>\n",
              "<style scoped>\n",
              "    .dataframe tbody tr th:only-of-type {\n",
              "        vertical-align: middle;\n",
              "    }\n",
              "\n",
              "    .dataframe tbody tr th {\n",
              "        vertical-align: top;\n",
              "    }\n",
              "\n",
              "    .dataframe thead th {\n",
              "        text-align: right;\n",
              "    }\n",
              "</style>\n",
              "<table border=\"1\" class=\"dataframe\">\n",
              "  <thead>\n",
              "    <tr style=\"text-align: right;\">\n",
              "      <th></th>\n",
              "      <th>Id</th>\n",
              "      <th>Score</th>\n",
              "      <th>Title</th>\n",
              "      <th>Body</th>\n",
              "      <th>Tags</th>\n",
              "    </tr>\n",
              "  </thead>\n",
              "  <tbody>\n",
              "    <tr>\n",
              "      <th>0</th>\n",
              "      <td>80</td>\n",
              "      <td>26</td>\n",
              "      <td>SQLStatement.execute() - multiple queries in o...</td>\n",
              "      <td>&lt;p&gt;I've written a database generation script i...</td>\n",
              "      <td>flex actionscript-3 air</td>\n",
              "    </tr>\n",
              "    <tr>\n",
              "      <th>1</th>\n",
              "      <td>90</td>\n",
              "      <td>144</td>\n",
              "      <td>Good branching and merging tutorials for Torto...</td>\n",
              "      <td>&lt;p&gt;Are there any really good tutorials explain...</td>\n",
              "      <td>svn tortoisesvn branch branching-and-merging</td>\n",
              "    </tr>\n",
              "    <tr>\n",
              "      <th>2</th>\n",
              "      <td>120</td>\n",
              "      <td>21</td>\n",
              "      <td>ASP.NET Site Maps</td>\n",
              "      <td>&lt;p&gt;Has anyone got experience creating &lt;strong&gt;...</td>\n",
              "      <td>sql asp.net sitemap</td>\n",
              "    </tr>\n",
              "    <tr>\n",
              "      <th>3</th>\n",
              "      <td>180</td>\n",
              "      <td>53</td>\n",
              "      <td>Function for creating color wheels</td>\n",
              "      <td>&lt;p&gt;This is something I've pseudo-solved many t...</td>\n",
              "      <td>algorithm language-agnostic colors color-space</td>\n",
              "    </tr>\n",
              "    <tr>\n",
              "      <th>4</th>\n",
              "      <td>260</td>\n",
              "      <td>49</td>\n",
              "      <td>Adding scripting functionality to .NET applica...</td>\n",
              "      <td>&lt;p&gt;I have a little game written in C#. It uses...</td>\n",
              "      <td>c# .net scripting compiler-construction</td>\n",
              "    </tr>\n",
              "  </tbody>\n",
              "</table>\n",
              "</div>"
            ],
            "text/plain": [
              "    Id  ...                                            Tags\n",
              "0   80  ...                         flex actionscript-3 air\n",
              "1   90  ...    svn tortoisesvn branch branching-and-merging\n",
              "2  120  ...                             sql asp.net sitemap\n",
              "3  180  ...  algorithm language-agnostic colors color-space\n",
              "4  260  ...         c# .net scripting compiler-construction\n",
              "\n",
              "[5 rows x 5 columns]"
            ]
          },
          "metadata": {
            "tags": []
          },
          "execution_count": 23
        }
      ]
    },
    {
      "cell_type": "markdown",
      "metadata": {
        "id": "t7SNK4cW4uqU"
      },
      "source": [
        "Then, I will drop the questions whose score lower than 5. The reeasons are as follows:\n",
        "\n",
        "1- reduce the computational resources form kaggle.\n",
        "\n",
        "2- the post will probability be with a better quality and will better tagged since they have lots of upvotes."
      ]
    },
    {
      "cell_type": "code",
      "metadata": {
        "colab": {
          "base_uri": "https://localhost:8080/",
          "height": 284
        },
        "id": "5enEg5o54uqV",
        "outputId": "61af2f81-b270-42c8-da4e-5cf8be797102"
      },
      "source": [
        "result = df['Score'].describe()\n",
        "pd.DataFrame(result)"
      ],
      "execution_count": null,
      "outputs": [
        {
          "output_type": "execute_result",
          "data": {
            "text/html": [
              "<div>\n",
              "<style scoped>\n",
              "    .dataframe tbody tr th:only-of-type {\n",
              "        vertical-align: middle;\n",
              "    }\n",
              "\n",
              "    .dataframe tbody tr th {\n",
              "        vertical-align: top;\n",
              "    }\n",
              "\n",
              "    .dataframe thead th {\n",
              "        text-align: right;\n",
              "    }\n",
              "</style>\n",
              "<table border=\"1\" class=\"dataframe\">\n",
              "  <thead>\n",
              "    <tr style=\"text-align: right;\">\n",
              "      <th></th>\n",
              "      <th>Score</th>\n",
              "    </tr>\n",
              "  </thead>\n",
              "  <tbody>\n",
              "    <tr>\n",
              "      <th>count</th>\n",
              "      <td>1.264216e+06</td>\n",
              "    </tr>\n",
              "    <tr>\n",
              "      <th>mean</th>\n",
              "      <td>1.781537e+00</td>\n",
              "    </tr>\n",
              "    <tr>\n",
              "      <th>std</th>\n",
              "      <td>1.366389e+01</td>\n",
              "    </tr>\n",
              "    <tr>\n",
              "      <th>min</th>\n",
              "      <td>-7.300000e+01</td>\n",
              "    </tr>\n",
              "    <tr>\n",
              "      <th>25%</th>\n",
              "      <td>0.000000e+00</td>\n",
              "    </tr>\n",
              "    <tr>\n",
              "      <th>50%</th>\n",
              "      <td>0.000000e+00</td>\n",
              "    </tr>\n",
              "    <tr>\n",
              "      <th>75%</th>\n",
              "      <td>1.000000e+00</td>\n",
              "    </tr>\n",
              "    <tr>\n",
              "      <th>max</th>\n",
              "      <td>5.190000e+03</td>\n",
              "    </tr>\n",
              "  </tbody>\n",
              "</table>\n",
              "</div>"
            ],
            "text/plain": [
              "              Score\n",
              "count  1.264216e+06\n",
              "mean   1.781537e+00\n",
              "std    1.366389e+01\n",
              "min   -7.300000e+01\n",
              "25%    0.000000e+00\n",
              "50%    0.000000e+00\n",
              "75%    1.000000e+00\n",
              "max    5.190000e+03"
            ]
          },
          "metadata": {
            "tags": []
          },
          "execution_count": 24
        }
      ]
    },
    {
      "cell_type": "markdown",
      "metadata": {
        "id": "H9RB0bjB4uqZ"
      },
      "source": [
        "### Visualization for score"
      ]
    },
    {
      "cell_type": "code",
      "metadata": {
        "colab": {
          "base_uri": "https://localhost:8080/"
        },
        "id": "emy1heaV4uqa",
        "outputId": "068abe0f-085f-4608-fcf0-4395c586b58d"
      },
      "source": [
        "sum(df['Score']>5)"
      ],
      "execution_count": null,
      "outputs": [
        {
          "output_type": "execute_result",
          "data": {
            "text/plain": [
              "72950"
            ]
          },
          "metadata": {
            "tags": []
          },
          "execution_count": 25
        }
      ]
    },
    {
      "cell_type": "code",
      "metadata": {
        "colab": {
          "base_uri": "https://localhost:8080/"
        },
        "id": "zcrzcU1Z4uqg",
        "outputId": "17305b6b-7f84-4235-bb23-fa4db04465de"
      },
      "source": [
        "type(df['Score'][0])"
      ],
      "execution_count": null,
      "outputs": [
        {
          "output_type": "execute_result",
          "data": {
            "text/plain": [
              "numpy.int64"
            ]
          },
          "metadata": {
            "tags": []
          },
          "execution_count": 26
        }
      ]
    },
    {
      "cell_type": "markdown",
      "metadata": {
        "id": "urcMUkHk4uqm"
      },
      "source": [
        "#### Using the sampling to view the distribution of score"
      ]
    },
    {
      "cell_type": "code",
      "metadata": {
        "colab": {
          "base_uri": "https://localhost:8080/"
        },
        "id": "_5cqt_gQ4uqo",
        "outputId": "338f8fd5-8bae-45b0-e6ef-b728bf282a30"
      },
      "source": [
        "index = np.random.randint(0,1264216,size = 10000)\n",
        "df['Score'][index]"
      ],
      "execution_count": null,
      "outputs": [
        {
          "output_type": "execute_result",
          "data": {
            "text/plain": [
              "312924     1\n",
              "601395    -1\n",
              "622799     0\n",
              "682031     2\n",
              "1147026    2\n",
              "          ..\n",
              "447559     0\n",
              "346774     0\n",
              "1248343    0\n",
              "620484     2\n",
              "218616     1\n",
              "Name: Score, Length: 10000, dtype: int64"
            ]
          },
          "metadata": {
            "tags": []
          },
          "execution_count": 27
        }
      ]
    },
    {
      "cell_type": "code",
      "metadata": {
        "colab": {
          "base_uri": "https://localhost:8080/",
          "height": 295
        },
        "id": "0ss2CO_h4uq8",
        "outputId": "18e765ea-e105-414d-90f6-825689e2d2c1"
      },
      "source": [
        "#直方图📊\n",
        "plt.hist(df['Score'][index],facecolor='blue',edgecolor='black',alpha=0.35)\n",
        "plt.xlabel('range')\n",
        "plt.ylabel('frequency')\n",
        "plt.title('Frequency distribution histogram')\n",
        "#my_x_ticks = np.arange(0, 100, 50)\n",
        "\n",
        "#plt.xticks(my_x_ticks)\n",
        "plt.show()"
      ],
      "execution_count": null,
      "outputs": [
        {
          "output_type": "display_data",
          "data": {
            "image/png": "[encoded data removed]",
            "text/plain": [
              "<Figure size 432x288 with 1 Axes>"
            ]
          },
          "metadata": {
            "tags": [],
            "needs_background": "light"
          }
        }
      ]
    },
    {
      "cell_type": "code",
      "metadata": {
        "colab": {
          "base_uri": "https://localhost:8080/",
          "height": 287
        },
        "id": "5XtkwStz4usM",
        "outputId": "b6ab9340-9ce3-49c0-eb84-043e684c1726"
      },
      "source": [
        "plt.boxplot(df['Score'])\n",
        "plt.ylim(-10, 10)"
      ],
      "execution_count": null,
      "outputs": [
        {
          "output_type": "execute_result",
          "data": {
            "text/plain": [
              "(-10.0, 10.0)"
            ]
          },
          "metadata": {
            "tags": []
          },
          "execution_count": 29
        },
        {
          "output_type": "display_data",
          "data": {
            "image/png": "[encoded data removed]",
            "text/plain": [
              "<Figure size 432x288 with 1 Axes>"
            ]
          },
          "metadata": {
            "tags": [],
            "needs_background": "light"
          }
        }
      ]
    },
    {
      "cell_type": "code",
      "metadata": {
        "colab": {
          "base_uri": "https://localhost:8080/",
          "height": 195
        },
        "id": "zfQcbwKy4usb",
        "outputId": "24f2e0cd-7204-4520-b78a-8ea0925669c8"
      },
      "source": [
        "new_df = df[df['Score']>5]\n",
        "new_df.head()"
      ],
      "execution_count": null,
      "outputs": [
        {
          "output_type": "execute_result",
          "data": {
            "text/html": [
              "<div>\n",
              "<style scoped>\n",
              "    .dataframe tbody tr th:only-of-type {\n",
              "        vertical-align: middle;\n",
              "    }\n",
              "\n",
              "    .dataframe tbody tr th {\n",
              "        vertical-align: top;\n",
              "    }\n",
              "\n",
              "    .dataframe thead th {\n",
              "        text-align: right;\n",
              "    }\n",
              "</style>\n",
              "<table border=\"1\" class=\"dataframe\">\n",
              "  <thead>\n",
              "    <tr style=\"text-align: right;\">\n",
              "      <th></th>\n",
              "      <th>Id</th>\n",
              "      <th>Score</th>\n",
              "      <th>Title</th>\n",
              "      <th>Body</th>\n",
              "      <th>Tags</th>\n",
              "    </tr>\n",
              "  </thead>\n",
              "  <tbody>\n",
              "    <tr>\n",
              "      <th>0</th>\n",
              "      <td>80</td>\n",
              "      <td>26</td>\n",
              "      <td>SQLStatement.execute() - multiple queries in o...</td>\n",
              "      <td>&lt;p&gt;I've written a database generation script i...</td>\n",
              "      <td>flex actionscript-3 air</td>\n",
              "    </tr>\n",
              "    <tr>\n",
              "      <th>1</th>\n",
              "      <td>90</td>\n",
              "      <td>144</td>\n",
              "      <td>Good branching and merging tutorials for Torto...</td>\n",
              "      <td>&lt;p&gt;Are there any really good tutorials explain...</td>\n",
              "      <td>svn tortoisesvn branch branching-and-merging</td>\n",
              "    </tr>\n",
              "    <tr>\n",
              "      <th>2</th>\n",
              "      <td>120</td>\n",
              "      <td>21</td>\n",
              "      <td>ASP.NET Site Maps</td>\n",
              "      <td>&lt;p&gt;Has anyone got experience creating &lt;strong&gt;...</td>\n",
              "      <td>sql asp.net sitemap</td>\n",
              "    </tr>\n",
              "    <tr>\n",
              "      <th>3</th>\n",
              "      <td>180</td>\n",
              "      <td>53</td>\n",
              "      <td>Function for creating color wheels</td>\n",
              "      <td>&lt;p&gt;This is something I've pseudo-solved many t...</td>\n",
              "      <td>algorithm language-agnostic colors color-space</td>\n",
              "    </tr>\n",
              "    <tr>\n",
              "      <th>4</th>\n",
              "      <td>260</td>\n",
              "      <td>49</td>\n",
              "      <td>Adding scripting functionality to .NET applica...</td>\n",
              "      <td>&lt;p&gt;I have a little game written in C#. It uses...</td>\n",
              "      <td>c# .net scripting compiler-construction</td>\n",
              "    </tr>\n",
              "  </tbody>\n",
              "</table>\n",
              "</div>"
            ],
            "text/plain": [
              "    Id  ...                                            Tags\n",
              "0   80  ...                         flex actionscript-3 air\n",
              "1   90  ...    svn tortoisesvn branch branching-and-merging\n",
              "2  120  ...                             sql asp.net sitemap\n",
              "3  180  ...  algorithm language-agnostic colors color-space\n",
              "4  260  ...         c# .net scripting compiler-construction\n",
              "\n",
              "[5 rows x 5 columns]"
            ]
          },
          "metadata": {
            "tags": []
          },
          "execution_count": 30
        }
      ]
    },
    {
      "cell_type": "code",
      "metadata": {
        "colab": {
          "base_uri": "https://localhost:8080/"
        },
        "id": "rqgw9-fT4usk",
        "scrolled": true,
        "outputId": "88448cb0-8a37-4e2c-ae18-5ca0af98766f"
      },
      "source": [
        "new_df.info()"
      ],
      "execution_count": null,
      "outputs": [
        {
          "output_type": "stream",
          "text": [
            "<class 'pandas.core.frame.DataFrame'>\n",
            "Int64Index: 72950 entries, 0 to 1264205\n",
            "Data columns (total 5 columns):\n",
            " #   Column  Non-Null Count  Dtype \n",
            "---  ------  --------------  ----- \n",
            " 0   Id      72950 non-null  int64 \n",
            " 1   Score   72950 non-null  int64 \n",
            " 2   Title   72950 non-null  object\n",
            " 3   Body    72950 non-null  object\n",
            " 4   Tags    72950 non-null  object\n",
            "dtypes: int64(2), object(3)\n",
            "memory usage: 3.3+ MB\n"
          ],
          "name": "stdout"
        }
      ]
    },
    {
      "cell_type": "code",
      "metadata": {
        "colab": {
          "base_uri": "https://localhost:8080/",
          "height": 284
        },
        "id": "fbrAvEXk4us4",
        "outputId": "52b4066d-4e76-4ef0-8ee8-b1f6baa704c0"
      },
      "source": [
        "result = new_df['Score'].describe()\n",
        "pd.DataFrame(result)"
      ],
      "execution_count": null,
      "outputs": [
        {
          "output_type": "execute_result",
          "data": {
            "text/html": [
              "<div>\n",
              "<style scoped>\n",
              "    .dataframe tbody tr th:only-of-type {\n",
              "        vertical-align: middle;\n",
              "    }\n",
              "\n",
              "    .dataframe tbody tr th {\n",
              "        vertical-align: top;\n",
              "    }\n",
              "\n",
              "    .dataframe thead th {\n",
              "        text-align: right;\n",
              "    }\n",
              "</style>\n",
              "<table border=\"1\" class=\"dataframe\">\n",
              "  <thead>\n",
              "    <tr style=\"text-align: right;\">\n",
              "      <th></th>\n",
              "      <th>Score</th>\n",
              "    </tr>\n",
              "  </thead>\n",
              "  <tbody>\n",
              "    <tr>\n",
              "      <th>count</th>\n",
              "      <td>72950.000000</td>\n",
              "    </tr>\n",
              "    <tr>\n",
              "      <th>mean</th>\n",
              "      <td>19.851295</td>\n",
              "    </tr>\n",
              "    <tr>\n",
              "      <th>std</th>\n",
              "      <td>53.461874</td>\n",
              "    </tr>\n",
              "    <tr>\n",
              "      <th>min</th>\n",
              "      <td>6.000000</td>\n",
              "    </tr>\n",
              "    <tr>\n",
              "      <th>25%</th>\n",
              "      <td>7.000000</td>\n",
              "    </tr>\n",
              "    <tr>\n",
              "      <th>50%</th>\n",
              "      <td>10.000000</td>\n",
              "    </tr>\n",
              "    <tr>\n",
              "      <th>75%</th>\n",
              "      <td>17.000000</td>\n",
              "    </tr>\n",
              "    <tr>\n",
              "      <th>max</th>\n",
              "      <td>5190.000000</td>\n",
              "    </tr>\n",
              "  </tbody>\n",
              "</table>\n",
              "</div>"
            ],
            "text/plain": [
              "              Score\n",
              "count  72950.000000\n",
              "mean      19.851295\n",
              "std       53.461874\n",
              "min        6.000000\n",
              "25%        7.000000\n",
              "50%       10.000000\n",
              "75%       17.000000\n",
              "max     5190.000000"
            ]
          },
          "metadata": {
            "tags": []
          },
          "execution_count": 32
        }
      ]
    },
    {
      "cell_type": "markdown",
      "metadata": {
        "id": "OZM_jmTd4uti"
      },
      "source": [
        "there is no missing values or duplocated values"
      ]
    },
    {
      "cell_type": "code",
      "metadata": {
        "colab": {
          "base_uri": "https://localhost:8080/"
        },
        "id": "_nXfJE3r4utq",
        "outputId": "e3747c13-3422-48a4-c459-a9bffb34c457"
      },
      "source": [
        "print('Duplicate entries:{}'.format(new_df.duplicated().sum()))\n"
      ],
      "execution_count": null,
      "outputs": [
        {
          "output_type": "stream",
          "text": [
            "Duplicate entries:0\n"
          ],
          "name": "stdout"
        }
      ]
    },
    {
      "cell_type": "code",
      "metadata": {
        "colab": {
          "base_uri": "https://localhost:8080/"
        },
        "id": "N7ODEyHp4uuE",
        "outputId": "6863a2cd-7a11-435b-f41a-9a1db7d39ea3"
      },
      "source": [
        "new_df.drop_duplicates(inplace=True)"
      ],
      "execution_count": null,
      "outputs": [
        {
          "output_type": "stream",
          "text": [
            "/usr/local/lib/python3.6/dist-packages/ipykernel_launcher.py:1: SettingWithCopyWarning: \n",
            "A value is trying to be set on a copy of a slice from a DataFrame\n",
            "\n",
            "See the caveats in the documentation: https://pandas.pydata.org/pandas-docs/stable/user_guide/indexing.html#returning-a-view-versus-a-copy\n",
            "  \"\"\"Entry point for launching an IPython kernel.\n"
          ],
          "name": "stderr"
        }
      ]
    },
    {
      "cell_type": "markdown",
      "metadata": {
        "id": "CnmtBzpA4uuK"
      },
      "source": [
        "This is a very good dataset since there are no missing values or duplicated values."
      ]
    },
    {
      "cell_type": "code",
      "metadata": {
        "colab": {
          "base_uri": "https://localhost:8080/"
        },
        "id": "IumNQX9-4uuL",
        "outputId": "e718a986-b90f-442f-97e0-a521f8765fb1"
      },
      "source": [
        "new_df.drop(columns=['Id','Score'],inplace=True)"
      ],
      "execution_count": null,
      "outputs": [
        {
          "output_type": "stream",
          "text": [
            "/usr/local/lib/python3.6/dist-packages/pandas/core/frame.py:4174: SettingWithCopyWarning: \n",
            "A value is trying to be set on a copy of a slice from a DataFrame\n",
            "\n",
            "See the caveats in the documentation: https://pandas.pydata.org/pandas-docs/stable/user_guide/indexing.html#returning-a-view-versus-a-copy\n",
            "  errors=errors,\n"
          ],
          "name": "stderr"
        }
      ]
    },
    {
      "cell_type": "code",
      "metadata": {
        "colab": {
          "base_uri": "https://localhost:8080/",
          "height": 402
        },
        "id": "TYTHfp6q4uuT",
        "outputId": "f411eb97-52a0-4d14-b93b-051ca310924e"
      },
      "source": [
        "new_df"
      ],
      "execution_count": null,
      "outputs": [
        {
          "output_type": "execute_result",
          "data": {
            "text/html": [
              "<div>\n",
              "<style scoped>\n",
              "    .dataframe tbody tr th:only-of-type {\n",
              "        vertical-align: middle;\n",
              "    }\n",
              "\n",
              "    .dataframe tbody tr th {\n",
              "        vertical-align: top;\n",
              "    }\n",
              "\n",
              "    .dataframe thead th {\n",
              "        text-align: right;\n",
              "    }\n",
              "</style>\n",
              "<table border=\"1\" class=\"dataframe\">\n",
              "  <thead>\n",
              "    <tr style=\"text-align: right;\">\n",
              "      <th></th>\n",
              "      <th>Title</th>\n",
              "      <th>Body</th>\n",
              "      <th>Tags</th>\n",
              "    </tr>\n",
              "  </thead>\n",
              "  <tbody>\n",
              "    <tr>\n",
              "      <th>0</th>\n",
              "      <td>SQLStatement.execute() - multiple queries in o...</td>\n",
              "      <td>&lt;p&gt;I've written a database generation script i...</td>\n",
              "      <td>flex actionscript-3 air</td>\n",
              "    </tr>\n",
              "    <tr>\n",
              "      <th>1</th>\n",
              "      <td>Good branching and merging tutorials for Torto...</td>\n",
              "      <td>&lt;p&gt;Are there any really good tutorials explain...</td>\n",
              "      <td>svn tortoisesvn branch branching-and-merging</td>\n",
              "    </tr>\n",
              "    <tr>\n",
              "      <th>2</th>\n",
              "      <td>ASP.NET Site Maps</td>\n",
              "      <td>&lt;p&gt;Has anyone got experience creating &lt;strong&gt;...</td>\n",
              "      <td>sql asp.net sitemap</td>\n",
              "    </tr>\n",
              "    <tr>\n",
              "      <th>3</th>\n",
              "      <td>Function for creating color wheels</td>\n",
              "      <td>&lt;p&gt;This is something I've pseudo-solved many t...</td>\n",
              "      <td>algorithm language-agnostic colors color-space</td>\n",
              "    </tr>\n",
              "    <tr>\n",
              "      <th>4</th>\n",
              "      <td>Adding scripting functionality to .NET applica...</td>\n",
              "      <td>&lt;p&gt;I have a little game written in C#. It uses...</td>\n",
              "      <td>c# .net scripting compiler-construction</td>\n",
              "    </tr>\n",
              "    <tr>\n",
              "      <th>...</th>\n",
              "      <td>...</td>\n",
              "      <td>...</td>\n",
              "      <td>...</td>\n",
              "    </tr>\n",
              "    <tr>\n",
              "      <th>1262915</th>\n",
              "      <td>How to use a dict to subset a DataFrame?</td>\n",
              "      <td>&lt;p&gt;Say, I have given a DataFrame with most of ...</td>\n",
              "      <td>python pandas dataframe categorical-data</td>\n",
              "    </tr>\n",
              "    <tr>\n",
              "      <th>1263065</th>\n",
              "      <td>Is there a way to use itertools in python to c...</td>\n",
              "      <td>&lt;p&gt;Let's say I have the following code:&lt;/p&gt;\\n\\...</td>\n",
              "      <td>python iterator nested-loops itertools</td>\n",
              "    </tr>\n",
              "    <tr>\n",
              "      <th>1263399</th>\n",
              "      <td>How can I force file ordering in F# projects u...</td>\n",
              "      <td>&lt;p&gt;I'm trying to work with vscode in my WebSha...</td>\n",
              "      <td>f# vscode</td>\n",
              "    </tr>\n",
              "    <tr>\n",
              "      <th>1263454</th>\n",
              "      <td>Why does my result data returned as void* gets...</td>\n",
              "      <td>&lt;p&gt;I am working in a project with a huge legac...</td>\n",
              "      <td>c++</td>\n",
              "    </tr>\n",
              "    <tr>\n",
              "      <th>1264205</th>\n",
              "      <td>What exactly makes a type system consistent?</td>\n",
              "      <td>&lt;p&gt;I've taken AndrÃ¡s KovÃ¡cs's &lt;a href=\"https...</td>\n",
              "      <td>haskell types functional-programming agda lamb...</td>\n",
              "    </tr>\n",
              "  </tbody>\n",
              "</table>\n",
              "<p>72950 rows × 3 columns</p>\n",
              "</div>"
            ],
            "text/plain": [
              "                                                     Title  ...                                               Tags\n",
              "0        SQLStatement.execute() - multiple queries in o...  ...                            flex actionscript-3 air\n",
              "1        Good branching and merging tutorials for Torto...  ...       svn tortoisesvn branch branching-and-merging\n",
              "2                                        ASP.NET Site Maps  ...                                sql asp.net sitemap\n",
              "3                       Function for creating color wheels  ...     algorithm language-agnostic colors color-space\n",
              "4        Adding scripting functionality to .NET applica...  ...            c# .net scripting compiler-construction\n",
              "...                                                    ...  ...                                                ...\n",
              "1262915           How to use a dict to subset a DataFrame?  ...           python pandas dataframe categorical-data\n",
              "1263065  Is there a way to use itertools in python to c...  ...             python iterator nested-loops itertools\n",
              "1263399  How can I force file ordering in F# projects u...  ...                                          f# vscode\n",
              "1263454  Why does my result data returned as void* gets...  ...                                                c++\n",
              "1264205       What exactly makes a type system consistent?  ...  haskell types functional-programming agda lamb...\n",
              "\n",
              "[72950 rows x 3 columns]"
            ]
          },
          "metadata": {
            "tags": []
          },
          "execution_count": 36
        }
      ]
    },
    {
      "cell_type": "markdown",
      "metadata": {
        "id": "b7MkD2Hh4uue"
      },
      "source": [
        "### -  Tags"
      ]
    },
    {
      "cell_type": "code",
      "metadata": {
        "colab": {
          "base_uri": "https://localhost:8080/"
        },
        "id": "wlYWxyVE4uuf",
        "outputId": "49686613-7e2b-4b23-ccb2-5fa7a917f658"
      },
      "source": [
        "type(new_df['Tags'].values)"
      ],
      "execution_count": null,
      "outputs": [
        {
          "output_type": "execute_result",
          "data": {
            "text/plain": [
              "numpy.ndarray"
            ]
          },
          "metadata": {
            "tags": []
          },
          "execution_count": 37
        }
      ]
    },
    {
      "cell_type": "code",
      "metadata": {
        "colab": {
          "base_uri": "https://localhost:8080/"
        },
        "id": "N_-tZIwk4uul",
        "outputId": "704c5840-9dd9-4b10-fbc0-2713efee1677"
      },
      "source": [
        "new_df['Tags']=new_df['Tags'].apply(lambda x: x.split())"
      ],
      "execution_count": null,
      "outputs": [
        {
          "output_type": "stream",
          "text": [
            "/usr/local/lib/python3.6/dist-packages/ipykernel_launcher.py:1: SettingWithCopyWarning: \n",
            "A value is trying to be set on a copy of a slice from a DataFrame.\n",
            "Try using .loc[row_indexer,col_indexer] = value instead\n",
            "\n",
            "See the caveats in the documentation: https://pandas.pydata.org/pandas-docs/stable/user_guide/indexing.html#returning-a-view-versus-a-copy\n",
            "  \"\"\"Entry point for launching an IPython kernel.\n"
          ],
          "name": "stderr"
        }
      ]
    },
    {
      "cell_type": "code",
      "metadata": {
        "colab": {
          "base_uri": "https://localhost:8080/",
          "height": 195
        },
        "id": "OHHfXd5o4uus",
        "outputId": "92aadf4d-6b61-4821-cbd5-79d57d18611d"
      },
      "source": [
        "new_df.head(5)"
      ],
      "execution_count": null,
      "outputs": [
        {
          "output_type": "execute_result",
          "data": {
            "text/html": [
              "<div>\n",
              "<style scoped>\n",
              "    .dataframe tbody tr th:only-of-type {\n",
              "        vertical-align: middle;\n",
              "    }\n",
              "\n",
              "    .dataframe tbody tr th {\n",
              "        vertical-align: top;\n",
              "    }\n",
              "\n",
              "    .dataframe thead th {\n",
              "        text-align: right;\n",
              "    }\n",
              "</style>\n",
              "<table border=\"1\" class=\"dataframe\">\n",
              "  <thead>\n",
              "    <tr style=\"text-align: right;\">\n",
              "      <th></th>\n",
              "      <th>Title</th>\n",
              "      <th>Body</th>\n",
              "      <th>Tags</th>\n",
              "    </tr>\n",
              "  </thead>\n",
              "  <tbody>\n",
              "    <tr>\n",
              "      <th>0</th>\n",
              "      <td>SQLStatement.execute() - multiple queries in o...</td>\n",
              "      <td>&lt;p&gt;I've written a database generation script i...</td>\n",
              "      <td>[flex, actionscript-3, air]</td>\n",
              "    </tr>\n",
              "    <tr>\n",
              "      <th>1</th>\n",
              "      <td>Good branching and merging tutorials for Torto...</td>\n",
              "      <td>&lt;p&gt;Are there any really good tutorials explain...</td>\n",
              "      <td>[svn, tortoisesvn, branch, branching-and-merging]</td>\n",
              "    </tr>\n",
              "    <tr>\n",
              "      <th>2</th>\n",
              "      <td>ASP.NET Site Maps</td>\n",
              "      <td>&lt;p&gt;Has anyone got experience creating &lt;strong&gt;...</td>\n",
              "      <td>[sql, asp.net, sitemap]</td>\n",
              "    </tr>\n",
              "    <tr>\n",
              "      <th>3</th>\n",
              "      <td>Function for creating color wheels</td>\n",
              "      <td>&lt;p&gt;This is something I've pseudo-solved many t...</td>\n",
              "      <td>[algorithm, language-agnostic, colors, color-s...</td>\n",
              "    </tr>\n",
              "    <tr>\n",
              "      <th>4</th>\n",
              "      <td>Adding scripting functionality to .NET applica...</td>\n",
              "      <td>&lt;p&gt;I have a little game written in C#. It uses...</td>\n",
              "      <td>[c#, .net, scripting, compiler-construction]</td>\n",
              "    </tr>\n",
              "  </tbody>\n",
              "</table>\n",
              "</div>"
            ],
            "text/plain": [
              "                                               Title  ...                                               Tags\n",
              "0  SQLStatement.execute() - multiple queries in o...  ...                        [flex, actionscript-3, air]\n",
              "1  Good branching and merging tutorials for Torto...  ...  [svn, tortoisesvn, branch, branching-and-merging]\n",
              "2                                  ASP.NET Site Maps  ...                            [sql, asp.net, sitemap]\n",
              "3                 Function for creating color wheels  ...  [algorithm, language-agnostic, colors, color-s...\n",
              "4  Adding scripting functionality to .NET applica...  ...       [c#, .net, scripting, compiler-construction]\n",
              "\n",
              "[5 rows x 3 columns]"
            ]
          },
          "metadata": {
            "tags": []
          },
          "execution_count": 39
        }
      ]
    },
    {
      "cell_type": "code",
      "metadata": {
        "colab": {
          "base_uri": "https://localhost:8080/"
        },
        "id": "lHbrbfjr4uuy",
        "outputId": "f238feaa-16f2-4171-b598-4149a21f7170"
      },
      "source": [
        "q = [item for item in new_df['Tags']]\n",
        "q"
      ],
      "execution_count": null,
      "outputs": [
        {
          "output_type": "execute_result",
          "data": {
            "text/plain": [
              "[['flex', 'actionscript-3', 'air'],\n",
              " ['svn', 'tortoisesvn', 'branch', 'branching-and-merging'],\n",
              " ['sql', 'asp.net', 'sitemap'],\n",
              " ['algorithm', 'language-agnostic', 'colors', 'color-space'],\n",
              " ['c#', '.net', 'scripting', 'compiler-construction'],\n",
              " ['c++', 'oop', 'class', 'nested-class'],\n",
              " ['.net', 'web-services'],\n",
              " ['sql-server', 'sql-server-2005', 'deployment', 'release-management'],\n",
              " ['c#', 'visual-studio', 'versioning'],\n",
              " ['windows', 'visual-studio', 'registry', 'installation'],\n",
              " ['c#', 'database', 'loops', 'connection'],\n",
              " ['c#', 'asp.net'],\n",
              " ['c#', 'file-locking'],\n",
              " ['unix', 'size'],\n",
              " ['svn', 'msbuild', 'cruisecontrol.net'],\n",
              " ['web-applications', 'dns', 'subdomain', 'account'],\n",
              " ['.net', '.net-3.5', 'msbuild', 'nant'],\n",
              " ['sql-server', 'windows-server-2008'],\n",
              " ['sql-server', 'sql-server-2008'],\n",
              " ['sql-server'],\n",
              " ['c#', '.net', 'unit-testing', 'testing'],\n",
              " ['svn', 'version-control'],\n",
              " ['sql', 'database', 'postgresql', 'stored-procedures', 'triggers'],\n",
              " ['sql', 'sql-server'],\n",
              " ['c#', 'dataset', 'datatable'],\n",
              " ['asp-classic', 'vbscript'],\n",
              " ['html', 'autocomplete'],\n",
              " ['c', 'architecture', 'data-structures'],\n",
              " ['asp.net', 'flash', 'video', 'embed'],\n",
              " ['powershell', 'cmdlets'],\n",
              " ['optimization', 'setter', 'getter', 'verification'],\n",
              " ['winforms', 'error-handling', 'user-controls'],\n",
              " ['c#', 'colors'],\n",
              " ['sql', 'sql-server-2005', 'paging'],\n",
              " ['php', 'mysql'],\n",
              " ['security', 'cracking', 'hijacked'],\n",
              " ['c++', 'visual-studio', 'unit-testing', 'testing'],\n",
              " ['fogbugz'],\n",
              " ['c++', 'visual-studio'],\n",
              " ['algorithm', 'language-agnostic'],\n",
              " ['sql-server', 'full-text-search'],\n",
              " ['sql-server', 'sql-server-2005'],\n",
              " ['math'],\n",
              " ['ruby', 'rake', 'command-line-interface'],\n",
              " ['java', 'code-coverage', 'static-analysis'],\n",
              " ['sql', 'sql-server', 'database', 'diagram'],\n",
              " ['ado.net'],\n",
              " ['asp.net'],\n",
              " ['php', 'web-services', 'visual-studio', 'wsdl'],\n",
              " ['c#', '.net'],\n",
              " ['java', 'jni', 'java-web-start', 'nativelibrary'],\n",
              " ['version-control', 'dvcs'],\n",
              " ['c#', 'user-interface', 'directx'],\n",
              " ['xml', 'xml-signature'],\n",
              " ['regex', 'ansi'],\n",
              " ['html', 'email', 'forms', 'confirm'],\n",
              " ['c#', '.net', 'sharepoint', 'assemblies'],\n",
              " ['sql-server'],\n",
              " ['sql-server', 'indexing'],\n",
              " ['architecture', 'n-tier'],\n",
              " ['authentication', 'web-applications', 'account'],\n",
              " ['svn', 'subclipse'],\n",
              " ['sql', 'mysql', 'foreign-keys'],\n",
              " ['.net', 'redistributable'],\n",
              " ['asp.net', 'logging', 'permissions'],\n",
              " ['svn', 'continuous-integration'],\n",
              " ['linux', 'ssh'],\n",
              " ['unit-testing', 'user-interface', 'selenium'],\n",
              " ['javascript', 'firefox', 'memory', 'cpu'],\n",
              " ['java', 'windows', 'swt', 'executable', 'software-distribution'],\n",
              " ['c++', 'file', 'io'],\n",
              " ['css', 'validation', 'xhtml', 'cross-browser', 'w3c'],\n",
              " ['c#', '.net', 'windows-services', 'printing'],\n",
              " ['linq', '.net-3.5'],\n",
              " ['plugins', 'extensibility'],\n",
              " ['ant', 'build-process'],\n",
              " ['c#', 'data-structures', 'collections'],\n",
              " ['objective-c', 'osx', 'webcam', 'isight'],\n",
              " ['architecture'],\n",
              " ['c', 'function', 'pointers', 'syntax', 'parameters'],\n",
              " ['lisp', 'scheme'],\n",
              " ['.net', 'sql', 'linq', 'pagination'],\n",
              " ['string', 'optimization', 'language-agnostic', 'compiler-construction'],\n",
              " ['asp.net'],\n",
              " ['asp.net-mvc', 'validation'],\n",
              " ['binding', 'dynamic-binding', 'static-binding'],\n",
              " ['database', 'hardware', 'storage', 'raid', 'disk'],\n",
              " ['regex'],\n",
              " ['c#', '.net-3.5', '.net-2.0', 'remoting', 'rpc'],\n",
              " ['c', 'linux'],\n",
              " ['.net', 'n-tier'],\n",
              " ['c++', 'emacs'],\n",
              " ['java', '.net', 'ikvm', 'gnu-classpath'],\n",
              " ['php', 'apache', 'upload'],\n",
              " ['c++', 'python', 'unit-testing', 'code-generation', 'swig'],\n",
              " ['c', 'architecture', 'pointers'],\n",
              " ['asp.net', 'ajax', 'optimization', 'performance'],\n",
              " ['sql-server', 'sql-server-2005'],\n",
              " ['design-patterns', 'fileparse'],\n",
              " ['internet-explorer', 'unicode'],\n",
              " ['msbuild', 'virtualization', 'hyper-v'],\n",
              " ['java', 'sockets', 'ip', 'router'],\n",
              " ['asp.net', 'error-handling', 'nlog', 'health-monitoring'],\n",
              " ['asp.net', 'performance', '.net-3.5', 'content-management-system', 'n2'],\n",
              " ['vbscript', 'wmi'],\n",
              " ['java', 'php', 'jsp', 'tomcat'],\n",
              " ['resources', 'dataset'],\n",
              " ['mysql', 'database', 'denormalization'],\n",
              " ['c#', '.net', 'vb.net'],\n",
              " ['c#', '.net', 'multithreading', 'exception'],\n",
              " ['continuous-integration', 'bug-tracking', 'fogbugz', 'cruisecontrol.rb'],\n",
              " ['iis-7', 'cruisecontrol.net'],\n",
              " ['version-control'],\n",
              " ['sql', 'sql-server', 'stored-procedures', 'upsert'],\n",
              " ['php', 'optimization', 'performance'],\n",
              " ['unit-testing', 'testing', 'process'],\n",
              " ['powershell', 'batch-file'],\n",
              " ['opengl', 'textures'],\n",
              " ['colors', 'rgb', 'monochrome'],\n",
              " ['opengl', 'glut', 'menu'],\n",
              " ['vim', 'editor', 'vi'],\n",
              " ['linq', 'linq-to-sql', 'stored-procedures'],\n",
              " ['.net', 'attributes', 'versions'],\n",
              " ['c++', 'c', 'c-preprocessor'],\n",
              " ['javascript', 'web-applications', 'deployment'],\n",
              " ['asp.net-mvc', 'asp.net-mvc-routing'],\n",
              " ['java', 'oop', 'design', 'architecture'],\n",
              " ['c#', 'outlook', 'email', 'message', 'msg'],\n",
              " ['c#', 'string', 'enums'],\n",
              " ['java', 'spring', 'osgi'],\n",
              " ['c#', 'hash'],\n",
              " ['.net', 'build-process', 'nant'],\n",
              " ['c#', 'sql-server', 'tsql', 'ado.net', 'sql-server-2000'],\n",
              " ['data-structures',\n",
              "  'haskell',\n",
              "  'types',\n",
              "  'functional-programming',\n",
              "  'algebraic-data-types'],\n",
              " ['unit-testing'],\n",
              " ['c', 'process'],\n",
              " ['c#', '.net'],\n",
              " ['python', 'zip'],\n",
              " ['language-agnostic'],\n",
              " ['opengl', 'glew'],\n",
              " ['.net-3.5', 'intellisense'],\n",
              " ['knowledge-management'],\n",
              " ['parsing', 'monads'],\n",
              " ['mysql'],\n",
              " ['powershell', 'configuration-files'],\n",
              " ['version-control', 'ankhsvn'],\n",
              " ['ruby-on-rails', 'security', 'deployment'],\n",
              " ['.net', 'open-source', 'mono'],\n",
              " ['open-source', 'licensing'],\n",
              " ['javascript'],\n",
              " ['asp.net', 'gridview', 'infragistics', 'ultrawebgrid'],\n",
              " ['objective-c', 'xcode', 'osx', 'refactoring'],\n",
              " ['.net', 'vb.net', 'ms-word', 'rtf'],\n",
              " ['java', 'swing', 'jpanel'],\n",
              " ['.net', 'flex', 'flash', 'silverlight'],\n",
              " ['c#', 'sql', 'linq'],\n",
              " ['django', 'shared-hosting', 'hostmonster'],\n",
              " ['.net', 'asp.net', 'url', 'uri', 'authority'],\n",
              " ['postgresql', 'indexing', 'gin', 'gist-index'],\n",
              " ['caching', '.net-2.0', 'memcached', 'enterprise-library'],\n",
              " ['html', 'css'],\n",
              " ['.net', 'wcf', 'firewall', 'push', 'duplex'],\n",
              " ['c', 'kr-c', 'c89'],\n",
              " ['sql', 'sql-server', 'tsql', 'datetime', 'user-defined-functions'],\n",
              " ['security', 'session', 'cookies'],\n",
              " ['ruby-on-rails', 'ruby', 'plugins'],\n",
              " ['c#', 'coding-style'],\n",
              " ['windows-vista'],\n",
              " ['database', 'database-design', 'postgresql'],\n",
              " ['algorithm', 'language-agnostic'],\n",
              " ['ruby', 'serialization', 'lambda', 'proc-object'],\n",
              " ['unit-testing', 'testing'],\n",
              " ['php', 'arrays', 'class'],\n",
              " ['c#', 'sql', 'sql-server', 'sql-server-2005'],\n",
              " ['language-agnostic', 'oop'],\n",
              " ['ruby', 'shoes', 'irc'],\n",
              " ['model-view-controller', 'web-frameworks'],\n",
              " ['sql-server', 'tsql', 'pivot'],\n",
              " ['visual-studio', 'build-automation'],\n",
              " ['visual-studio', 'vim', 'ide', 'editor'],\n",
              " ['oop'],\n",
              " ['svn', 'vb6'],\n",
              " ['css', 'abstraction'],\n",
              " ['java', 'unix', 'windows-services', 'daemon'],\n",
              " ['c++', 'c', 'visual-studio', 'memory-leaks'],\n",
              " ['ruby', 'performance', 'ruby-1.9'],\n",
              " ['c#', 'sqlite'],\n",
              " ['asp.net'],\n",
              " ['c#', '.net'],\n",
              " ['jquery', 'ajax', 'json', 'character-encoding'],\n",
              " ['c#', 'timespan'],\n",
              " ['.net', 'xpath'],\n",
              " ['excel', 'excel-vba'],\n",
              " ['javascript', 'arrays', 'comparison'],\n",
              " ['c++', 'winapi'],\n",
              " ['java', 'enumeration', 'iterable'],\n",
              " ['c#', 'file', 'recursion'],\n",
              " ['c#', 'trace'],\n",
              " ['c++', 'qt', 'mfc'],\n",
              " ['regex', 'doi'],\n",
              " ['c++', 'casting', 'rtti', 'dynamic-cast'],\n",
              " ['.net', 'attributes'],\n",
              " ['c++', 'performance', 'file-organization'],\n",
              " ['android', 'authentication', 'proxy'],\n",
              " ['open-source'],\n",
              " ['windows-mobile', 'scripting', 'sysadmin', 'administration'],\n",
              " ['architecture', 'rest', 'soap'],\n",
              " ['.net', 'wpf'],\n",
              " ['version-control', 'tracking'],\n",
              " ['c++', 'sockets', 'udp'],\n",
              " ['c#', '2d'],\n",
              " ['css'],\n",
              " ['asp.net-mvc'],\n",
              " ['c#', '.net', 'visual-studio', '.net-3.5', '.net-2.0'],\n",
              " ['javascript', 'flash'],\n",
              " ['mysql', 'replication', 'mysql-error-1062', 'binlog'],\n",
              " ['database', 'unit-testing'],\n",
              " ['linq', 'oracle'],\n",
              " ['.net', 'winforms', '.net-2.0'],\n",
              " ['content-type', 'mhtml'],\n",
              " ['ruby-on-rails', 'ruby'],\n",
              " ['python', 'multithreading'],\n",
              " ['.net', 'wpf'],\n",
              " ['sql', 'indexing'],\n",
              " ['wcf', 'web-services'],\n",
              " ['java', 'logging', 'log4j', 'java.util.logging'],\n",
              " ['xslt'],\n",
              " ['c#', 'sql', 'sql-server', 'tsql'],\n",
              " ['regex', 'language-agnostic'],\n",
              " ['web-services', 'testing'],\n",
              " ['sql', 'puzzle'],\n",
              " ['c#', '.net', 'email', 'smtp', 'gmail'],\n",
              " ['java', 'nan', 'assert'],\n",
              " ['sql', 'sql-server'],\n",
              " ['wpf', 'binding', 'dataset', 'datarowview', 'defaultview'],\n",
              " ['javascript', 'model-view-controller', 'architecture', 'client', 'ria'],\n",
              " ['asp.net-mvc', 'unit-testing', 'mocking', 'moq', 'rhino-mocks'],\n",
              " ['java', 'process'],\n",
              " ['.net', 'windows', 'components', 'dvd'],\n",
              " ['javascript', 'html', 'css'],\n",
              " ['open-source',\n",
              "  'wolfram-mathematica',\n",
              "  'symbolic-math',\n",
              "  'computer-algebra-systems'],\n",
              " ['xcode', 'osx', 'templates', 'xcode4', 'xcode4.5'],\n",
              " ['java', 'networking', 'ethernet'],\n",
              " ['python', 'multithreading'],\n",
              " ['php', 'html', 'screen-scraping'],\n",
              " ['asp.net', 'css', 'visual-studio-2008', 'user-controls'],\n",
              " ['ruby', 'hash', 'sha1'],\n",
              " ['multithreading', 'concurrency', 'terminology', 'race-condition'],\n",
              " ['python'],\n",
              " ['tdd', 'pair-programming'],\n",
              " ['javascript', 'jquery'],\n",
              " ['perl', 'file', 'locking'],\n",
              " ['verilog'],\n",
              " ['jquery', 'ajax', 'http', 'forms', 'iframe'],\n",
              " ['python', 'static-analysis', 'pylint', 'pyflakes'],\n",
              " ['api', 'networking', 'messaging', 'distributed', 'cluster-computing'],\n",
              " ['algorithm', 'graphics', 'audio', 'photoshop', 'signal-processing'],\n",
              " ['wcf', 'web-services', 'domain-driven-design'],\n",
              " ['svn'],\n",
              " ['c', 'cross-platform', '32-bit'],\n",
              " ['sorting', 'comparison'],\n",
              " ['f#'],\n",
              " ['ocaml'],\n",
              " ['c#', 'arrays'],\n",
              " ['ruby'],\n",
              " ['directx', 'remote-desktop'],\n",
              " ['sql', 'count'],\n",
              " ['version-control', 'ms-word'],\n",
              " ['windows', 'installation'],\n",
              " ['x86', 'sse', 'assembly'],\n",
              " ['java', 'unit-testing', 'tdd'],\n",
              " ['graphics'],\n",
              " ['asp.net', 'file', 'download'],\n",
              " ['wpf', 'user-interface'],\n",
              " ['asp.net', 'maps'],\n",
              " ['postgresql'],\n",
              " ['bash'],\n",
              " ['.net', 'winapi', 'disk'],\n",
              " ['research'],\n",
              " ['c#', 'asp.net', 'visual-studio'],\n",
              " ['oop', 'class-design'],\n",
              " ['database', 'data-structures', 'indexing', 'schema'],\n",
              " ['c#', '.net', 'io'],\n",
              " ['javascript', 'python'],\n",
              " ['c#', 'overloading'],\n",
              " ['java',\n",
              "  'methods',\n",
              "  'parameter-passing',\n",
              "  'pass-by-reference',\n",
              "  'pass-by-value'],\n",
              " ['c#', 'asp.net', 'user-controls'],\n",
              " ['c#', 'automatic-properties'],\n",
              " ['codeigniter', 'zend-framework', 'smarty'],\n",
              " ['asp.net'],\n",
              " ['.net', 'security', 'encryption', 'cryptography'],\n",
              " ['asp.net', 'multithreading', 'web-applications', 'caching', 'file-io'],\n",
              " ['windows', 'emacs'],\n",
              " ['c++', 'c', 'variadic-functions'],\n",
              " ['licensing'],\n",
              " ['testing', 'design-patterns', 'qa', 'regression'],\n",
              " ['c++', 'namespaces'],\n",
              " ['fuzzy-search'],\n",
              " ['unix', 'shell'],\n",
              " ['c#', '.net', 'unit-testing', 'windows-services'],\n",
              " ['linq', 'linq-to-sql'],\n",
              " ['.net', 'winforms', 'user-interface', 'windows-xp'],\n",
              " ['sql'],\n",
              " ['.net', 'wcf'],\n",
              " ['c++'],\n",
              " ['python', 'date'],\n",
              " ['osx', 'configuration', 'mercurial', 'perforce', 'p4merge'],\n",
              " ['c#', 'java', 'regex', 'regex-negation'],\n",
              " ['operating-system', 'kernel', 'osdev'],\n",
              " ['python', 'django', 'url', 'django-urls'],\n",
              " ['.net', 'session', 'nhibernate', 'flush'],\n",
              " ['html', 'css', 'design'],\n",
              " ['c#', '.net'],\n",
              " ['python', 'mime'],\n",
              " ['sql', 'postgresql', 'group-by', 'string-concatenation', 'concat'],\n",
              " ['mp3', 'ffmpeg'],\n",
              " ['sql-server', 'database'],\n",
              " ['configuration', 'firewall', 'sendmail', 'smarthost'],\n",
              " ['c#', 'performance', 'loops'],\n",
              " ['visual-studio', 'clickonce', 'versioning'],\n",
              " ['version-control'],\n",
              " ['regex', 'vb6'],\n",
              " ['eclipse', 'svn', 'subclipse'],\n",
              " ['.net', 'cil'],\n",
              " ['c#', 'windows'],\n",
              " ['c#', '.net', 'string', '.net-3.5', 'nullable'],\n",
              " ['asp.net', 'url', 'rest', 'friendly-url'],\n",
              " ['version-control'],\n",
              " ['perl', 'model-view-controller'],\n",
              " ['python', 'interface', 'wacom'],\n",
              " ['.net', 'installation', 'inno-setup'],\n",
              " ['javascript', 'jquery', 'user-interface', 'dialog'],\n",
              " ['visual-studio', 'projects-and-solutions'],\n",
              " ['xml', 'osx'],\n",
              " ['c#', 'winforms'],\n",
              " ['svn', 'tortoisesvn'],\n",
              " ['iphone', 'xib', 'key-value-coding'],\n",
              " ['html', 'css'],\n",
              " ['sql', 'database', 'oracle', 'ora-00942'],\n",
              " ['c#', 'winforms', 'user-interface'],\n",
              " ['reference', 'labview'],\n",
              " ['osx', 'fogbugz'],\n",
              " ['database', 'unit-testing', 'ms-access', 'vba'],\n",
              " ['c#', 'visual-studio', 'code-snippets'],\n",
              " ['c++', 'templates', 'compiler-errors'],\n",
              " ['asp.net', 'scalability', 'viewstate'],\n",
              " ['eclipse', 'jsp'],\n",
              " ['ruby-on-rails', 'ruby', 'social-networking'],\n",
              " ['visual-studio', 'macros', 'tweak'],\n",
              " ['asp.net', '.net', 'deployment', 'msbuild'],\n",
              " ['php', 'oop'],\n",
              " ['c#', '.net', 'winforms', 'focus'],\n",
              " ['visual-studio', 'visual-studio-addins'],\n",
              " ['bash', 'iterator'],\n",
              " ['svn'],\n",
              " ['apache', 'mod-rewrite'],\n",
              " ['objective-c', 'cocoa'],\n",
              " ['c++', 'mfc', 'bounds-checker', 'purify'],\n",
              " ['html', 'forms', 'cross-browser', 'specifications'],\n",
              " ['.net', 'multithreading', 'reference'],\n",
              " ['java', 'build-process', 'build-automation', 'ant'],\n",
              " ['.net', 'garbage-collection'],\n",
              " ['css', 'html', 'positioning'],\n",
              " ['unit-testing', 'project-management', 'tdd'],\n",
              " ['.net', 'debugging', 'release'],\n",
              " ['python', 'datetime', 'time'],\n",
              " ['usability', 'ui-guidelines'],\n",
              " ['demoscene'],\n",
              " ['visual-studio'],\n",
              " ['java', 'windows'],\n",
              " ['io', 'java'],\n",
              " ['java', 'applet'],\n",
              " ['sql', 'database', 'oracle', 'sequence', 'reset'],\n",
              " ['testing', 'design'],\n",
              " ['python', 'path', 'relative-path', 'absolute-path'],\n",
              " ['.net', 'memory'],\n",
              " ['asp.net', '.net-2.0'],\n",
              " ['.net', 'unit-testing'],\n",
              " ['ajax', 'flash', 'ria'],\n",
              " ['vb6', 'runtime'],\n",
              " ['project-management', 'specifications', 'specs'],\n",
              " ['.net'],\n",
              " ['c', 'operators', 'comma-operator'],\n",
              " ['.net', 'debugging', 'pdb-files'],\n",
              " ['api', 'google-reader'],\n",
              " ['windows', 'git'],\n",
              " ['.net', 'asp.net', 'paypal'],\n",
              " ['c#', 'algorithm', 'string', 'fuzzy-search'],\n",
              " ['scala', 'list'],\n",
              " ['asp.net', 'webforms', 'login', 'ntlm'],\n",
              " ['security', 'encryption', 'settings'],\n",
              " ['php', 'cakephp', 'permissions', 'acl', 'security-roles'],\n",
              " ['.net', 'web-services', 'iis', 'wcf-data-services'],\n",
              " ['postgresql', 'image'],\n",
              " ['msbuild', 'mono'],\n",
              " ['php', 'error-handling', 'error-suppression'],\n",
              " ['python', 'sorting', 'dictionary', 'list'],\n",
              " ['algorithm', 'language-agnostic', 'puzzle'],\n",
              " ['c++', 'c', 'variables'],\n",
              " ['service', 'dvd'],\n",
              " ['php', 'mysql', 'performance', 'profiling'],\n",
              " ['c#', 'asp.net', 'javascript', 'ajax', 'cookies'],\n",
              " ['svn', 'merge', 'visualization'],\n",
              " ['flex'],\n",
              " ['c', 'multithreading'],\n",
              " ['python', 'floating-point'],\n",
              " ['oop', 'definition', 'solid-principles', 'design-principles', 'lsp'],\n",
              " ['sql-server', 'tsql'],\n",
              " ['c#', '.net', 'algorithm'],\n",
              " ['c#', '.net-3.5', 'collections'],\n",
              " ['.net', 'fluent-interface'],\n",
              " ['c#', '.net', 'windows'],\n",
              " ['svn', 'version-control', 'sourcegear-vault', 'version-control-migration'],\n",
              " ['language-agnostic', 'loops', 'goto', 'continue'],\n",
              " ['c#', 'c++', 'visual-studio', 'debugging'],\n",
              " ['flex', 'build-process', 'nant', 'flexbuilder'],\n",
              " ['.net', 'sql-server', 'tsql', 'sqlclr'],\n",
              " ['c#', 'gdi+', 'xna', 'rendering'],\n",
              " ['.net', 'vb.net', 'exception-handling', 'windows-services'],\n",
              " ['.net', 'wpf', 'testing'],\n",
              " ['c#', '.net', 'exception'],\n",
              " ['c#', 'mime', 'mime-types'],\n",
              " ['oracle', 'ssis'],\n",
              " ['winapi'],\n",
              " ['.net', 'html', 'email'],\n",
              " ['windows', 'winapi'],\n",
              " ['c++', 'c', 'pdf', 'open-source'],\n",
              " ['google-analytics'],\n",
              " ['c#', '.net', 'png', 'svg'],\n",
              " ['sql', 'sql-server', 'tsql'],\n",
              " ['asp.net', 'unicode', 'localization', 'globalization'],\n",
              " ['captcha'],\n",
              " ['c#', 'multithreading', 'design-patterns', 'locking'],\n",
              " ['c++', 'string', 'gcc'],\n",
              " ['java', 'spring'],\n",
              " ['sql', 'database', 'stored-procedures'],\n",
              " ['c++', 'inheritance', 'oop', 'member-function-pointers'],\n",
              " ['javascript', 'internet-explorer'],\n",
              " ['java', 'regex', 'escaping'],\n",
              " ['c++', 'oop', 'information-hiding', 'pimpl-idiom'],\n",
              " ['php', 'javascript', 'download'],\n",
              " ['.net', 'visual-studio', 'visual-studio-2008', 'silverlight'],\n",
              " ['asp.net', 'postback'],\n",
              " ['python', 'webserver'],\n",
              " ['jquery', 'internet-explorer-6', 'png'],\n",
              " ['c#', 'performance', 'memory', 'profiler'],\n",
              " ['c++', 'inline-functions'],\n",
              " ['osx', 'emacs', 'lisp', 'aquamacs'],\n",
              " ['windows', 'command-line', 'console', 'terminal', 'command-line-interface'],\n",
              " ['directory-structure'],\n",
              " ['c#', '.net', 'console', 'stdout'],\n",
              " ['java', 'unit-testing', 'mocking', 'static-block'],\n",
              " ['html', 'django'],\n",
              " ['css', 'layout'],\n",
              " ['svn', 'eclipse', 'subclipse', 'subversive'],\n",
              " ['unit-testing',\n",
              "  'language-agnostic',\n",
              "  'tdd',\n",
              "  'integration-testing',\n",
              "  'testing-strategies'],\n",
              " ['c#', 'properties'],\n",
              " ['database', 'oop', 'rdbms', 'relational', 'oodbms'],\n",
              " ['c++', 'arrays', 'graphics', '2d', 'zbuffer'],\n",
              " ['database', 'paging'],\n",
              " ['linq', 'sum'],\n",
              " ['entity-framework', 'ado.net'],\n",
              " ['regex'],\n",
              " ['java', 'xml', 'soap', 'namespaces', 'axis'],\n",
              " ['svn', 'tortoisesvn'],\n",
              " ['java', 'xml'],\n",
              " ['database', 'database-design', 'primary-key', 'key'],\n",
              " ['agile', 'scrum', 'development-process', 'process-management'],\n",
              " ['java', 'string'],\n",
              " ['actionscript-3', 'flash', 'open-source'],\n",
              " ['emacs', 'ubuntu', 'colors'],\n",
              " ['c#', 'xna', 'camera'],\n",
              " ['java', 'javascript', 'web-applications', 'audio'],\n",
              " ['flash', 'actionscript'],\n",
              " ['mysql', 'perl', 'stored-procedures'],\n",
              " ['emacs', 'copy-paste'],\n",
              " ['javascript', 'iphone', 'objective-c'],\n",
              " ['php'],\n",
              " ['html', 'user-interface'],\n",
              " ['xcode', 'breakpoints'],\n",
              " ['javascript', 'keyboard', 'keyboard-shortcuts'],\n",
              " ['unicode', 'text', 'utf-8'],\n",
              " ['java', 'gcj'],\n",
              " ['java', 'open-source', 'workflow'],\n",
              " ['c', 'windows', 'winapi'],\n",
              " ['java', 'jvm'],\n",
              " ['ruby', 'pdf', 'doc'],\n",
              " ['java', 'apache', 'axis'],\n",
              " ['asp.net', 'javascript', 'html', 'editor', 'wysiwyg'],\n",
              " ['c', 'unit-testing', 'testing', 'embedded'],\n",
              " ['.net'],\n",
              " ['javascript', 'google-chrome', 'debugging', 'google-chrome-devtools'],\n",
              " ['java', 'garbage-collection'],\n",
              " ['php', 'html', 'wget'],\n",
              " ['rdf', 'semantics', 'semantic-web', 'owl', 'ontology'],\n",
              " ['python', 'gtk', 'pygtk', 'gobject'],\n",
              " ['ruby-on-rails', 'ruby', 'rspec'],\n",
              " ['build-automation', 'makefile'],\n",
              " ['c', 'linux', 'security', 'ubuntu'],\n",
              " ['testing', 'credit-card'],\n",
              " ['c#', 'generics'],\n",
              " ['linux', 'internationalization', 'sed', 'character'],\n",
              " ['objective-c', 'debugging', 'ide'],\n",
              " ['java', 'eclipse', 'tomcat', 'debugging'],\n",
              " ['ruby'],\n",
              " ['code-reuse'],\n",
              " ['debugging'],\n",
              " ['python', 'performance', 'python-internals'],\n",
              " ['c#', 'class', 'struct', 'value-type', 'reference-type'],\n",
              " ['c#', 'asp.net-mvc', 'generics', 'extension-methods'],\n",
              " ['c++', 'c', 'compiler-construction'],\n",
              " ['javascript', 'html', 'css', 'cross-browser', 'textselection'],\n",
              " ['css', 'safari'],\n",
              " ['gnuplot'],\n",
              " ['statistics', 'state-machines', 'hidden-markov-models', 'markov-models'],\n",
              " ['imap', 'maildir'],\n",
              " ['.net', 'performance', 'runtime'],\n",
              " ['security', 'email', 'encryption'],\n",
              " ['algorithm', 'full-text-search'],\n",
              " ['c++', 'memory-management'],\n",
              " ['java', 'maven-2', 'build-process'],\n",
              " ['excel', 'excel-vba'],\n",
              " ['sql', 'algorithm', 'recommendation-engine', 'digg'],\n",
              " ['c++', 'function', 'overloading', 'resolution'],\n",
              " ['javascript', 'firefox', 'greasemonkey'],\n",
              " ['c#', 'winforms', 'cross-platform'],\n",
              " ['winforms', 'textbox', 'scrollbar'],\n",
              " ['java', 'smtp'],\n",
              " ['linux', 'rpm'],\n",
              " ['c#', 'pdf-generation'],\n",
              " ['javascript', 'html', 'internet-explorer', 'drop-down-menu'],\n",
              " ['oracle', 'plsql'],\n",
              " ['python'],\n",
              " ['svn', 'tortoisesvn', 'visualsvn-server'],\n",
              " ['qt', 'window', 'size', 'restore'],\n",
              " ['c#', 'delegates', 'notifications'],\n",
              " ['java', 'soap', 'namespaces', 'axis2', 'wsdl2java'],\n",
              " ['c++', 'c', 'visual-studio', 'debugging'],\n",
              " ['database', 'eclipse', 'ide'],\n",
              " ['python'],\n",
              " ['pdf', 'image', 'tiff'],\n",
              " ['java', 'spring', 'orm', 'jpa', 'transactions'],\n",
              " ['javascript', 'encoding', 'query-string'],\n",
              " ['sql', 'sql-server', 'database', 'modeling'],\n",
              " ['visual-studio-2008',\n",
              "  'deployment',\n",
              "  'installation',\n",
              "  'desktop',\n",
              "  'projects-and-solutions'],\n",
              " ['.net', 'build', 'automation', 'nant'],\n",
              " ['eclipse', 'testing'],\n",
              " ['api-design'],\n",
              " ['asp.net', 'asp-classic'],\n",
              " ['linux', 'terminal'],\n",
              " ['flex', 'ant', 'mxml'],\n",
              " ['python', 'reportlab'],\n",
              " ['c++', 'ide'],\n",
              " ['linux'],\n",
              " ['c', 'http', 'post', 'header'],\n",
              " ['python', 'database', 'google-app-engine', 'bigtable'],\n",
              " ['php', 'string', 'function'],\n",
              " ['tfs',\n",
              "  'continuous-integration',\n",
              "  'build-automation',\n",
              "  'cruisecontrol.net',\n",
              "  'build'],\n",
              " ['com'],\n",
              " ['windows', 'url', 'protocols', 'custom-url-protocol'],\n",
              " ['java', 'finalize', 'phantom-reference'],\n",
              " ['w3c', 'xforms'],\n",
              " ['c#', 'global', 'hotkeys'],\n",
              " ['java', 'unit-testing', 'legacy'],\n",
              " ['html', 'file-upload', 'firefox-3'],\n",
              " ['java', 'jar', 'merge', 'restructuredtext', 'uberjar'],\n",
              " ['networking', 'ip-address'],\n",
              " ['javascript', 'wordpress', 'widget'],\n",
              " ['bash', 'unix', 'shell'],\n",
              " ['.net', 'multithreading', 'garbage-collection'],\n",
              " ['facebook', 'grails'],\n",
              " ['ruby-on-rails', 'ruby', 'grails', 'groovy'],\n",
              " ['c++', 'variables', 'c++11', 'typeof'],\n",
              " ['asp.net', 'internationalization', 'multilingual'],\n",
              " ['linux', 'svn', 'ubuntu', 'proxy'],\n",
              " ['c++', 'boost-serialization'],\n",
              " ['php', 'oracle'],\n",
              " ['editor', 'matlab'],\n",
              " ['fonts', 'true-type-fonts'],\n",
              " ['sql-server', 'powershell'],\n",
              " ['c#', '.net', 'functional-programming'],\n",
              " ['javascript', 'url', 'browser', 'caching', 'filenames'],\n",
              " ['ruby-on-rails', 'url', 'listings'],\n",
              " ['mysql', 'truncate', 'exists'],\n",
              " ['c#', 'java', 'python', 'ruby', 'perl'],\n",
              " ['java', 'spring', 'active-directory', 'ldap'],\n",
              " ['algorithm', 'cluster-analysis', 'hierarchical-clustering'],\n",
              " ['c#', '.net', 'windows-services', 'service', 'mono'],\n",
              " ['java', 'foreach', 'syntactic-sugar'],\n",
              " ['linux', 'bash', 'testing', 'scripting'],\n",
              " ['security', 'openid'],\n",
              " ['linux', 'svn'],\n",
              " ['wpf', 'gis'],\n",
              " ['java', 'string'],\n",
              " ['java', 'jce', 'jsse'],\n",
              " ['xml', 'web-services', 'rest', 'webrequest', 'webresponse'],\n",
              " ['c++', 'exception', 'gcc'],\n",
              " ['windows', 'grep'],\n",
              " ['regex', 'perl'],\n",
              " ['c++', 'database', 'automated-tests', 'integration-testing'],\n",
              " ['svn'],\n",
              " ['c#', '.net', 'exception'],\n",
              " ['deployment', 'reporting-services'],\n",
              " ['mysql', 'database', 'recovery'],\n",
              " ['c#', '.net'],\n",
              " ['c#', 'asp.net', 'visual-studio', 'app-code'],\n",
              " ['ruby', 'metaprogramming'],\n",
              " ['google-docs'],\n",
              " ['sql-server', 'database', 'transactions'],\n",
              " ['.net', 'nhibernate', 'desktop-application'],\n",
              " ['c#', 'asp.net', 'css', 'design-patterns'],\n",
              " ['algorithm', 'nlp', 'word-frequency'],\n",
              " ['bash', 'shell', 'escaping'],\n",
              " ['mysql'],\n",
              " ['.net', 'converter'],\n",
              " ['sql', 'tree'],\n",
              " ['database', 'scalability', 'sharding'],\n",
              " ['python', 'prettify'],\n",
              " ['c#', 'java', 'python', 'file-format', 'quicken'],\n",
              " ['wpf'],\n",
              " ['python'],\n",
              " ['version-control', 'virtual-machine', 'jira'],\n",
              " ['.net', 'winforms', 'configuration', 'settings'],\n",
              " ['python', 'api', 'sockets', 'ssl', 'gmail'],\n",
              " ['javascript', 'jquery', 'html', 'brokenimage'],\n",
              " ['vb.net', 'sql-server-2008', 'tsql', 'sql-injection', 'language-features'],\n",
              " ['c++', 'c', 'coding-style'],\n",
              " ['windows', 'scheduling'],\n",
              " ['.net', 'wpf', 'xaml'],\n",
              " ['python', 'xml', 'streaming'],\n",
              " ['c#', 'managed-c++'],\n",
              " ['eclipse', 'tomcat', 'java-ee', 'workspace'],\n",
              " ['python', 'user-interface', 'api'],\n",
              " ['.net', 'castle-windsor', 'aop'],\n",
              " ['python', 'http', 'zip'],\n",
              " ['wcf', 'silverlight', 'exception'],\n",
              " ['dns', 'reverse-proxy', 'subfolder'],\n",
              " ['sql', 'mysql', 'database'],\n",
              " ['c++', 'macros', 'c-preprocessor'],\n",
              " ['windows-vista', 'uac'],\n",
              " ['jquery', 'ajax'],\n",
              " ['function', 'matlab', 'dependencies', 'code-analysis'],\n",
              " ['eclipse', 'ftp', 'eclipse-pdt'],\n",
              " ['arrays', 'perl', 'hash'],\n",
              " ['c++', 'c'],\n",
              " ['c#', '.net', 'reflection', '.net-attributes'],\n",
              " ['flex', 'actionscript', 'blazeds', 'puremvc'],\n",
              " ['cookies', 'state'],\n",
              " ['java', 'servlets'],\n",
              " ['c++', 'oop', 'visual-c++', 'constructor'],\n",
              " ['visual-studio', 'version-control', 'crash', 'visual-sourcesafe'],\n",
              " ['c++', 'optimization', 'stl', 'stdmap'],\n",
              " ['java', 'maven-2', 'copy', 'runtime', 'dependencies'],\n",
              " ['windows', 'version-control', 'usb-drive'],\n",
              " ['java', 'eclipse', 'hotkeys'],\n",
              " ['osx', 'focus', 'mouse'],\n",
              " ['java', 'spring'],\n",
              " ['c', 'compiler-construction'],\n",
              " ['eclipse', 'file', 'hidden'],\n",
              " ['c', 'undefined-behavior', 'c++-faq', 'strict-aliasing', 'type-punning'],\n",
              " ['java', 'sockets', 'localhost', 'loopback', 'serversocket'],\n",
              " ['php', 'xml', 'xml-serialization'],\n",
              " ['blogs'],\n",
              " ['c++', 'oop'],\n",
              " ['c#', '.net', 'events', 'delegates'],\n",
              " ['eclipse', 'osx', 'eclipse-3.4', 'ganymede', 'text-comparison'],\n",
              " ['windows', 'winapi', 'wmi', 'uniqueidentifier'],\n",
              " ['linux', 'symlink'],\n",
              " ['python', 'datetime', 'time', 'math'],\n",
              " ['web-services', 'imdb'],\n",
              " ['visual-studio', 'text-editor', 'hidden-features'],\n",
              " ['windows', 'process', 'process-management'],\n",
              " ['.net', 'wpf', 'xaml', 'xpath', 'code-behind'],\n",
              " ['language-agnostic', 'naming-conventions'],\n",
              " ['java', 'csv'],\n",
              " ['documentation'],\n",
              " ['.net', 'xml-rpc'],\n",
              " ['visual-studio', 'vim', 'errorformat'],\n",
              " ['php', 'url', 'get'],\n",
              " ['c#', 'silverlight', '.net-3.5', 'farseer'],\n",
              " ['css', 'margin'],\n",
              " ['c#', 'hash', 'internals'],\n",
              " ['perl', 'install', 'cpan'],\n",
              " ['documentation', 'project-management', 'process'],\n",
              " ['c#', 'c++', 'iphone', 'objective-c', 'development-environment'],\n",
              " ['asp.net', 'jquery', 'superfish'],\n",
              " ['database', 'refactoring', 'schema'],\n",
              " ['python', 'algorithm', 'permutation', 'combinatorics', 'python-2.5'],\n",
              " ['wpf', 'validation'],\n",
              " ['sql', 'comparison', 'schema', 'sqlanywhere'],\n",
              " ['eclipse', 'eclipse-wtp'],\n",
              " ['c#', 'string', 'parsing', 'guid'],\n",
              " ['database', 'orm', 'haskell'],\n",
              " ['visual-studio', 'windbg'],\n",
              " ['sql', 'sql-server', 'database-design'],\n",
              " ['web-services', 'scala', 'f#', 'functional-programming'],\n",
              " ['c#', '.net'],\n",
              " ['sql-server', 'database'],\n",
              " ['.net', 'visual-studio'],\n",
              " ['java', 'file', 'copy'],\n",
              " ['unit-testing', 'tdd'],\n",
              " ['java-ee'],\n",
              " ['.net', 'attributes', 'internalsvisibleto'],\n",
              " ['ruby', 'debugging', 'exception', 'traceback'],\n",
              " ['asp.net', 'treeview'],\n",
              " ['http', 'post', 'put'],\n",
              " ['java', 'timezone', 'javamail'],\n",
              " ['asp.net-mvc'],\n",
              " ['asp.net', 'osx', 'mono', 'developer-machine'],\n",
              " ['apache', 'webserver', 'lamp', 'web-farm'],\n",
              " ['internet-explorer', 'prototypejs', 'scriptaculous', 'autocomplete'],\n",
              " ['windows', 'svn', 'mfc', 'versioninfo'],\n",
              " ['c', 'linux', 'unit-testing', 'gcc', 'memory-management'],\n",
              " ['php', 'image', 'upload', 'gd'],\n",
              " ['.net', 'asp.net', 'dotnetnuke', 'scheduler', 'server.mappath'],\n",
              " ['ruby-on-rails', 'smtp', 'gmail', 'actionmailer'],\n",
              " ['flash', 'actionscript', 'cookies'],\n",
              " ['c#', 'wpf', 'windows', 'winforms'],\n",
              " ['gcc', 'optimization', 'compiler-construction', 'macros', 'likely-unlikely'],\n",
              " ['perl', 'lazylist', 'source-filter'],\n",
              " ['unit-testing'],\n",
              " ['.net', 'ms-word', 'ms-office', 'add-in'],\n",
              " ['java', 'unit-testing'],\n",
              " ['.net', 'asp.net', 'iis-6'],\n",
              " ['php', 'oracle'],\n",
              " ['emulator', 'machine-language', '6502'],\n",
              " ['php', 'smtp', 'email'],\n",
              " ['java', 'metaprogramming'],\n",
              " ['svn'],\n",
              " ['python', 'file'],\n",
              " ['c++', 'function-pointers'],\n",
              " ['javascript', 'syntax-highlighting'],\n",
              " ['html', 'css', 'fieldset', 'legend'],\n",
              " ['javascript', 'function', 'currying', 'partial-application'],\n",
              " ['c++', 'performance', 'abstract-class', 'virtual-functions'],\n",
              " ['delphi', 'oledb', 'ado'],\n",
              " ['asp.net', 'iis-6', 'performancecounter'],\n",
              " ['c#', 'silverlight', 'reflection', 'anonymous-objects'],\n",
              " ['c++', 'variables', 'pointers', 'reference'],\n",
              " ['scheme'],\n",
              " ['php', 'ajax', 'chat', 'xmpp'],\n",
              " ['python', 'hash', 'dictionary', 'hashmap', 'hashtable'],\n",
              " ['javascript', 'iphone', 'compression'],\n",
              " ['project-management'],\n",
              " ['asp.net-mvc', 'testing', 'view', 'rendering'],\n",
              " ['validation', 'utf-8', 'internationalization'],\n",
              " ['java', 'tcp', 'sockets', 'udp'],\n",
              " ['label', 'branch', 'perforce', 'p4v'],\n",
              " ['algorithm', 'geolocation', 'distance'],\n",
              " ['c#', 'windows', 'windows-vista', 'windows-xp'],\n",
              " ['c#', 'vb.net', 'process', 'kill'],\n",
              " ['msbuild', 'continuous-integration', 'teamcity'],\n",
              " ['unix', 'shell', 'emacs'],\n",
              " ['java', 'linux', 'redhat'],\n",
              " ['java', 'php', 'authentication', 'curl'],\n",
              " ['c#', 'generics', 'syntax'],\n",
              " ['vim'],\n",
              " ['http', 'browser', 'cookies'],\n",
              " ['python', 'math', 'syntax', 'operators'],\n",
              " ['java', 'multithreading', 'concurrency'],\n",
              " ['django', 'autofield'],\n",
              " ['asp.net'],\n",
              " ['version-control', 'build-process', 'build-automation', 'clearcase'],\n",
              " ['project-management', 'charts'],\n",
              " ['c#', '.net', 'winforms', 'fullscreen', 'keyboard-hook'],\n",
              " ['sql', 'oracle', 'sqlplus'],\n",
              " ['python', 'python-idle', 'komodo', 'pywin'],\n",
              " ['python', 'numpy', 'subclass', 'slice', 'ellipsis'],\n",
              " ['design'],\n",
              " ['gcc', 'assembly', 'x86', 'gas'],\n",
              " ['ajax', 'security', 'ssl', 'cookies'],\n",
              " ['c#', 'events'],\n",
              " ['linux', 'email', 'redhat'],\n",
              " ['database', 'oracle', 'business-logic'],\n",
              " ['sql', 'tsql'],\n",
              " ['javascript', 'silverlight'],\n",
              " ['java', 'autocomplete', 'lucene'],\n",
              " ['python', 'memory-management', 'short'],\n",
              " ['java', 'security'],\n",
              " ['web-applications', 'favicon'],\n",
              " ['unit-testing', 'software-quality'],\n",
              " ['oracle', 'triggers'],\n",
              " ['c', 'performance', 'algorithm', 'signal-processing'],\n",
              " ['c#', 'syntax', 'types', 'nullable'],\n",
              " ['java', 'eclipse', 'plugins', 'eclipse-plugin', 'jad'],\n",
              " ['java', 'eclipse'],\n",
              " ['filesystems', 'naming'],\n",
              " ['.net', 'linq', 'string'],\n",
              " ['sql-server', 'command-line', 'scripting', 'backup'],\n",
              " ['.net'],\n",
              " ['.net', 'reflection', 'assemblies', 'reflection.emit', 'cil'],\n",
              " ['.net', 'clr', 'bytecode', 'il'],\n",
              " ['.net', 'inversion-of-control', 'mef'],\n",
              " ['c#', 'unit-testing', 'tdd', 'rhino-mocks'],\n",
              " ['php', 'mysql', 'arrays', 'object'],\n",
              " ['ruby-on-rails', 'deployment', 'capistrano', 'mongrel'],\n",
              " ['ruby-on-rails', 'asynchronous'],\n",
              " ['wpf', 'diagram'],\n",
              " ['java', 'image', 'awt', 'toolkit', 'javax.imageio'],\n",
              " ['svn', 'mantis', 'scmbug'],\n",
              " ['web-applications', 'deployment', 'automation'],\n",
              " ['c++', 'c++-faq'],\n",
              " ['oop', 'polymorphism', 'multiple-dispatch', 'double-dispatch'],\n",
              " ['java', 'unit-testing', 'testing', 'open-source', 'code-generation'],\n",
              " ['mysql'],\n",
              " ['c#', '.net', 'sql', 'linq', 'lambda'],\n",
              " ['c++', 'boost'],\n",
              " ['c++', 'stdmap'],\n",
              " ['perl', 'email', 'utf-8', 'header'],\n",
              " ['javascript', 'performance', 'properties', 'count', 'key'],\n",
              " ['functional-programming', 'clean-language'],\n",
              " ['.net', 'wpf', 'performance', 'user-interface', 'ui-virtualization'],\n",
              " ['java', 'java-web-start'],\n",
              " ['svn', 'undo', 'cherry-pick'],\n",
              " ['postgresql'],\n",
              " ['c#', 'algorithm', 'image-processing'],\n",
              " ['architecture', 'soa', 'uddi'],\n",
              " ['oracle', 'jdbc', 'credentials'],\n",
              " ['f#', 'functional-programming', 'lisp'],\n",
              " ['firefox', 'dom', 'safari', 'google-chrome', 'clipboard'],\n",
              " ['haskell', 'coding-style'],\n",
              " ['c++', 'c', 'gcc', 'extern-c'],\n",
              " ['mysql', 'optimization'],\n",
              " ['software-engineering', 'design-patterns'],\n",
              " ['windows', 'assembly', 'build', 'driver', 'wdk'],\n",
              " ['3d', 'geometry', 'reverseprojection'],\n",
              " ['ruby-on-rails', 'ruby'],\n",
              " ['com', 'windows-vista', 'thumbnails'],\n",
              " ['php', 'eol'],\n",
              " ['javascript', 'jquery', 'xml', 'namespaces'],\n",
              " ['software-engineering', 'diagramming'],\n",
              " ['c#', '.net', 'url', 'path'],\n",
              " ['language-agnostic',\n",
              "  'exception',\n",
              "  'testing',\n",
              "  'assertions',\n",
              "  'defensive-programming'],\n",
              " ['tomcat', 'jdbc', 'configuration'],\n",
              " ['ruby-on-rails', 'ruby'],\n",
              " ['c#', 'sql-server'],\n",
              " ['firefox', 'build-automation', 'certificate', 'code-signing'],\n",
              " ['asp.net', 'drop-down-menu', 'custom-server-controls', 'webforms'],\n",
              " ['xml', 'web-services'],\n",
              " ['gcc', 'linker', 'atomic'],\n",
              " ['c#', 'asp.net'],\n",
              " ['java', 'ruby-on-rails', 'migration'],\n",
              " ['c#', 'windows', 'winapi', 'icons', 'utility'],\n",
              " ['asp.net-mvc', 'subsonic'],\n",
              " ['java', 'web-services', 'cxf'],\n",
              " ['c#', '.net', 'windows-services', 'login'],\n",
              " ['c#', '.net', 'multithreading', 'dispose', 'thread-static'],\n",
              " ['c#', 'castle-windsor'],\n",
              " ['c#', '.net', 'volatile'],\n",
              " ['javascript', 'jquery', 'ajax', 'asynchronous'],\n",
              " ['perforce'],\n",
              " ['data-access-layer'],\n",
              " ['algorithm', 'computer-science', 'binary-tree', 'theory', 'avl-tree'],\n",
              " ['c#', '.net'],\n",
              " ['ruby-on-rails', 'ruby'],\n",
              " ['python', 'svn', 'apache'],\n",
              " ['svn', 'version-control', 'open-source', 'branch'],\n",
              " ['eclipse', 'eclipse-plugin', 'integration', 'stackexchange-api'],\n",
              " ['version-control'],\n",
              " ['c#', '.net', 'xml', 'xml-namespaces', 'xmldocument'],\n",
              " ['c#', 'performance'],\n",
              " ['c#', 'refactoring', 'merge', 'devtools'],\n",
              " ['wolfram-mathematica'],\n",
              " ['sql', 'sql-server', 'sql-execution-plan'],\n",
              " ['security', 'windows-server-2003', 'nsis'],\n",
              " ['.net', 'asp.net', 'visual-studio', 'svn'],\n",
              " ['sql', 'database', 'database-design', 'indexing'],\n",
              " ['java', 'tomcat', 'logging', 'log4j'],\n",
              " ['.net', 'xml', 'vb.net', 'xslt', 'split'],\n",
              " ['java', 'user-interface', 'swt'],\n",
              " ['productivity', 'environment'],\n",
              " ['c++', 'const-correctness'],\n",
              " ['c#', '.net', 'multithreading', 'parsing', 'networking'],\n",
              " ['java', 'design-patterns', 'naming-conventions', 'naming', 'code-smell'],\n",
              " ['language-agnostic'],\n",
              " ['c#', 'unit-testing', 'mocking', 'virtual-functions'],\n",
              " ['algorithm', 'theory', 'random'],\n",
              " ['asp.net', 'multithreading', 'web-config', 'processmodel'],\n",
              " ['svn', 'web-applications'],\n",
              " ['math'],\n",
              " ['sql', 'ruby-on-rails', 'named-scope'],\n",
              " ['asp.net', 'iis', 'console.writeline'],\n",
              " ['java', 'mysql', 'linux', 'hosting', 'alfresco'],\n",
              " ['c#', 'firefox', 'automation'],\n",
              " ['winapi', 'mfc'],\n",
              " ['python', 'graphics', 'rgb'],\n",
              " ['installer', 'installation', 'wix', 'windows-installer', 'wix3'],\n",
              " ['c++', 'stdmap'],\n",
              " ['php', 'session', 'guid'],\n",
              " ['python', 'vim'],\n",
              " ['html', 'internet-explorer', 'xhtml', 'html-table'],\n",
              " ['c#', '.net'],\n",
              " ['openlaszlo'],\n",
              " ['python'],\n",
              " ['c#', '.net', 'xml', 'encoding', 'iso-8859-1'],\n",
              " ['algorithm', 'big-o', 'load-balancing', 'cluster-computing'],\n",
              " ['sql', 'database', 'truncate'],\n",
              " ['sql', 'sql-server'],\n",
              " ['java', 'nan', 'jvm', 'crash', 'swt'],\n",
              " ['svn', 'version-control'],\n",
              " ['javascript', 'data-protection'],\n",
              " ['c#', '.net', 'asp.net'],\n",
              " ['sql-server'],\n",
              " ['installer', 'nsis'],\n",
              " ['.net', 'visual-studio', 'compiler-construction'],\n",
              " ['c#', 'windows', 'windows-installer'],\n",
              " ['sql-server', 'ssis', 'ftp'],\n",
              " ['java', 'syntax', 'language-design'],\n",
              " ['.net', 'wpf', 'reflection'],\n",
              " ['.net', 'windows', 'visual-studio', 'visual-studio-2008', 'version-control'],\n",
              " ['java', 'performance', 'loops', 'try-catch'],\n",
              " ['haskell', 'monads', 'memoization'],\n",
              " ['c', 'struct', 'equality'],\n",
              " ['shell', 'unix', 'command-line', 'ksh', 'editing'],\n",
              " ['haskell', 'cabal', 'hackage'],\n",
              " ['javascript', 'jquery'],\n",
              " ['c#', 'lambda'],\n",
              " ['.net', 'versioning'],\n",
              " ['java', 'parameters', 'methods', 'enums'],\n",
              " ['web-applications', 'frameworks', 'comparison'],\n",
              " ['c#', 'winforms', 'user-controls'],\n",
              " ['comments', 'coding-style', 'code-comments'],\n",
              " ['mathematical-optimization',\n",
              "  'linear-programming',\n",
              "  'cplex',\n",
              "  'gurobi',\n",
              "  'convex-optimization'],\n",
              " ['svn', 'version-control', 'synchronization'],\n",
              " ['algorithm', 'graph-theory', 'clique'],\n",
              " ['php', 'zend-framework', 'cron', 'command-line-interface'],\n",
              " ['java', 'text-to-speech'],\n",
              " ['ms-access'],\n",
              " ['gcc', 'linker'],\n",
              " ['c++', 'algorithm', 'bin-packing'],\n",
              " ['perl', 'web-applications', 'installation'],\n",
              " ['mysql', 'encryption'],\n",
              " ['computer-science'],\n",
              " ['iphone', 'cocoa-touch', 'image', 'bitmap'],\n",
              " ['theory', 'p2p', 'dht'],\n",
              " ['c#'],\n",
              " ['interface', 'touchscreen'],\n",
              " ['javascript', 'jquery', 'ajax'],\n",
              " ['c#', 'multithreading'],\n",
              " ['c#', 'java', 'c++', 'performance', 'bytecode'],\n",
              " ['c++', 'python', 'c'],\n",
              " ['c#', 'deployment', 'installation', 'clickonce'],\n",
              " ['deployment',\n",
              "  'windows-mobile',\n",
              "  'visual-studio-2005',\n",
              "  'cab',\n",
              "  'desktop-shortcut'],\n",
              " ['javascript', 'jquery'],\n",
              " ['linux', 'security', 'apache', 'debian', 'sysadmin'],\n",
              " ['c++', 'coding-style', 'documentation', 'standards'],\n",
              " ['code-reuse'],\n",
              " ['image', '2d', 'file-format', 'sprite'],\n",
              " ['ocaml', 'stack-trace'],\n",
              " ['java', 'android', 'eclipse', 'visual-studio', 'ide'],\n",
              " ['windows', 'wallpaper'],\n",
              " ['java', 'c++', 'c', 'd'],\n",
              " ['.net', 'html', 'rendering', 'screenshot', 'webpage'],\n",
              " ['c++', 'garbage-collection', 'c++11'],\n",
              " ['sql-server', 'tsql', 'table-variable'],\n",
              " ['ruby', 'regex', 'primes'],\n",
              " ['css'],\n",
              " ['ide', '3d', 'hlsl'],\n",
              " ['python', 'eclipse', 'pylons', 'pydev', 'pyramid'],\n",
              " ['c++', 'visual-studio', 'visual-studio-2008', 'productivity', 'readability'],\n",
              " ['plot', 'gnuplot'],\n",
              " ['java', 'inputstream', 'bufferedinputstream'],\n",
              " ['c++', 'iterator'],\n",
              " ['c++', 'visual-studio', 'gcc', 'cmake', 'precompiled-headers'],\n",
              " ['jquery', 'asp.net'],\n",
              " ['c#', '.net', 'visual-studio', 'visual-studio-2008'],\n",
              " ['sql', 'tsql', 'stored-procedures', 'sorting'],\n",
              " ['visual-studio', 'ide', 'customization'],\n",
              " ['c++', 'c', 'operators', 'comma-operator'],\n",
              " ['ruby', 'continuations'],\n",
              " ['php', 'editor', 'beautifier'],\n",
              " ['mysql'],\n",
              " ['c++', 'linux', 'multithreading', 'atomic'],\n",
              " ['c', 'popen', 'fgets'],\n",
              " ['version-control', 'grails'],\n",
              " ['sql', 'sql-server', 'tsql'],\n",
              " ['theory', 'cluster-analysis', 'neighbours'],\n",
              " ['eclipse', 'productivity', 'mylyn'],\n",
              " ['.net', 'performance', 'collections', 'list', 'hash'],\n",
              " ['ruby-on-rails', 'console'],\n",
              " ['c#', 'linux', 'ide', 'mono'],\n",
              " ['.net', 'oop'],\n",
              " ['java', 'networking', 'sockets', 'tcp'],\n",
              " ['php', 'garbage-collection'],\n",
              " ['variable-assignment', 'condition'],\n",
              " ['c#', 'architecture', 'open-source', 'domain-driven-design'],\n",
              " ['java', 'concatenation', 'stringbuffer'],\n",
              " ['.net', 'reflection'],\n",
              " ['python', 'types'],\n",
              " ['sql-server', 'pivot'],\n",
              " ['.net', 'open-source', 'ftp', 'ssh', 'sftp'],\n",
              " ['scrum'],\n",
              " ['java', 'flex', 'rest'],\n",
              " ['.net', 'windows', 'taskbar'],\n",
              " ['user-interface', 'html-form', 'data-entry'],\n",
              " ['asp.net-mvc', 'elmah'],\n",
              " ['c', 'printf'],\n",
              " ['unit-testing', 'nunit', 'parallel-processing'],\n",
              " ['c#', 'encryption', 'dns', 'roaming'],\n",
              " ['c', 'gcc', 'compiler-errors'],\n",
              " ...]"
            ]
          },
          "metadata": {
            "tags": []
          },
          "execution_count": 40
        }
      ]
    },
    {
      "cell_type": "code",
      "metadata": {
        "colab": {
          "base_uri": "https://localhost:8080/"
        },
        "id": "z2ecZUoS4uvN",
        "outputId": "b5ebf13c-a994-48b4-f0b0-af0bb754e6d4"
      },
      "source": [
        "all_tags = [item for sublist in new_df['Tags'] for item in sublist]\n",
        "all_tags"
      ],
      "execution_count": null,
      "outputs": [
        {
          "output_type": "execute_result",
          "data": {
            "text/plain": [
              "['flex',\n",
              " 'actionscript-3',\n",
              " 'air',\n",
              " 'svn',\n",
              " 'tortoisesvn',\n",
              " 'branch',\n",
              " 'branching-and-merging',\n",
              " 'sql',\n",
              " 'asp.net',\n",
              " 'sitemap',\n",
              " 'algorithm',\n",
              " 'language-agnostic',\n",
              " 'colors',\n",
              " 'color-space',\n",
              " 'c#',\n",
              " '.net',\n",
              " 'scripting',\n",
              " 'compiler-construction',\n",
              " 'c++',\n",
              " 'oop',\n",
              " 'class',\n",
              " 'nested-class',\n",
              " '.net',\n",
              " 'web-services',\n",
              " 'sql-server',\n",
              " 'sql-server-2005',\n",
              " 'deployment',\n",
              " 'release-management',\n",
              " 'c#',\n",
              " 'visual-studio',\n",
              " 'versioning',\n",
              " 'windows',\n",
              " 'visual-studio',\n",
              " 'registry',\n",
              " 'installation',\n",
              " 'c#',\n",
              " 'database',\n",
              " 'loops',\n",
              " 'connection',\n",
              " 'c#',\n",
              " 'asp.net',\n",
              " 'c#',\n",
              " 'file-locking',\n",
              " 'unix',\n",
              " 'size',\n",
              " 'svn',\n",
              " 'msbuild',\n",
              " 'cruisecontrol.net',\n",
              " 'web-applications',\n",
              " 'dns',\n",
              " 'subdomain',\n",
              " 'account',\n",
              " '.net',\n",
              " '.net-3.5',\n",
              " 'msbuild',\n",
              " 'nant',\n",
              " 'sql-server',\n",
              " 'windows-server-2008',\n",
              " 'sql-server',\n",
              " 'sql-server-2008',\n",
              " 'sql-server',\n",
              " 'c#',\n",
              " '.net',\n",
              " 'unit-testing',\n",
              " 'testing',\n",
              " 'svn',\n",
              " 'version-control',\n",
              " 'sql',\n",
              " 'database',\n",
              " 'postgresql',\n",
              " 'stored-procedures',\n",
              " 'triggers',\n",
              " 'sql',\n",
              " 'sql-server',\n",
              " 'c#',\n",
              " 'dataset',\n",
              " 'datatable',\n",
              " 'asp-classic',\n",
              " 'vbscript',\n",
              " 'html',\n",
              " 'autocomplete',\n",
              " 'c',\n",
              " 'architecture',\n",
              " 'data-structures',\n",
              " 'asp.net',\n",
              " 'flash',\n",
              " 'video',\n",
              " 'embed',\n",
              " 'powershell',\n",
              " 'cmdlets',\n",
              " 'optimization',\n",
              " 'setter',\n",
              " 'getter',\n",
              " 'verification',\n",
              " 'winforms',\n",
              " 'error-handling',\n",
              " 'user-controls',\n",
              " 'c#',\n",
              " 'colors',\n",
              " 'sql',\n",
              " 'sql-server-2005',\n",
              " 'paging',\n",
              " 'php',\n",
              " 'mysql',\n",
              " 'security',\n",
              " 'cracking',\n",
              " 'hijacked',\n",
              " 'c++',\n",
              " 'visual-studio',\n",
              " 'unit-testing',\n",
              " 'testing',\n",
              " 'fogbugz',\n",
              " 'c++',\n",
              " 'visual-studio',\n",
              " 'algorithm',\n",
              " 'language-agnostic',\n",
              " 'sql-server',\n",
              " 'full-text-search',\n",
              " 'sql-server',\n",
              " 'sql-server-2005',\n",
              " 'math',\n",
              " 'ruby',\n",
              " 'rake',\n",
              " 'command-line-interface',\n",
              " 'java',\n",
              " 'code-coverage',\n",
              " 'static-analysis',\n",
              " 'sql',\n",
              " 'sql-server',\n",
              " 'database',\n",
              " 'diagram',\n",
              " 'ado.net',\n",
              " 'asp.net',\n",
              " 'php',\n",
              " 'web-services',\n",
              " 'visual-studio',\n",
              " 'wsdl',\n",
              " 'c#',\n",
              " '.net',\n",
              " 'java',\n",
              " 'jni',\n",
              " 'java-web-start',\n",
              " 'nativelibrary',\n",
              " 'version-control',\n",
              " 'dvcs',\n",
              " 'c#',\n",
              " 'user-interface',\n",
              " 'directx',\n",
              " 'xml',\n",
              " 'xml-signature',\n",
              " 'regex',\n",
              " 'ansi',\n",
              " 'html',\n",
              " 'email',\n",
              " 'forms',\n",
              " 'confirm',\n",
              " 'c#',\n",
              " '.net',\n",
              " 'sharepoint',\n",
              " 'assemblies',\n",
              " 'sql-server',\n",
              " 'sql-server',\n",
              " 'indexing',\n",
              " 'architecture',\n",
              " 'n-tier',\n",
              " 'authentication',\n",
              " 'web-applications',\n",
              " 'account',\n",
              " 'svn',\n",
              " 'subclipse',\n",
              " 'sql',\n",
              " 'mysql',\n",
              " 'foreign-keys',\n",
              " '.net',\n",
              " 'redistributable',\n",
              " 'asp.net',\n",
              " 'logging',\n",
              " 'permissions',\n",
              " 'svn',\n",
              " 'continuous-integration',\n",
              " 'linux',\n",
              " 'ssh',\n",
              " 'unit-testing',\n",
              " 'user-interface',\n",
              " 'selenium',\n",
              " 'javascript',\n",
              " 'firefox',\n",
              " 'memory',\n",
              " 'cpu',\n",
              " 'java',\n",
              " 'windows',\n",
              " 'swt',\n",
              " 'executable',\n",
              " 'software-distribution',\n",
              " 'c++',\n",
              " 'file',\n",
              " 'io',\n",
              " 'css',\n",
              " 'validation',\n",
              " 'xhtml',\n",
              " 'cross-browser',\n",
              " 'w3c',\n",
              " 'c#',\n",
              " '.net',\n",
              " 'windows-services',\n",
              " 'printing',\n",
              " 'linq',\n",
              " '.net-3.5',\n",
              " 'plugins',\n",
              " 'extensibility',\n",
              " 'ant',\n",
              " 'build-process',\n",
              " 'c#',\n",
              " 'data-structures',\n",
              " 'collections',\n",
              " 'objective-c',\n",
              " 'osx',\n",
              " 'webcam',\n",
              " 'isight',\n",
              " 'architecture',\n",
              " 'c',\n",
              " 'function',\n",
              " 'pointers',\n",
              " 'syntax',\n",
              " 'parameters',\n",
              " 'lisp',\n",
              " 'scheme',\n",
              " '.net',\n",
              " 'sql',\n",
              " 'linq',\n",
              " 'pagination',\n",
              " 'string',\n",
              " 'optimization',\n",
              " 'language-agnostic',\n",
              " 'compiler-construction',\n",
              " 'asp.net',\n",
              " 'asp.net-mvc',\n",
              " 'validation',\n",
              " 'binding',\n",
              " 'dynamic-binding',\n",
              " 'static-binding',\n",
              " 'database',\n",
              " 'hardware',\n",
              " 'storage',\n",
              " 'raid',\n",
              " 'disk',\n",
              " 'regex',\n",
              " 'c#',\n",
              " '.net-3.5',\n",
              " '.net-2.0',\n",
              " 'remoting',\n",
              " 'rpc',\n",
              " 'c',\n",
              " 'linux',\n",
              " '.net',\n",
              " 'n-tier',\n",
              " 'c++',\n",
              " 'emacs',\n",
              " 'java',\n",
              " '.net',\n",
              " 'ikvm',\n",
              " 'gnu-classpath',\n",
              " 'php',\n",
              " 'apache',\n",
              " 'upload',\n",
              " 'c++',\n",
              " 'python',\n",
              " 'unit-testing',\n",
              " 'code-generation',\n",
              " 'swig',\n",
              " 'c',\n",
              " 'architecture',\n",
              " 'pointers',\n",
              " 'asp.net',\n",
              " 'ajax',\n",
              " 'optimization',\n",
              " 'performance',\n",
              " 'sql-server',\n",
              " 'sql-server-2005',\n",
              " 'design-patterns',\n",
              " 'fileparse',\n",
              " 'internet-explorer',\n",
              " 'unicode',\n",
              " 'msbuild',\n",
              " 'virtualization',\n",
              " 'hyper-v',\n",
              " 'java',\n",
              " 'sockets',\n",
              " 'ip',\n",
              " 'router',\n",
              " 'asp.net',\n",
              " 'error-handling',\n",
              " 'nlog',\n",
              " 'health-monitoring',\n",
              " 'asp.net',\n",
              " 'performance',\n",
              " '.net-3.5',\n",
              " 'content-management-system',\n",
              " 'n2',\n",
              " 'vbscript',\n",
              " 'wmi',\n",
              " 'java',\n",
              " 'php',\n",
              " 'jsp',\n",
              " 'tomcat',\n",
              " 'resources',\n",
              " 'dataset',\n",
              " 'mysql',\n",
              " 'database',\n",
              " 'denormalization',\n",
              " 'c#',\n",
              " '.net',\n",
              " 'vb.net',\n",
              " 'c#',\n",
              " '.net',\n",
              " 'multithreading',\n",
              " 'exception',\n",
              " 'continuous-integration',\n",
              " 'bug-tracking',\n",
              " 'fogbugz',\n",
              " 'cruisecontrol.rb',\n",
              " 'iis-7',\n",
              " 'cruisecontrol.net',\n",
              " 'version-control',\n",
              " 'sql',\n",
              " 'sql-server',\n",
              " 'stored-procedures',\n",
              " 'upsert',\n",
              " 'php',\n",
              " 'optimization',\n",
              " 'performance',\n",
              " 'unit-testing',\n",
              " 'testing',\n",
              " 'process',\n",
              " 'powershell',\n",
              " 'batch-file',\n",
              " 'opengl',\n",
              " 'textures',\n",
              " 'colors',\n",
              " 'rgb',\n",
              " 'monochrome',\n",
              " 'opengl',\n",
              " 'glut',\n",
              " 'menu',\n",
              " 'vim',\n",
              " 'editor',\n",
              " 'vi',\n",
              " 'linq',\n",
              " 'linq-to-sql',\n",
              " 'stored-procedures',\n",
              " '.net',\n",
              " 'attributes',\n",
              " 'versions',\n",
              " 'c++',\n",
              " 'c',\n",
              " 'c-preprocessor',\n",
              " 'javascript',\n",
              " 'web-applications',\n",
              " 'deployment',\n",
              " 'asp.net-mvc',\n",
              " 'asp.net-mvc-routing',\n",
              " 'java',\n",
              " 'oop',\n",
              " 'design',\n",
              " 'architecture',\n",
              " 'c#',\n",
              " 'outlook',\n",
              " 'email',\n",
              " 'message',\n",
              " 'msg',\n",
              " 'c#',\n",
              " 'string',\n",
              " 'enums',\n",
              " 'java',\n",
              " 'spring',\n",
              " 'osgi',\n",
              " 'c#',\n",
              " 'hash',\n",
              " '.net',\n",
              " 'build-process',\n",
              " 'nant',\n",
              " 'c#',\n",
              " 'sql-server',\n",
              " 'tsql',\n",
              " 'ado.net',\n",
              " 'sql-server-2000',\n",
              " 'data-structures',\n",
              " 'haskell',\n",
              " 'types',\n",
              " 'functional-programming',\n",
              " 'algebraic-data-types',\n",
              " 'unit-testing',\n",
              " 'c',\n",
              " 'process',\n",
              " 'c#',\n",
              " '.net',\n",
              " 'python',\n",
              " 'zip',\n",
              " 'language-agnostic',\n",
              " 'opengl',\n",
              " 'glew',\n",
              " '.net-3.5',\n",
              " 'intellisense',\n",
              " 'knowledge-management',\n",
              " 'parsing',\n",
              " 'monads',\n",
              " 'mysql',\n",
              " 'powershell',\n",
              " 'configuration-files',\n",
              " 'version-control',\n",
              " 'ankhsvn',\n",
              " 'ruby-on-rails',\n",
              " 'security',\n",
              " 'deployment',\n",
              " '.net',\n",
              " 'open-source',\n",
              " 'mono',\n",
              " 'open-source',\n",
              " 'licensing',\n",
              " 'javascript',\n",
              " 'asp.net',\n",
              " 'gridview',\n",
              " 'infragistics',\n",
              " 'ultrawebgrid',\n",
              " 'objective-c',\n",
              " 'xcode',\n",
              " 'osx',\n",
              " 'refactoring',\n",
              " '.net',\n",
              " 'vb.net',\n",
              " 'ms-word',\n",
              " 'rtf',\n",
              " 'java',\n",
              " 'swing',\n",
              " 'jpanel',\n",
              " '.net',\n",
              " 'flex',\n",
              " 'flash',\n",
              " 'silverlight',\n",
              " 'c#',\n",
              " 'sql',\n",
              " 'linq',\n",
              " 'django',\n",
              " 'shared-hosting',\n",
              " 'hostmonster',\n",
              " '.net',\n",
              " 'asp.net',\n",
              " 'url',\n",
              " 'uri',\n",
              " 'authority',\n",
              " 'postgresql',\n",
              " 'indexing',\n",
              " 'gin',\n",
              " 'gist-index',\n",
              " 'caching',\n",
              " '.net-2.0',\n",
              " 'memcached',\n",
              " 'enterprise-library',\n",
              " 'html',\n",
              " 'css',\n",
              " '.net',\n",
              " 'wcf',\n",
              " 'firewall',\n",
              " 'push',\n",
              " 'duplex',\n",
              " 'c',\n",
              " 'kr-c',\n",
              " 'c89',\n",
              " 'sql',\n",
              " 'sql-server',\n",
              " 'tsql',\n",
              " 'datetime',\n",
              " 'user-defined-functions',\n",
              " 'security',\n",
              " 'session',\n",
              " 'cookies',\n",
              " 'ruby-on-rails',\n",
              " 'ruby',\n",
              " 'plugins',\n",
              " 'c#',\n",
              " 'coding-style',\n",
              " 'windows-vista',\n",
              " 'database',\n",
              " 'database-design',\n",
              " 'postgresql',\n",
              " 'algorithm',\n",
              " 'language-agnostic',\n",
              " 'ruby',\n",
              " 'serialization',\n",
              " 'lambda',\n",
              " 'proc-object',\n",
              " 'unit-testing',\n",
              " 'testing',\n",
              " 'php',\n",
              " 'arrays',\n",
              " 'class',\n",
              " 'c#',\n",
              " 'sql',\n",
              " 'sql-server',\n",
              " 'sql-server-2005',\n",
              " 'language-agnostic',\n",
              " 'oop',\n",
              " 'ruby',\n",
              " 'shoes',\n",
              " 'irc',\n",
              " 'model-view-controller',\n",
              " 'web-frameworks',\n",
              " 'sql-server',\n",
              " 'tsql',\n",
              " 'pivot',\n",
              " 'visual-studio',\n",
              " 'build-automation',\n",
              " 'visual-studio',\n",
              " 'vim',\n",
              " 'ide',\n",
              " 'editor',\n",
              " 'oop',\n",
              " 'svn',\n",
              " 'vb6',\n",
              " 'css',\n",
              " 'abstraction',\n",
              " 'java',\n",
              " 'unix',\n",
              " 'windows-services',\n",
              " 'daemon',\n",
              " 'c++',\n",
              " 'c',\n",
              " 'visual-studio',\n",
              " 'memory-leaks',\n",
              " 'ruby',\n",
              " 'performance',\n",
              " 'ruby-1.9',\n",
              " 'c#',\n",
              " 'sqlite',\n",
              " 'asp.net',\n",
              " 'c#',\n",
              " '.net',\n",
              " 'jquery',\n",
              " 'ajax',\n",
              " 'json',\n",
              " 'character-encoding',\n",
              " 'c#',\n",
              " 'timespan',\n",
              " '.net',\n",
              " 'xpath',\n",
              " 'excel',\n",
              " 'excel-vba',\n",
              " 'javascript',\n",
              " 'arrays',\n",
              " 'comparison',\n",
              " 'c++',\n",
              " 'winapi',\n",
              " 'java',\n",
              " 'enumeration',\n",
              " 'iterable',\n",
              " 'c#',\n",
              " 'file',\n",
              " 'recursion',\n",
              " 'c#',\n",
              " 'trace',\n",
              " 'c++',\n",
              " 'qt',\n",
              " 'mfc',\n",
              " 'regex',\n",
              " 'doi',\n",
              " 'c++',\n",
              " 'casting',\n",
              " 'rtti',\n",
              " 'dynamic-cast',\n",
              " '.net',\n",
              " 'attributes',\n",
              " 'c++',\n",
              " 'performance',\n",
              " 'file-organization',\n",
              " 'android',\n",
              " 'authentication',\n",
              " 'proxy',\n",
              " 'open-source',\n",
              " 'windows-mobile',\n",
              " 'scripting',\n",
              " 'sysadmin',\n",
              " 'administration',\n",
              " 'architecture',\n",
              " 'rest',\n",
              " 'soap',\n",
              " '.net',\n",
              " 'wpf',\n",
              " 'version-control',\n",
              " 'tracking',\n",
              " 'c++',\n",
              " 'sockets',\n",
              " 'udp',\n",
              " 'c#',\n",
              " '2d',\n",
              " 'css',\n",
              " 'asp.net-mvc',\n",
              " 'c#',\n",
              " '.net',\n",
              " 'visual-studio',\n",
              " '.net-3.5',\n",
              " '.net-2.0',\n",
              " 'javascript',\n",
              " 'flash',\n",
              " 'mysql',\n",
              " 'replication',\n",
              " 'mysql-error-1062',\n",
              " 'binlog',\n",
              " 'database',\n",
              " 'unit-testing',\n",
              " 'linq',\n",
              " 'oracle',\n",
              " '.net',\n",
              " 'winforms',\n",
              " '.net-2.0',\n",
              " 'content-type',\n",
              " 'mhtml',\n",
              " 'ruby-on-rails',\n",
              " 'ruby',\n",
              " 'python',\n",
              " 'multithreading',\n",
              " '.net',\n",
              " 'wpf',\n",
              " 'sql',\n",
              " 'indexing',\n",
              " 'wcf',\n",
              " 'web-services',\n",
              " 'java',\n",
              " 'logging',\n",
              " 'log4j',\n",
              " 'java.util.logging',\n",
              " 'xslt',\n",
              " 'c#',\n",
              " 'sql',\n",
              " 'sql-server',\n",
              " 'tsql',\n",
              " 'regex',\n",
              " 'language-agnostic',\n",
              " 'web-services',\n",
              " 'testing',\n",
              " 'sql',\n",
              " 'puzzle',\n",
              " 'c#',\n",
              " '.net',\n",
              " 'email',\n",
              " 'smtp',\n",
              " 'gmail',\n",
              " 'java',\n",
              " 'nan',\n",
              " 'assert',\n",
              " 'sql',\n",
              " 'sql-server',\n",
              " 'wpf',\n",
              " 'binding',\n",
              " 'dataset',\n",
              " 'datarowview',\n",
              " 'defaultview',\n",
              " 'javascript',\n",
              " 'model-view-controller',\n",
              " 'architecture',\n",
              " 'client',\n",
              " 'ria',\n",
              " 'asp.net-mvc',\n",
              " 'unit-testing',\n",
              " 'mocking',\n",
              " 'moq',\n",
              " 'rhino-mocks',\n",
              " 'java',\n",
              " 'process',\n",
              " '.net',\n",
              " 'windows',\n",
              " 'components',\n",
              " 'dvd',\n",
              " 'javascript',\n",
              " 'html',\n",
              " 'css',\n",
              " 'open-source',\n",
              " 'wolfram-mathematica',\n",
              " 'symbolic-math',\n",
              " 'computer-algebra-systems',\n",
              " 'xcode',\n",
              " 'osx',\n",
              " 'templates',\n",
              " 'xcode4',\n",
              " 'xcode4.5',\n",
              " 'java',\n",
              " 'networking',\n",
              " 'ethernet',\n",
              " 'python',\n",
              " 'multithreading',\n",
              " 'php',\n",
              " 'html',\n",
              " 'screen-scraping',\n",
              " 'asp.net',\n",
              " 'css',\n",
              " 'visual-studio-2008',\n",
              " 'user-controls',\n",
              " 'ruby',\n",
              " 'hash',\n",
              " 'sha1',\n",
              " 'multithreading',\n",
              " 'concurrency',\n",
              " 'terminology',\n",
              " 'race-condition',\n",
              " 'python',\n",
              " 'tdd',\n",
              " 'pair-programming',\n",
              " 'javascript',\n",
              " 'jquery',\n",
              " 'perl',\n",
              " 'file',\n",
              " 'locking',\n",
              " 'verilog',\n",
              " 'jquery',\n",
              " 'ajax',\n",
              " 'http',\n",
              " 'forms',\n",
              " 'iframe',\n",
              " 'python',\n",
              " 'static-analysis',\n",
              " 'pylint',\n",
              " 'pyflakes',\n",
              " 'api',\n",
              " 'networking',\n",
              " 'messaging',\n",
              " 'distributed',\n",
              " 'cluster-computing',\n",
              " 'algorithm',\n",
              " 'graphics',\n",
              " 'audio',\n",
              " 'photoshop',\n",
              " 'signal-processing',\n",
              " 'wcf',\n",
              " 'web-services',\n",
              " 'domain-driven-design',\n",
              " 'svn',\n",
              " 'c',\n",
              " 'cross-platform',\n",
              " '32-bit',\n",
              " 'sorting',\n",
              " 'comparison',\n",
              " 'f#',\n",
              " 'ocaml',\n",
              " 'c#',\n",
              " 'arrays',\n",
              " 'ruby',\n",
              " 'directx',\n",
              " 'remote-desktop',\n",
              " 'sql',\n",
              " 'count',\n",
              " 'version-control',\n",
              " 'ms-word',\n",
              " 'windows',\n",
              " 'installation',\n",
              " 'x86',\n",
              " 'sse',\n",
              " 'assembly',\n",
              " 'java',\n",
              " 'unit-testing',\n",
              " 'tdd',\n",
              " 'graphics',\n",
              " 'asp.net',\n",
              " 'file',\n",
              " 'download',\n",
              " 'wpf',\n",
              " 'user-interface',\n",
              " 'asp.net',\n",
              " 'maps',\n",
              " 'postgresql',\n",
              " 'bash',\n",
              " '.net',\n",
              " 'winapi',\n",
              " 'disk',\n",
              " 'research',\n",
              " 'c#',\n",
              " 'asp.net',\n",
              " 'visual-studio',\n",
              " 'oop',\n",
              " 'class-design',\n",
              " 'database',\n",
              " 'data-structures',\n",
              " 'indexing',\n",
              " 'schema',\n",
              " 'c#',\n",
              " '.net',\n",
              " 'io',\n",
              " 'javascript',\n",
              " 'python',\n",
              " 'c#',\n",
              " 'overloading',\n",
              " 'java',\n",
              " 'methods',\n",
              " 'parameter-passing',\n",
              " 'pass-by-reference',\n",
              " 'pass-by-value',\n",
              " 'c#',\n",
              " 'asp.net',\n",
              " 'user-controls',\n",
              " 'c#',\n",
              " 'automatic-properties',\n",
              " 'codeigniter',\n",
              " 'zend-framework',\n",
              " 'smarty',\n",
              " 'asp.net',\n",
              " '.net',\n",
              " 'security',\n",
              " 'encryption',\n",
              " 'cryptography',\n",
              " 'asp.net',\n",
              " 'multithreading',\n",
              " 'web-applications',\n",
              " 'caching',\n",
              " 'file-io',\n",
              " 'windows',\n",
              " 'emacs',\n",
              " 'c++',\n",
              " 'c',\n",
              " 'variadic-functions',\n",
              " 'licensing',\n",
              " 'testing',\n",
              " 'design-patterns',\n",
              " 'qa',\n",
              " 'regression',\n",
              " 'c++',\n",
              " 'namespaces',\n",
              " 'fuzzy-search',\n",
              " 'unix',\n",
              " 'shell',\n",
              " 'c#',\n",
              " '.net',\n",
              " 'unit-testing',\n",
              " 'windows-services',\n",
              " 'linq',\n",
              " 'linq-to-sql',\n",
              " '.net',\n",
              " 'winforms',\n",
              " 'user-interface',\n",
              " 'windows-xp',\n",
              " 'sql',\n",
              " '.net',\n",
              " 'wcf',\n",
              " 'c++',\n",
              " 'python',\n",
              " 'date',\n",
              " 'osx',\n",
              " 'configuration',\n",
              " 'mercurial',\n",
              " 'perforce',\n",
              " 'p4merge',\n",
              " 'c#',\n",
              " 'java',\n",
              " 'regex',\n",
              " 'regex-negation',\n",
              " 'operating-system',\n",
              " 'kernel',\n",
              " 'osdev',\n",
              " 'python',\n",
              " 'django',\n",
              " 'url',\n",
              " 'django-urls',\n",
              " '.net',\n",
              " 'session',\n",
              " 'nhibernate',\n",
              " 'flush',\n",
              " 'html',\n",
              " 'css',\n",
              " 'design',\n",
              " 'c#',\n",
              " '.net',\n",
              " 'python',\n",
              " 'mime',\n",
              " 'sql',\n",
              " 'postgresql',\n",
              " 'group-by',\n",
              " 'string-concatenation',\n",
              " 'concat',\n",
              " 'mp3',\n",
              " 'ffmpeg',\n",
              " 'sql-server',\n",
              " 'database',\n",
              " 'configuration',\n",
              " 'firewall',\n",
              " 'sendmail',\n",
              " 'smarthost',\n",
              " 'c#',\n",
              " 'performance',\n",
              " 'loops',\n",
              " 'visual-studio',\n",
              " 'clickonce',\n",
              " 'versioning',\n",
              " 'version-control',\n",
              " 'regex',\n",
              " 'vb6',\n",
              " 'eclipse',\n",
              " 'svn',\n",
              " 'subclipse',\n",
              " '.net',\n",
              " 'cil',\n",
              " 'c#',\n",
              " 'windows',\n",
              " 'c#',\n",
              " '.net',\n",
              " 'string',\n",
              " '.net-3.5',\n",
              " 'nullable',\n",
              " 'asp.net',\n",
              " 'url',\n",
              " 'rest',\n",
              " 'friendly-url',\n",
              " 'version-control',\n",
              " 'perl',\n",
              " 'model-view-controller',\n",
              " 'python',\n",
              " 'interface',\n",
              " 'wacom',\n",
              " '.net',\n",
              " 'installation',\n",
              " 'inno-setup',\n",
              " 'javascript',\n",
              " 'jquery',\n",
              " 'user-interface',\n",
              " 'dialog',\n",
              " 'visual-studio',\n",
              " 'projects-and-solutions',\n",
              " 'xml',\n",
              " 'osx',\n",
              " 'c#',\n",
              " 'winforms',\n",
              " 'svn',\n",
              " 'tortoisesvn',\n",
              " 'iphone',\n",
              " 'xib',\n",
              " 'key-value-coding',\n",
              " 'html',\n",
              " 'css',\n",
              " 'sql',\n",
              " 'database',\n",
              " 'oracle',\n",
              " 'ora-00942',\n",
              " 'c#',\n",
              " 'winforms',\n",
              " 'user-interface',\n",
              " 'reference',\n",
              " 'labview',\n",
              " 'osx',\n",
              " 'fogbugz',\n",
              " 'database',\n",
              " 'unit-testing',\n",
              " 'ms-access',\n",
              " 'vba',\n",
              " 'c#',\n",
              " 'visual-studio',\n",
              " 'code-snippets',\n",
              " 'c++',\n",
              " 'templates',\n",
              " 'compiler-errors',\n",
              " 'asp.net',\n",
              " 'scalability',\n",
              " 'viewstate',\n",
              " 'eclipse',\n",
              " 'jsp',\n",
              " 'ruby-on-rails',\n",
              " 'ruby',\n",
              " 'social-networking',\n",
              " 'visual-studio',\n",
              " 'macros',\n",
              " 'tweak',\n",
              " 'asp.net',\n",
              " '.net',\n",
              " 'deployment',\n",
              " 'msbuild',\n",
              " 'php',\n",
              " 'oop',\n",
              " 'c#',\n",
              " '.net',\n",
              " 'winforms',\n",
              " 'focus',\n",
              " 'visual-studio',\n",
              " 'visual-studio-addins',\n",
              " 'bash',\n",
              " 'iterator',\n",
              " 'svn',\n",
              " 'apache',\n",
              " 'mod-rewrite',\n",
              " 'objective-c',\n",
              " 'cocoa',\n",
              " 'c++',\n",
              " 'mfc',\n",
              " 'bounds-checker',\n",
              " 'purify',\n",
              " 'html',\n",
              " 'forms',\n",
              " 'cross-browser',\n",
              " 'specifications',\n",
              " '.net',\n",
              " 'multithreading',\n",
              " 'reference',\n",
              " 'java',\n",
              " 'build-process',\n",
              " 'build-automation',\n",
              " 'ant',\n",
              " ...]"
            ]
          },
          "metadata": {
            "tags": []
          },
          "execution_count": 41
        }
      ]
    },
    {
      "cell_type": "code",
      "metadata": {
        "colab": {
          "base_uri": "https://localhost:8080/"
        },
        "id": "NcbGWNxm4uvV",
        "outputId": "8610d4c3-9731-47a9-8741-0f44f0008eed"
      },
      "source": [
        "len(all_tags)"
      ],
      "execution_count": null,
      "outputs": [
        {
          "output_type": "execute_result",
          "data": {
            "text/plain": [
              "224129"
            ]
          },
          "metadata": {
            "tags": []
          },
          "execution_count": 42
        }
      ]
    },
    {
      "cell_type": "code",
      "metadata": {
        "colab": {
          "base_uri": "https://localhost:8080/"
        },
        "id": "54x6oakQ4uvk",
        "outputId": "d8f0db26-07d8-4731-d724-3edc5e4fa8ad"
      },
      "source": [
        "my_set = set(all_tags)\n",
        "len(my_set)"
      ],
      "execution_count": null,
      "outputs": [
        {
          "output_type": "execute_result",
          "data": {
            "text/plain": [
              "14883"
            ]
          },
          "metadata": {
            "tags": []
          },
          "execution_count": 43
        }
      ]
    },
    {
      "cell_type": "code",
      "metadata": {
        "colab": {
          "base_uri": "https://localhost:8080/"
        },
        "id": "RaIurjUV4uvu",
        "outputId": "fde64bc5-5fda-48a2-be26-7ae015f922ac"
      },
      "source": [
        "type(my_set)"
      ],
      "execution_count": null,
      "outputs": [
        {
          "output_type": "execute_result",
          "data": {
            "text/plain": [
              "set"
            ]
          },
          "metadata": {
            "tags": []
          },
          "execution_count": 44
        }
      ]
    },
    {
      "cell_type": "code",
      "metadata": {
        "colab": {
          "base_uri": "https://localhost:8080/"
        },
        "id": "U2IiaNdu4uv5",
        "outputId": "937654cb-be64-4464-f5ed-4220268ac1c4"
      },
      "source": [
        "unique_tags = list(my_set)\n",
        "len(unique_tags)"
      ],
      "execution_count": null,
      "outputs": [
        {
          "output_type": "execute_result",
          "data": {
            "text/plain": [
              "14883"
            ]
          },
          "metadata": {
            "tags": []
          },
          "execution_count": 45
        }
      ]
    },
    {
      "cell_type": "code",
      "metadata": {
        "id": "RN3tmiuT4uwM"
      },
      "source": [
        "#count the word frequency stastistics\n",
        "flat_list = [item for sublist in new_df['Tags'] for item in sublist]\n",
        "len(flat_list)\n",
        "\n",
        "keywords = nltk.FreqDist(flat_list)"
      ],
      "execution_count": null,
      "outputs": []
    },
    {
      "cell_type": "markdown",
      "metadata": {
        "id": "MusWqqax4uwl"
      },
      "source": [
        "FreqDist(words_list), 接受list类型的参数，返回字典，key是元素，value是元素出现的次数"
      ]
    },
    {
      "cell_type": "code",
      "metadata": {
        "colab": {
          "base_uri": "https://localhost:8080/"
        },
        "id": "k203icC34uwm",
        "outputId": "e7f7c1c1-7a95-4689-c196-e9cef1a87aa1"
      },
      "source": [
        "keywords"
      ],
      "execution_count": null,
      "outputs": [
        {
          "output_type": "execute_result",
          "data": {
            "text/plain": [
              "FreqDist({'flex': 56,\n",
              "          'actionscript-3': 67,\n",
              "          'air': 16,\n",
              "          'svn': 275,\n",
              "          'tortoisesvn': 45,\n",
              "          'branch': 56,\n",
              "          'branching-and-merging': 9,\n",
              "          'sql': 1389,\n",
              "          'asp.net': 1302,\n",
              "          'sitemap': 6,\n",
              "          'algorithm': 842,\n",
              "          'language-agnostic': 205,\n",
              "          'colors': 116,\n",
              "          'color-space': 2,\n",
              "          'c#': 6907,\n",
              "          '.net': 2705,\n",
              "          'scripting': 88,\n",
              "          'compiler-construction': 173,\n",
              "          'c++': 4369,\n",
              "          'oop': 327,\n",
              "          'class': 249,\n",
              "          'nested-class': 8,\n",
              "          'web-services': 219,\n",
              "          'sql-server': 907,\n",
              "          'sql-server-2005': 144,\n",
              "          'deployment': 131,\n",
              "          'release-management': 3,\n",
              "          'visual-studio': 592,\n",
              "          'versioning': 28,\n",
              "          'windows': 721,\n",
              "          'registry': 25,\n",
              "          'installation': 72,\n",
              "          'database': 571,\n",
              "          'loops': 122,\n",
              "          'connection': 30,\n",
              "          'file-locking': 2,\n",
              "          'unix': 228,\n",
              "          'size': 42,\n",
              "          'msbuild': 123,\n",
              "          'cruisecontrol.net': 10,\n",
              "          'web-applications': 140,\n",
              "          'dns': 52,\n",
              "          'subdomain': 14,\n",
              "          'account': 4,\n",
              "          '.net-3.5': 68,\n",
              "          'nant': 10,\n",
              "          'windows-server-2008': 13,\n",
              "          'sql-server-2008': 243,\n",
              "          'unit-testing': 563,\n",
              "          'testing': 230,\n",
              "          'version-control': 228,\n",
              "          'postgresql': 350,\n",
              "          'stored-procedures': 91,\n",
              "          'triggers': 41,\n",
              "          'dataset': 27,\n",
              "          'datatable': 22,\n",
              "          'asp-classic': 30,\n",
              "          'vbscript': 39,\n",
              "          'html': 2129,\n",
              "          'autocomplete': 83,\n",
              "          'c': 1845,\n",
              "          'architecture': 123,\n",
              "          'data-structures': 190,\n",
              "          'flash': 88,\n",
              "          'video': 130,\n",
              "          'embed': 16,\n",
              "          'powershell': 211,\n",
              "          'cmdlets': 3,\n",
              "          'optimization': 248,\n",
              "          'setter': 8,\n",
              "          'getter': 11,\n",
              "          'verification': 3,\n",
              "          'winforms': 363,\n",
              "          'error-handling': 106,\n",
              "          'user-controls': 42,\n",
              "          'paging': 17,\n",
              "          'php': 3024,\n",
              "          'mysql': 1286,\n",
              "          'security': 354,\n",
              "          'cracking': 2,\n",
              "          'hijacked': 1,\n",
              "          'fogbugz': 5,\n",
              "          'full-text-search': 33,\n",
              "          'math': 289,\n",
              "          'ruby': 1249,\n",
              "          'rake': 49,\n",
              "          'command-line-interface': 35,\n",
              "          'java': 6862,\n",
              "          'code-coverage': 37,\n",
              "          'static-analysis': 32,\n",
              "          'diagram': 15,\n",
              "          'ado.net': 59,\n",
              "          'wsdl': 34,\n",
              "          'jni': 54,\n",
              "          'java-web-start': 18,\n",
              "          'nativelibrary': 5,\n",
              "          'dvcs': 25,\n",
              "          'user-interface': 229,\n",
              "          'directx': 30,\n",
              "          'xml': 535,\n",
              "          'xml-signature': 3,\n",
              "          'regex': 662,\n",
              "          'ansi': 3,\n",
              "          'email': 158,\n",
              "          'forms': 207,\n",
              "          'confirm': 6,\n",
              "          'sharepoint': 37,\n",
              "          'assemblies': 43,\n",
              "          'indexing': 106,\n",
              "          'n-tier': 11,\n",
              "          'authentication': 170,\n",
              "          'subclipse': 12,\n",
              "          'foreign-keys': 42,\n",
              "          'redistributable': 2,\n",
              "          'logging': 224,\n",
              "          'permissions': 69,\n",
              "          'continuous-integration': 82,\n",
              "          'linux': 935,\n",
              "          'ssh': 89,\n",
              "          'selenium': 132,\n",
              "          'javascript': 5560,\n",
              "          'firefox': 198,\n",
              "          'memory': 226,\n",
              "          'cpu': 23,\n",
              "          'swt': 26,\n",
              "          'executable': 13,\n",
              "          'software-distribution': 6,\n",
              "          'file': 243,\n",
              "          'io': 77,\n",
              "          'css': 1980,\n",
              "          'validation': 222,\n",
              "          'xhtml': 72,\n",
              "          'cross-browser': 81,\n",
              "          'w3c': 20,\n",
              "          'windows-services': 59,\n",
              "          'printing': 80,\n",
              "          'linq': 409,\n",
              "          'plugins': 80,\n",
              "          'extensibility': 1,\n",
              "          'ant': 93,\n",
              "          'build-process': 50,\n",
              "          'collections': 180,\n",
              "          'objective-c': 1768,\n",
              "          'osx': 582,\n",
              "          'webcam': 7,\n",
              "          'isight': 1,\n",
              "          'function': 264,\n",
              "          'pointers': 208,\n",
              "          'syntax': 185,\n",
              "          'parameters': 87,\n",
              "          'lisp': 95,\n",
              "          'scheme': 38,\n",
              "          'pagination': 27,\n",
              "          'string': 813,\n",
              "          'asp.net-mvc': 1004,\n",
              "          'binding': 90,\n",
              "          'dynamic-binding': 6,\n",
              "          'static-binding': 1,\n",
              "          'hardware': 14,\n",
              "          'storage': 20,\n",
              "          'raid': 2,\n",
              "          'disk': 9,\n",
              "          '.net-2.0': 31,\n",
              "          'remoting': 9,\n",
              "          'rpc': 16,\n",
              "          'emacs': 256,\n",
              "          'ikvm': 2,\n",
              "          'gnu-classpath': 1,\n",
              "          'apache': 232,\n",
              "          'upload': 38,\n",
              "          'python': 4442,\n",
              "          'code-generation': 36,\n",
              "          'swig': 11,\n",
              "          'ajax': 476,\n",
              "          'performance': 845,\n",
              "          'design-patterns': 253,\n",
              "          'fileparse': 1,\n",
              "          'internet-explorer': 222,\n",
              "          'unicode': 200,\n",
              "          'virtualization': 11,\n",
              "          'hyper-v': 3,\n",
              "          'sockets': 195,\n",
              "          'ip': 20,\n",
              "          'router': 6,\n",
              "          'nlog': 17,\n",
              "          'health-monitoring': 2,\n",
              "          'content-management-system': 21,\n",
              "          'n2': 1,\n",
              "          'wmi': 17,\n",
              "          'jsp': 102,\n",
              "          'tomcat': 156,\n",
              "          'resources': 80,\n",
              "          'denormalization': 4,\n",
              "          'vb.net': 236,\n",
              "          'multithreading': 702,\n",
              "          'exception': 299,\n",
              "          'bug-tracking': 8,\n",
              "          'cruisecontrol.rb': 1,\n",
              "          'iis-7': 68,\n",
              "          'upsert': 7,\n",
              "          'process': 93,\n",
              "          'batch-file': 123,\n",
              "          'opengl': 139,\n",
              "          'textures': 17,\n",
              "          'rgb': 23,\n",
              "          'monochrome': 1,\n",
              "          'glut': 1,\n",
              "          'menu': 33,\n",
              "          'vim': 333,\n",
              "          'editor': 60,\n",
              "          'vi': 32,\n",
              "          'linq-to-sql': 84,\n",
              "          'attributes': 62,\n",
              "          'versions': 6,\n",
              "          'c-preprocessor': 63,\n",
              "          'asp.net-mvc-routing': 28,\n",
              "          'design': 156,\n",
              "          'outlook': 23,\n",
              "          'message': 10,\n",
              "          'msg': 1,\n",
              "          'enums': 183,\n",
              "          'spring': 552,\n",
              "          'osgi': 33,\n",
              "          'hash': 155,\n",
              "          'tsql': 296,\n",
              "          'sql-server-2000': 19,\n",
              "          'haskell': 728,\n",
              "          'types': 247,\n",
              "          'functional-programming': 195,\n",
              "          'algebraic-data-types': 6,\n",
              "          'zip': 40,\n",
              "          'glew': 3,\n",
              "          'intellisense': 29,\n",
              "          'knowledge-management': 3,\n",
              "          'parsing': 222,\n",
              "          'monads': 76,\n",
              "          'configuration-files': 27,\n",
              "          'ankhsvn': 4,\n",
              "          'ruby-on-rails': 1524,\n",
              "          'open-source': 75,\n",
              "          'mono': 80,\n",
              "          'licensing': 23,\n",
              "          'gridview': 47,\n",
              "          'infragistics': 5,\n",
              "          'ultrawebgrid': 1,\n",
              "          'xcode': 804,\n",
              "          'refactoring': 52,\n",
              "          'ms-word': 22,\n",
              "          'rtf': 6,\n",
              "          'swing': 248,\n",
              "          'jpanel': 18,\n",
              "          'silverlight': 146,\n",
              "          'django': 850,\n",
              "          'shared-hosting': 4,\n",
              "          'hostmonster': 1,\n",
              "          'url': 164,\n",
              "          'uri': 25,\n",
              "          'authority': 1,\n",
              "          'gin': 3,\n",
              "          'gist-index': 1,\n",
              "          'caching': 203,\n",
              "          'memcached': 39,\n",
              "          'enterprise-library': 9,\n",
              "          'wcf': 259,\n",
              "          'firewall': 6,\n",
              "          'push': 25,\n",
              "          'duplex': 1,\n",
              "          'kr-c': 1,\n",
              "          'c89': 9,\n",
              "          'datetime': 262,\n",
              "          'user-defined-functions': 10,\n",
              "          'session': 166,\n",
              "          'cookies': 126,\n",
              "          'coding-style': 148,\n",
              "          'windows-vista': 18,\n",
              "          'database-design': 126,\n",
              "          'serialization': 160,\n",
              "          'lambda': 198,\n",
              "          'proc-object': 1,\n",
              "          'arrays': 791,\n",
              "          'shoes': 4,\n",
              "          'irc': 10,\n",
              "          'model-view-controller': 105,\n",
              "          'web-frameworks': 11,\n",
              "          'pivot': 17,\n",
              "          'build-automation': 34,\n",
              "          'ide': 128,\n",
              "          'vb6': 42,\n",
              "          'abstraction': 7,\n",
              "          'daemon': 22,\n",
              "          'memory-leaks': 139,\n",
              "          'ruby-1.9': 7,\n",
              "          'sqlite': 224,\n",
              "          'jquery': 2770,\n",
              "          'json': 688,\n",
              "          'character-encoding': 86,\n",
              "          'timespan': 14,\n",
              "          'xpath': 89,\n",
              "          'excel': 211,\n",
              "          'excel-vba': 96,\n",
              "          'comparison': 77,\n",
              "          'winapi': 197,\n",
              "          'enumeration': 21,\n",
              "          'iterable': 5,\n",
              "          'recursion': 103,\n",
              "          'trace': 10,\n",
              "          'qt': 273,\n",
              "          'mfc': 29,\n",
              "          'doi': 1,\n",
              "          'casting': 156,\n",
              "          'rtti': 8,\n",
              "          'dynamic-cast': 8,\n",
              "          'file-organization': 3,\n",
              "          'android': 5052,\n",
              "          'proxy': 82,\n",
              "          'windows-mobile': 9,\n",
              "          'sysadmin': 8,\n",
              "          'administration': 4,\n",
              "          'rest': 311,\n",
              "          'soap': 67,\n",
              "          'wpf': 791,\n",
              "          'tracking': 6,\n",
              "          'udp': 36,\n",
              "          '2d': 21,\n",
              "          'replication': 13,\n",
              "          'mysql-error-1062': 1,\n",
              "          'binlog': 1,\n",
              "          'oracle': 312,\n",
              "          'content-type': 21,\n",
              "          'mhtml': 1,\n",
              "          'log4j': 59,\n",
              "          'java.util.logging': 6,\n",
              "          'xslt': 86,\n",
              "          'puzzle': 12,\n",
              "          'smtp': 43,\n",
              "          'gmail': 47,\n",
              "          'nan': 110,\n",
              "          'assert': 24,\n",
              "          'datarowview': 1,\n",
              "          'defaultview': 1,\n",
              "          'client': 18,\n",
              "          'ria': 3,\n",
              "          'mocking': 116,\n",
              "          'moq': 45,\n",
              "          'rhino-mocks': 13,\n",
              "          'components': 25,\n",
              "          'dvd': 4,\n",
              "          'wolfram-mathematica': 61,\n",
              "          'symbolic-math': 4,\n",
              "          'computer-algebra-systems': 1,\n",
              "          'templates': 345,\n",
              "          'xcode4': 92,\n",
              "          'xcode4.5': 18,\n",
              "          'networking': 133,\n",
              "          'ethernet': 4,\n",
              "          'screen-scraping': 18,\n",
              "          'visual-studio-2008': 150,\n",
              "          'sha1': 14,\n",
              "          'concurrency': 147,\n",
              "          'terminology': 41,\n",
              "          'race-condition': 12,\n",
              "          'tdd': 95,\n",
              "          'pair-programming': 2,\n",
              "          'perl': 384,\n",
              "          'locking': 58,\n",
              "          'verilog': 6,\n",
              "          'http': 305,\n",
              "          'iframe': 109,\n",
              "          'pylint': 17,\n",
              "          'pyflakes': 1,\n",
              "          'api': 249,\n",
              "          'messaging': 9,\n",
              "          'distributed': 22,\n",
              "          'cluster-computing': 16,\n",
              "          'graphics': 131,\n",
              "          'audio': 114,\n",
              "          'photoshop': 11,\n",
              "          'signal-processing': 27,\n",
              "          'domain-driven-design': 55,\n",
              "          'cross-platform': 51,\n",
              "          '32-bit': 17,\n",
              "          'sorting': 238,\n",
              "          'f#': 194,\n",
              "          'ocaml': 59,\n",
              "          'remote-desktop': 7,\n",
              "          'count': 51,\n",
              "          'x86': 79,\n",
              "          'sse': 37,\n",
              "          'assembly': 142,\n",
              "          'download': 65,\n",
              "          'maps': 30,\n",
              "          'bash': 523,\n",
              "          'research': 7,\n",
              "          'class-design': 17,\n",
              "          'schema': 28,\n",
              "          'overloading': 33,\n",
              "          'methods': 87,\n",
              "          'parameter-passing': 26,\n",
              "          'pass-by-reference': 30,\n",
              "          'pass-by-value': 13,\n",
              "          'automatic-properties': 12,\n",
              "          'codeigniter': 111,\n",
              "          'zend-framework': 83,\n",
              "          'smarty': 7,\n",
              "          'encryption': 106,\n",
              "          'cryptography': 56,\n",
              "          'file-io': 133,\n",
              "          'variadic-functions': 12,\n",
              "          'qa': 6,\n",
              "          'regression': 7,\n",
              "          'namespaces': 97,\n",
              "          'fuzzy-search': 11,\n",
              "          'shell': 335,\n",
              "          'windows-xp': 29,\n",
              "          'date': 237,\n",
              "          'configuration': 109,\n",
              "          'mercurial': 130,\n",
              "          'perforce': 18,\n",
              "          'p4merge': 1,\n",
              "          'regex-negation': 6,\n",
              "          'operating-system': 58,\n",
              "          'kernel': 47,\n",
              "          'osdev': 6,\n",
              "          'django-urls': 8,\n",
              "          'nhibernate': 113,\n",
              "          'flush': 6,\n",
              "          'mime': 14,\n",
              "          'group-by': 41,\n",
              "          'string-concatenation': 14,\n",
              "          'concat': 6,\n",
              "          'mp3': 16,\n",
              "          'ffmpeg': 72,\n",
              "          'sendmail': 10,\n",
              "          'smarthost': 1,\n",
              "          'clickonce': 20,\n",
              "          'eclipse': 786,\n",
              "          'cil': 17,\n",
              "          'nullable': 31,\n",
              "          'friendly-url': 6,\n",
              "          'interface': 148,\n",
              "          'wacom': 1,\n",
              "          'inno-setup': 16,\n",
              "          'dialog': 55,\n",
              "          'projects-and-solutions': 23,\n",
              "          'iphone': 1781,\n",
              "          'xib': 20,\n",
              "          'key-value-coding': 5,\n",
              "          'ora-00942': 2,\n",
              "          'reference': 112,\n",
              "          'labview': 2,\n",
              "          'ms-access': 52,\n",
              "          'vba': 128,\n",
              "          'code-snippets': 10,\n",
              "          'compiler-errors': 60,\n",
              "          'scalability': 31,\n",
              "          'viewstate': 9,\n",
              "          'social-networking': 13,\n",
              "          'macros': 77,\n",
              "          'tweak': 3,\n",
              "          'focus': 40,\n",
              "          'visual-studio-addins': 3,\n",
              "          'iterator': 101,\n",
              "          'mod-rewrite': 44,\n",
              "          'cocoa': 359,\n",
              "          'bounds-checker': 1,\n",
              "          'purify': 1,\n",
              "          'specifications': 18,\n",
              "          'garbage-collection': 139,\n",
              "          'positioning': 15,\n",
              "          'project-management': 45,\n",
              "          'debugging': 391,\n",
              "          'release': 25,\n",
              "          'time': 114,\n",
              "          'usability': 15,\n",
              "          'ui-guidelines': 1,\n",
              "          'demoscene': 1,\n",
              "          'applet': 28,\n",
              "          'sequence': 19,\n",
              "          'reset': 13,\n",
              "          'path': 91,\n",
              "          'relative-path': 14,\n",
              "          'absolute-path': 6,\n",
              "          'runtime': 44,\n",
              "          'specs': 3,\n",
              "          'operators': 86,\n",
              "          'comma-operator': 3,\n",
              "          'pdb-files': 6,\n",
              "          'google-reader': 1,\n",
              "          'git': 1013,\n",
              "          'paypal': 33,\n",
              "          'scala': 709,\n",
              "          'list': 334,\n",
              "          'webforms': 40,\n",
              "          'login': 62,\n",
              "          'ntlm': 7,\n",
              "          'settings': 34,\n",
              "          'cakephp': 78,\n",
              "          'acl': 15,\n",
              "          'security-roles': 1,\n",
              "          'iis': 171,\n",
              "          'wcf-data-services': 7,\n",
              "          'image': 326,\n",
              "          'error-suppression': 1,\n",
              "          'dictionary': 162,\n",
              "          'variables': 153,\n",
              "          'service': 75,\n",
              "          'profiling': 72,\n",
              "          'merge': 89,\n",
              "          'visualization': 36,\n",
              "          'floating-point': 138,\n",
              "          'definition': 13,\n",
              "          'solid-principles': 9,\n",
              "          'design-principles': 3,\n",
              "          'lsp': 3,\n",
              "          'fluent-interface': 11,\n",
              "          'sourcegear-vault': 1,\n",
              "          'version-control-migration': 2,\n",
              "          'goto': 9,\n",
              "          'continue': 2,\n",
              "          'flexbuilder': 5,\n",
              "          'sqlclr': 9,\n",
              "          'gdi+': 27,\n",
              "          'xna': 33,\n",
              "          'rendering': 32,\n",
              "          'exception-handling': 161,\n",
              "          'mime-types': 25,\n",
              "          'ssis': 36,\n",
              "          'pdf': 177,\n",
              "          'google-analytics': 78,\n",
              "          'png': 35,\n",
              "          'svg': 128,\n",
              "          'localization': 89,\n",
              "          'globalization': 17,\n",
              "          'captcha': 6,\n",
              "          'gcc': 323,\n",
              "          'inheritance': 231,\n",
              "          'member-function-pointers': 9,\n",
              "          'escaping': 67,\n",
              "          'information-hiding': 2,\n",
              "          'pimpl-idiom': 3,\n",
              "          'postback': 8,\n",
              "          'webserver': 36,\n",
              "          'internet-explorer-6': 17,\n",
              "          'profiler': 20,\n",
              "          'inline-functions': 3,\n",
              "          'aquamacs': 4,\n",
              "          'command-line': 155,\n",
              "          'console': 86,\n",
              "          'terminal': 82,\n",
              "          'directory-structure': 11,\n",
              "          'stdout': 29,\n",
              "          'static-block': 3,\n",
              "          'layout': 118,\n",
              "          'subversive': 6,\n",
              "          'integration-testing': 38,\n",
              "          'testing-strategies': 1,\n",
              "          'properties': 117,\n",
              "          'rdbms': 12,\n",
              "          'relational': 3,\n",
              "          'oodbms': 3,\n",
              "          'zbuffer': 1,\n",
              "          'sum': 17,\n",
              "          'entity-framework': 381,\n",
              "          'axis': 11,\n",
              "          'primary-key': 31,\n",
              "          'key': 40,\n",
              "          'agile': 27,\n",
              "          'scrum': 23,\n",
              "          'development-process': 1,\n",
              "          'process-management': 3,\n",
              "          'ubuntu': 187,\n",
              "          'camera': 54,\n",
              "          'actionscript': 23,\n",
              "          'copy-paste': 14,\n",
              "          'breakpoints': 22,\n",
              "          'keyboard': 65,\n",
              "          'keyboard-shortcuts': 67,\n",
              "          'text': 111,\n",
              "          'utf-8': 126,\n",
              "          'gcj': 1,\n",
              "          'workflow': 29,\n",
              "          'jvm': 128,\n",
              "          'doc': 4,\n",
              "          'wysiwyg': 19,\n",
              "          'embedded': 57,\n",
              "          'google-chrome': 334,\n",
              "          'google-chrome-devtools': 48,\n",
              "          'wget': 12,\n",
              "          'rdf': 14,\n",
              "          'semantics': 22,\n",
              "          'semantic-web': 9,\n",
              "          'owl': 4,\n",
              "          'ontology': 4,\n",
              "          'gtk': 20,\n",
              "          'pygtk': 16,\n",
              "          'gobject': 5,\n",
              "          'rspec': 118,\n",
              "          'makefile': 105,\n",
              "          'credit-card': 7,\n",
              "          'generics': 387,\n",
              "          'internationalization': 83,\n",
              "          'sed': 61,\n",
              "          'character': 27,\n",
              "          'code-reuse': 8,\n",
              "          'python-internals': 19,\n",
              "          'struct': 102,\n",
              "          'value-type': 17,\n",
              "          'reference-type': 5,\n",
              "          'extension-methods': 46,\n",
              "          'textselection': 5,\n",
              "          'safari': 75,\n",
              "          'gnuplot': 24,\n",
              "          'statistics': 62,\n",
              "          'state-machines': 6,\n",
              "          'hidden-markov-models': 4,\n",
              "          'markov-models': 1,\n",
              "          'imap': 11,\n",
              "          'maildir': 1,\n",
              "          'memory-management': 235,\n",
              "          'maven-2': 122,\n",
              "          'recommendation-engine': 4,\n",
              "          'digg': 1,\n",
              "          'resolution': 7,\n",
              "          'greasemonkey': 14,\n",
              "          'textbox': 50,\n",
              "          'scrollbar': 28,\n",
              "          'rpm': 8,\n",
              "          'pdf-generation': 36,\n",
              "          'drop-down-menu': 39,\n",
              "          'plsql': 49,\n",
              "          'visualsvn-server': 4,\n",
              "          'window': 39,\n",
              "          'restore': 16,\n",
              "          'delegates': 80,\n",
              "          'notifications': 66,\n",
              "          'axis2': 5,\n",
              "          'wsdl2java': 2,\n",
              "          'tiff': 3,\n",
              "          'orm': 122,\n",
              "          'jpa': 199,\n",
              "          'transactions': 92,\n",
              "          'encoding': 94,\n",
              "          'query-string': 21,\n",
              "          'modeling': 7,\n",
              "          'desktop': 13,\n",
              "          'build': 119,\n",
              "          'automation': 37,\n",
              "          'api-design': 12,\n",
              "          'mxml': 1,\n",
              "          'reportlab': 8,\n",
              "          'post': 96,\n",
              "          'header': 47,\n",
              "          'google-app-engine': 175,\n",
              "          'bigtable': 2,\n",
              "          'tfs': 99,\n",
              "          'com': 59,\n",
              "          'protocols': 32,\n",
              "          'custom-url-protocol': 1,\n",
              "          'finalize': 3,\n",
              "          'phantom-reference': 1,\n",
              "          'xforms': 2,\n",
              "          'global': 20,\n",
              "          'hotkeys': 11,\n",
              "          'legacy': 9,\n",
              "          'file-upload': 98,\n",
              "          'firefox-3': 1,\n",
              "          'jar': 77,\n",
              "          'restructuredtext': 9,\n",
              "          'uberjar': 2,\n",
              "          'ip-address': 27,\n",
              "          'wordpress': 122,\n",
              "          'widget': 28,\n",
              "          'facebook': 319,\n",
              "          'grails': 110,\n",
              "          'groovy': 109,\n",
              "          'c++11': 669,\n",
              "          'typeof': 9,\n",
              "          'multilingual': 10,\n",
              "          'boost-serialization': 6,\n",
              "          'matlab': 240,\n",
              "          'fonts': 120,\n",
              "          'true-type-fonts': 8,\n",
              "          'browser': 178,\n",
              "          'filenames': 28,\n",
              "          'listings': 1,\n",
              "          'truncate': 13,\n",
              "          'exists': 14,\n",
              "          'active-directory': 41,\n",
              "          'ldap': 26,\n",
              "          'cluster-analysis': 20,\n",
              "          'hierarchical-clustering': 4,\n",
              "          'foreach': 72,\n",
              "          'syntactic-sugar': 10,\n",
              "          'openid': 35,\n",
              "          'gis': 19,\n",
              "          'jce': 5,\n",
              "          'jsse': 5,\n",
              "          'webrequest': 9,\n",
              "          'webresponse': 2,\n",
              "          'grep': 59,\n",
              "          'automated-tests': 33,\n",
              "          'reporting-services': 38,\n",
              "          'recovery': 3,\n",
              "          'app-code': 3,\n",
              "          'metaprogramming': 39,\n",
              "          'google-docs': 13,\n",
              "          'desktop-application': 14,\n",
              "          'nlp': 65,\n",
              "          'word-frequency': 2,\n",
              "          'converter': 21,\n",
              "          'tree': 58,\n",
              "          'sharding': 7,\n",
              "          'prettify': 3,\n",
              "          'file-format': 9,\n",
              "          'quicken': 1,\n",
              "          'virtual-machine': 29,\n",
              "          'jira': 15,\n",
              "          'ssl': 182,\n",
              "          'brokenimage': 1,\n",
              "          'sql-injection': 21,\n",
              "          'language-features': 22,\n",
              "          'scheduling': 16,\n",
              "          'xaml': 196,\n",
              "          'streaming': 35,\n",
              "          'managed-c++': 6,\n",
              "          'java-ee': 142,\n",
              "          'workspace': 8,\n",
              "          'castle-windsor': 21,\n",
              "          'aop': 34,\n",
              "          'reverse-proxy': 11,\n",
              "          'subfolder': 3,\n",
              "          'uac': 22,\n",
              "          'dependencies': 68,\n",
              "          'code-analysis': 16,\n",
              "          'ftp': 49,\n",
              "          'eclipse-pdt': 5,\n",
              "          'reflection': 220,\n",
              "          '.net-attributes': 2,\n",
              "          'blazeds': 1,\n",
              "          'puremvc': 1,\n",
              "          'state': 24,\n",
              "          'servlets': 107,\n",
              "          'visual-c++': 160,\n",
              "          'constructor': 154,\n",
              "          'crash': 49,\n",
              "          'visual-sourcesafe': 6,\n",
              "          'stl': 181,\n",
              "          'stdmap': 9,\n",
              "          'copy': 35,\n",
              "          'usb-drive': 2,\n",
              "          'mouse': 30,\n",
              "          'hidden': 13,\n",
              "          'undefined-behavior': 34,\n",
              "          'c++-faq': 18,\n",
              "          'strict-aliasing': 9,\n",
              "          'type-punning': 6,\n",
              "          'localhost': 31,\n",
              "          'loopback': 1,\n",
              "          'serversocket': 2,\n",
              "          'xml-serialization': 34,\n",
              "          'blogs': 13,\n",
              "          'events': 188,\n",
              "          'eclipse-3.4': 4,\n",
              "          'ganymede': 2,\n",
              "          'text-comparison': 1,\n",
              "          'uniqueidentifier': 13,\n",
              "          'symlink': 21,\n",
              "          'imdb': 1,\n",
              "          'text-editor': 16,\n",
              "          'hidden-features': 2,\n",
              "          'code-behind': 11,\n",
              "          'naming-conventions': 75,\n",
              "          'csv': 117,\n",
              "          'documentation': 103,\n",
              "          'xml-rpc': 6,\n",
              "          'errorformat': 1,\n",
              "          'get': 34,\n",
              "          'farseer': 4,\n",
              "          'margin': 16,\n",
              "          'internals': 14,\n",
              "          'install': 42,\n",
              "          'cpan': 12,\n",
              "          'development-environment': 24,\n",
              "          'superfish': 1,\n",
              "          'permutation': 27,\n",
              "          'combinatorics': 16,\n",
              "          'python-2.5': 6,\n",
              "          'sqlanywhere': 1,\n",
              "          'eclipse-wtp': 5,\n",
              "          'guid': 26,\n",
              "          'windbg': 21,\n",
              "          'internalsvisibleto': 2,\n",
              "          'traceback': 7,\n",
              "          'treeview': 19,\n",
              "          'put': 13,\n",
              "          'timezone': 87,\n",
              "          'javamail': 12,\n",
              "          'developer-machine': 1,\n",
              "          'lamp': 13,\n",
              "          'web-farm': 3,\n",
              "          'prototypejs': 21,\n",
              "          'scriptaculous': 2,\n",
              "          'versioninfo': 1,\n",
              "          'gd': 21,\n",
              "          'dotnetnuke': 6,\n",
              "          'scheduler': 10,\n",
              "          'server.mappath': 2,\n",
              "          'actionmailer': 22,\n",
              "          'likely-unlikely': 2,\n",
              "          'lazylist': 1,\n",
              "          'source-filter': 1,\n",
              "          'ms-office': 19,\n",
              "          'add-in': 15,\n",
              "          'iis-6': 16,\n",
              "          'emulator': 27,\n",
              "          'machine-language': 1,\n",
              "          '6502': 1,\n",
              "          'function-pointers': 33,\n",
              "          'syntax-highlighting': 47,\n",
              "          'fieldset': 2,\n",
              "          'legend': 21,\n",
              "          'currying': 13,\n",
              "          'partial-application': 7,\n",
              "          'abstract-class': 43,\n",
              "          'virtual-functions': 15,\n",
              "          'delphi': 438,\n",
              "          'oledb': 7,\n",
              "          'ado': 8,\n",
              "          'performancecounter': 3,\n",
              "          'anonymous-objects': 2,\n",
              "          'chat': 21,\n",
              "          'xmpp': 29,\n",
              "          'hashmap': 47,\n",
              "          'hashtable': 21,\n",
              "          'compression': 55,\n",
              "          'view': 83,\n",
              "          'tcp': 79,\n",
              "          'label': 25,\n",
              "          'p4v': 2,\n",
              "          'geolocation': 47,\n",
              "          'distance': 14,\n",
              "          'kill': 7,\n",
              "          'teamcity': 52,\n",
              "          'redhat': 12,\n",
              "          'curl': 104,\n",
              "          'autofield': 1,\n",
              "          'clearcase': 7,\n",
              "          'charts': 48,\n",
              "          'fullscreen': 19,\n",
              "          'keyboard-hook': 4,\n",
              "          'sqlplus': 10,\n",
              "          'python-idle': 7,\n",
              "          'komodo': 1,\n",
              "          'pywin': 1,\n",
              "          'numpy': 284,\n",
              "          'subclass': 17,\n",
              "          'slice': 20,\n",
              "          'ellipsis': 8,\n",
              "          'gas': 4,\n",
              "          'business-logic': 7,\n",
              "          'lucene': 48,\n",
              "          'short': 5,\n",
              "          'favicon': 18,\n",
              "          'software-quality': 2,\n",
              "          'eclipse-plugin': 50,\n",
              "          'jad': 1,\n",
              "          'filesystems': 55,\n",
              "          'naming': 14,\n",
              "          'backup': 39,\n",
              "          'reflection.emit': 4,\n",
              "          'clr': 57,\n",
              "          'bytecode': 25,\n",
              "          'il': 13,\n",
              "          'inversion-of-control': 49,\n",
              "          'mef': 13,\n",
              "          'object': 146,\n",
              "          'capistrano': 28,\n",
              "          'mongrel': 5,\n",
              "          'asynchronous': 188,\n",
              "          'awt': 20,\n",
              "          'toolkit': 4,\n",
              "          'javax.imageio': 4,\n",
              "          'mantis': 1,\n",
              "          'scmbug': 1,\n",
              "          'polymorphism': 64,\n",
              "          'multiple-dispatch': 1,\n",
              "          'double-dispatch': 2,\n",
              "          'boost': 199,\n",
              "          'clean-language': 2,\n",
              "          'ui-virtualization': 1,\n",
              "          'undo': 12,\n",
              "          'cherry-pick': 6,\n",
              "          'image-processing': 160,\n",
              "          'soa': 20,\n",
              "          'uddi': 3,\n",
              "          'jdbc': 121,\n",
              "          'credentials': 7,\n",
              "          'dom': 167,\n",
              "          'clipboard': 25,\n",
              "          'extern-c': 3,\n",
              "          'software-engineering': 26,\n",
              "          'driver': 19,\n",
              "          'wdk': 2,\n",
              "          '3d': 59,\n",
              "          'geometry': 68,\n",
              "          'reverseprojection': 1,\n",
              "          'thumbnails': 13,\n",
              "          'eol': 6,\n",
              "          'diagramming': 2,\n",
              "          'assertions': 4,\n",
              "          'defensive-programming': 4,\n",
              "          'certificate': 58,\n",
              "          'code-signing': 21,\n",
              "          'custom-server-controls': 1,\n",
              "          'linker': 107,\n",
              "          'atomic': 31,\n",
              "          'migration': 64,\n",
              "          'icons': 63,\n",
              "          'utility': 1,\n",
              "          'subsonic': 2,\n",
              "          'cxf': 14,\n",
              "          'dispose': 14,\n",
              "          'thread-static': 1,\n",
              "          'volatile': 30,\n",
              "          'data-access-layer': 10,\n",
              "          'computer-science': 41,\n",
              "          'binary-tree': 22,\n",
              "          'theory': 28,\n",
              "          'avl-tree': 2,\n",
              "          'integration': 17,\n",
              "          'stackexchange-api': 2,\n",
              "          'xml-namespaces': 17,\n",
              "          'xmldocument': 10,\n",
              "          'devtools': 2,\n",
              "          'sql-execution-plan': 3,\n",
              "          'windows-server-2003': 3,\n",
              "          'nsis': 11,\n",
              "          'split': 63,\n",
              "          'productivity': 18,\n",
              "          'environment': 23,\n",
              "          'const-correctness': 7,\n",
              "          'code-smell': 4,\n",
              "          'random': 149,\n",
              "          'web-config': 64,\n",
              "          'processmodel': 2,\n",
              "          'named-scope': 3,\n",
              "          'console.writeline': 2,\n",
              "          'hosting': 20,\n",
              "          'alfresco': 3,\n",
              "          'installer': 45,\n",
              "          'wix': 59,\n",
              "          'windows-installer': 54,\n",
              "          'wix3': 15,\n",
              "          'html-table': 21,\n",
              "          'openlaszlo': 2,\n",
              "          'iso-8859-1': 3,\n",
              "          'big-o': 37,\n",
              "          'load-balancing': 22,\n",
              "          'data-protection': 3,\n",
              "          'language-design': 51,\n",
              "          'try-catch': 55,\n",
              "          'memoization': 4,\n",
              "          'equality': 34,\n",
              "          'ksh': 6,\n",
              "          'editing': 9,\n",
              "          'cabal': 22,\n",
              "          'hackage': 4,\n",
              "          'frameworks': 106,\n",
              "          'comments': 49,\n",
              "          'code-comments': 3,\n",
              "          'mathematical-optimization': 17,\n",
              "          'linear-programming': 7,\n",
              "          'cplex': 1,\n",
              "          'gurobi': 1,\n",
              "          'convex-optimization': 1,\n",
              "          'synchronization': 51,\n",
              "          'graph-theory': 19,\n",
              "          'clique': 1,\n",
              "          'cron': 43,\n",
              "          'text-to-speech': 12,\n",
              "          'bin-packing': 1,\n",
              "          'cocoa-touch': 420,\n",
              "          'bitmap': 74,\n",
              "          'p2p': 18,\n",
              "          'dht': 1,\n",
              "          'touchscreen': 5,\n",
              "          'visual-studio-2005': 27,\n",
              "          'cab': 2,\n",
              "          'desktop-shortcut': 3,\n",
              "          'debian': 33,\n",
              "          'standards': 57,\n",
              "          'sprite': 5,\n",
              "          'stack-trace': 27,\n",
              "          'wallpaper': 1,\n",
              "          'd': 43,\n",
              "          'screenshot': 27,\n",
              "          'webpage': 9,\n",
              "          'table-variable': 4,\n",
              "          'primes': 24,\n",
              "          'hlsl': 2,\n",
              "          ...})"
            ]
          },
          "metadata": {
            "tags": []
          },
          "execution_count": 47
        }
      ]
    },
    {
      "cell_type": "code",
      "metadata": {
        "id": "fL31-VaD4uxS"
      },
      "source": [
        "frequencies_words=keywords.most_common(100)"
      ],
      "execution_count": null,
      "outputs": []
    },
    {
      "cell_type": "code",
      "metadata": {
        "colab": {
          "base_uri": "https://localhost:8080/"
        },
        "id": "M5Tou4dl4uxZ",
        "outputId": "eba0b449-e545-4bf8-ff38-0e753f7ae27f"
      },
      "source": [
        "hot_tags = [item[0] for item in frequencies_words[:10]]\n",
        "hot_tags \n"
      ],
      "execution_count": null,
      "outputs": [
        {
          "output_type": "execute_result",
          "data": {
            "text/plain": [
              "['c#',\n",
              " 'java',\n",
              " 'javascript',\n",
              " 'android',\n",
              " 'python',\n",
              " 'c++',\n",
              " 'php',\n",
              " 'jquery',\n",
              " '.net',\n",
              " 'ios']"
            ]
          },
          "metadata": {
            "tags": []
          },
          "execution_count": 49
        }
      ]
    },
    {
      "cell_type": "code",
      "metadata": {
        "colab": {
          "base_uri": "https://localhost:8080/"
        },
        "id": "EL2VB3dt4uxk",
        "outputId": "4b13e358-769d-4b80-bd3e-bddfce9ab467"
      },
      "source": [
        "hot_tags_nums = [item[1] for item in frequencies_words[:10]]\n",
        "hot_tags_nums "
      ],
      "execution_count": null,
      "outputs": [
        {
          "output_type": "execute_result",
          "data": {
            "text/plain": [
              "[6907, 6862, 5560, 5052, 4442, 4369, 3024, 2770, 2705, 2685]"
            ]
          },
          "metadata": {
            "tags": []
          },
          "execution_count": 50
        }
      ]
    },
    {
      "cell_type": "code",
      "metadata": {
        "colab": {
          "base_uri": "https://localhost:8080/",
          "height": 295
        },
        "id": "yvHyXyvL4uxs",
        "outputId": "220526c0-032f-4347-9b55-2bfb164cbc5e"
      },
      "source": [
        "#参数一：y轴 参数二：x轴\n",
        "plt.barh(range(10),hot_tags_nums,height = 0.7,color = 'steelblue',alpha =0.8)\n",
        "plt.yticks(range(10),hot_tags)\n",
        "plt.xlim(2000,7000)\n",
        "for x, y in enumerate(hot_tags_nums):\n",
        "    plt.text(y + 0.2, x - 0.1, '%s' % y)\n",
        "plt.xlabel('frequency')\n",
        "plt.title('The frequency of TOP 10 labels')\n",
        "plt.show()"
      ],
      "execution_count": null,
      "outputs": [
        {
          "output_type": "display_data",
          "data": {
            "image/png": "[encoded data removed]",
            "text/plain": [
              "<Figure size 432x288 with 1 Axes>"
            ]
          },
          "metadata": {
            "tags": [],
            "needs_background": "light"
          }
        }
      ]
    },
    {
      "cell_type": "code",
      "metadata": {
        "colab": {
          "base_uri": "https://localhost:8080/"
        },
        "id": "qq-ROTEv4ux5",
        "outputId": "8805383e-718d-4229-9bb7-39eddc25712a"
      },
      "source": [
        "keyword = nltk.FreqDist(keywords)\n",
        "keyword"
      ],
      "execution_count": null,
      "outputs": [
        {
          "output_type": "execute_result",
          "data": {
            "text/plain": [
              "FreqDist({'flex': 56,\n",
              "          'actionscript-3': 67,\n",
              "          'air': 16,\n",
              "          'svn': 275,\n",
              "          'tortoisesvn': 45,\n",
              "          'branch': 56,\n",
              "          'branching-and-merging': 9,\n",
              "          'sql': 1389,\n",
              "          'asp.net': 1302,\n",
              "          'sitemap': 6,\n",
              "          'algorithm': 842,\n",
              "          'language-agnostic': 205,\n",
              "          'colors': 116,\n",
              "          'color-space': 2,\n",
              "          'c#': 6907,\n",
              "          '.net': 2705,\n",
              "          'scripting': 88,\n",
              "          'compiler-construction': 173,\n",
              "          'c++': 4369,\n",
              "          'oop': 327,\n",
              "          'class': 249,\n",
              "          'nested-class': 8,\n",
              "          'web-services': 219,\n",
              "          'sql-server': 907,\n",
              "          'sql-server-2005': 144,\n",
              "          'deployment': 131,\n",
              "          'release-management': 3,\n",
              "          'visual-studio': 592,\n",
              "          'versioning': 28,\n",
              "          'windows': 721,\n",
              "          'registry': 25,\n",
              "          'installation': 72,\n",
              "          'database': 571,\n",
              "          'loops': 122,\n",
              "          'connection': 30,\n",
              "          'file-locking': 2,\n",
              "          'unix': 228,\n",
              "          'size': 42,\n",
              "          'msbuild': 123,\n",
              "          'cruisecontrol.net': 10,\n",
              "          'web-applications': 140,\n",
              "          'dns': 52,\n",
              "          'subdomain': 14,\n",
              "          'account': 4,\n",
              "          '.net-3.5': 68,\n",
              "          'nant': 10,\n",
              "          'windows-server-2008': 13,\n",
              "          'sql-server-2008': 243,\n",
              "          'unit-testing': 563,\n",
              "          'testing': 230,\n",
              "          'version-control': 228,\n",
              "          'postgresql': 350,\n",
              "          'stored-procedures': 91,\n",
              "          'triggers': 41,\n",
              "          'dataset': 27,\n",
              "          'datatable': 22,\n",
              "          'asp-classic': 30,\n",
              "          'vbscript': 39,\n",
              "          'html': 2129,\n",
              "          'autocomplete': 83,\n",
              "          'c': 1845,\n",
              "          'architecture': 123,\n",
              "          'data-structures': 190,\n",
              "          'flash': 88,\n",
              "          'video': 130,\n",
              "          'embed': 16,\n",
              "          'powershell': 211,\n",
              "          'cmdlets': 3,\n",
              "          'optimization': 248,\n",
              "          'setter': 8,\n",
              "          'getter': 11,\n",
              "          'verification': 3,\n",
              "          'winforms': 363,\n",
              "          'error-handling': 106,\n",
              "          'user-controls': 42,\n",
              "          'paging': 17,\n",
              "          'php': 3024,\n",
              "          'mysql': 1286,\n",
              "          'security': 354,\n",
              "          'cracking': 2,\n",
              "          'hijacked': 1,\n",
              "          'fogbugz': 5,\n",
              "          'full-text-search': 33,\n",
              "          'math': 289,\n",
              "          'ruby': 1249,\n",
              "          'rake': 49,\n",
              "          'command-line-interface': 35,\n",
              "          'java': 6862,\n",
              "          'code-coverage': 37,\n",
              "          'static-analysis': 32,\n",
              "          'diagram': 15,\n",
              "          'ado.net': 59,\n",
              "          'wsdl': 34,\n",
              "          'jni': 54,\n",
              "          'java-web-start': 18,\n",
              "          'nativelibrary': 5,\n",
              "          'dvcs': 25,\n",
              "          'user-interface': 229,\n",
              "          'directx': 30,\n",
              "          'xml': 535,\n",
              "          'xml-signature': 3,\n",
              "          'regex': 662,\n",
              "          'ansi': 3,\n",
              "          'email': 158,\n",
              "          'forms': 207,\n",
              "          'confirm': 6,\n",
              "          'sharepoint': 37,\n",
              "          'assemblies': 43,\n",
              "          'indexing': 106,\n",
              "          'n-tier': 11,\n",
              "          'authentication': 170,\n",
              "          'subclipse': 12,\n",
              "          'foreign-keys': 42,\n",
              "          'redistributable': 2,\n",
              "          'logging': 224,\n",
              "          'permissions': 69,\n",
              "          'continuous-integration': 82,\n",
              "          'linux': 935,\n",
              "          'ssh': 89,\n",
              "          'selenium': 132,\n",
              "          'javascript': 5560,\n",
              "          'firefox': 198,\n",
              "          'memory': 226,\n",
              "          'cpu': 23,\n",
              "          'swt': 26,\n",
              "          'executable': 13,\n",
              "          'software-distribution': 6,\n",
              "          'file': 243,\n",
              "          'io': 77,\n",
              "          'css': 1980,\n",
              "          'validation': 222,\n",
              "          'xhtml': 72,\n",
              "          'cross-browser': 81,\n",
              "          'w3c': 20,\n",
              "          'windows-services': 59,\n",
              "          'printing': 80,\n",
              "          'linq': 409,\n",
              "          'plugins': 80,\n",
              "          'extensibility': 1,\n",
              "          'ant': 93,\n",
              "          'build-process': 50,\n",
              "          'collections': 180,\n",
              "          'objective-c': 1768,\n",
              "          'osx': 582,\n",
              "          'webcam': 7,\n",
              "          'isight': 1,\n",
              "          'function': 264,\n",
              "          'pointers': 208,\n",
              "          'syntax': 185,\n",
              "          'parameters': 87,\n",
              "          'lisp': 95,\n",
              "          'scheme': 38,\n",
              "          'pagination': 27,\n",
              "          'string': 813,\n",
              "          'asp.net-mvc': 1004,\n",
              "          'binding': 90,\n",
              "          'dynamic-binding': 6,\n",
              "          'static-binding': 1,\n",
              "          'hardware': 14,\n",
              "          'storage': 20,\n",
              "          'raid': 2,\n",
              "          'disk': 9,\n",
              "          '.net-2.0': 31,\n",
              "          'remoting': 9,\n",
              "          'rpc': 16,\n",
              "          'emacs': 256,\n",
              "          'ikvm': 2,\n",
              "          'gnu-classpath': 1,\n",
              "          'apache': 232,\n",
              "          'upload': 38,\n",
              "          'python': 4442,\n",
              "          'code-generation': 36,\n",
              "          'swig': 11,\n",
              "          'ajax': 476,\n",
              "          'performance': 845,\n",
              "          'design-patterns': 253,\n",
              "          'fileparse': 1,\n",
              "          'internet-explorer': 222,\n",
              "          'unicode': 200,\n",
              "          'virtualization': 11,\n",
              "          'hyper-v': 3,\n",
              "          'sockets': 195,\n",
              "          'ip': 20,\n",
              "          'router': 6,\n",
              "          'nlog': 17,\n",
              "          'health-monitoring': 2,\n",
              "          'content-management-system': 21,\n",
              "          'n2': 1,\n",
              "          'wmi': 17,\n",
              "          'jsp': 102,\n",
              "          'tomcat': 156,\n",
              "          'resources': 80,\n",
              "          'denormalization': 4,\n",
              "          'vb.net': 236,\n",
              "          'multithreading': 702,\n",
              "          'exception': 299,\n",
              "          'bug-tracking': 8,\n",
              "          'cruisecontrol.rb': 1,\n",
              "          'iis-7': 68,\n",
              "          'upsert': 7,\n",
              "          'process': 93,\n",
              "          'batch-file': 123,\n",
              "          'opengl': 139,\n",
              "          'textures': 17,\n",
              "          'rgb': 23,\n",
              "          'monochrome': 1,\n",
              "          'glut': 1,\n",
              "          'menu': 33,\n",
              "          'vim': 333,\n",
              "          'editor': 60,\n",
              "          'vi': 32,\n",
              "          'linq-to-sql': 84,\n",
              "          'attributes': 62,\n",
              "          'versions': 6,\n",
              "          'c-preprocessor': 63,\n",
              "          'asp.net-mvc-routing': 28,\n",
              "          'design': 156,\n",
              "          'outlook': 23,\n",
              "          'message': 10,\n",
              "          'msg': 1,\n",
              "          'enums': 183,\n",
              "          'spring': 552,\n",
              "          'osgi': 33,\n",
              "          'hash': 155,\n",
              "          'tsql': 296,\n",
              "          'sql-server-2000': 19,\n",
              "          'haskell': 728,\n",
              "          'types': 247,\n",
              "          'functional-programming': 195,\n",
              "          'algebraic-data-types': 6,\n",
              "          'zip': 40,\n",
              "          'glew': 3,\n",
              "          'intellisense': 29,\n",
              "          'knowledge-management': 3,\n",
              "          'parsing': 222,\n",
              "          'monads': 76,\n",
              "          'configuration-files': 27,\n",
              "          'ankhsvn': 4,\n",
              "          'ruby-on-rails': 1524,\n",
              "          'open-source': 75,\n",
              "          'mono': 80,\n",
              "          'licensing': 23,\n",
              "          'gridview': 47,\n",
              "          'infragistics': 5,\n",
              "          'ultrawebgrid': 1,\n",
              "          'xcode': 804,\n",
              "          'refactoring': 52,\n",
              "          'ms-word': 22,\n",
              "          'rtf': 6,\n",
              "          'swing': 248,\n",
              "          'jpanel': 18,\n",
              "          'silverlight': 146,\n",
              "          'django': 850,\n",
              "          'shared-hosting': 4,\n",
              "          'hostmonster': 1,\n",
              "          'url': 164,\n",
              "          'uri': 25,\n",
              "          'authority': 1,\n",
              "          'gin': 3,\n",
              "          'gist-index': 1,\n",
              "          'caching': 203,\n",
              "          'memcached': 39,\n",
              "          'enterprise-library': 9,\n",
              "          'wcf': 259,\n",
              "          'firewall': 6,\n",
              "          'push': 25,\n",
              "          'duplex': 1,\n",
              "          'kr-c': 1,\n",
              "          'c89': 9,\n",
              "          'datetime': 262,\n",
              "          'user-defined-functions': 10,\n",
              "          'session': 166,\n",
              "          'cookies': 126,\n",
              "          'coding-style': 148,\n",
              "          'windows-vista': 18,\n",
              "          'database-design': 126,\n",
              "          'serialization': 160,\n",
              "          'lambda': 198,\n",
              "          'proc-object': 1,\n",
              "          'arrays': 791,\n",
              "          'shoes': 4,\n",
              "          'irc': 10,\n",
              "          'model-view-controller': 105,\n",
              "          'web-frameworks': 11,\n",
              "          'pivot': 17,\n",
              "          'build-automation': 34,\n",
              "          'ide': 128,\n",
              "          'vb6': 42,\n",
              "          'abstraction': 7,\n",
              "          'daemon': 22,\n",
              "          'memory-leaks': 139,\n",
              "          'ruby-1.9': 7,\n",
              "          'sqlite': 224,\n",
              "          'jquery': 2770,\n",
              "          'json': 688,\n",
              "          'character-encoding': 86,\n",
              "          'timespan': 14,\n",
              "          'xpath': 89,\n",
              "          'excel': 211,\n",
              "          'excel-vba': 96,\n",
              "          'comparison': 77,\n",
              "          'winapi': 197,\n",
              "          'enumeration': 21,\n",
              "          'iterable': 5,\n",
              "          'recursion': 103,\n",
              "          'trace': 10,\n",
              "          'qt': 273,\n",
              "          'mfc': 29,\n",
              "          'doi': 1,\n",
              "          'casting': 156,\n",
              "          'rtti': 8,\n",
              "          'dynamic-cast': 8,\n",
              "          'file-organization': 3,\n",
              "          'android': 5052,\n",
              "          'proxy': 82,\n",
              "          'windows-mobile': 9,\n",
              "          'sysadmin': 8,\n",
              "          'administration': 4,\n",
              "          'rest': 311,\n",
              "          'soap': 67,\n",
              "          'wpf': 791,\n",
              "          'tracking': 6,\n",
              "          'udp': 36,\n",
              "          '2d': 21,\n",
              "          'replication': 13,\n",
              "          'mysql-error-1062': 1,\n",
              "          'binlog': 1,\n",
              "          'oracle': 312,\n",
              "          'content-type': 21,\n",
              "          'mhtml': 1,\n",
              "          'log4j': 59,\n",
              "          'java.util.logging': 6,\n",
              "          'xslt': 86,\n",
              "          'puzzle': 12,\n",
              "          'smtp': 43,\n",
              "          'gmail': 47,\n",
              "          'nan': 110,\n",
              "          'assert': 24,\n",
              "          'datarowview': 1,\n",
              "          'defaultview': 1,\n",
              "          'client': 18,\n",
              "          'ria': 3,\n",
              "          'mocking': 116,\n",
              "          'moq': 45,\n",
              "          'rhino-mocks': 13,\n",
              "          'components': 25,\n",
              "          'dvd': 4,\n",
              "          'wolfram-mathematica': 61,\n",
              "          'symbolic-math': 4,\n",
              "          'computer-algebra-systems': 1,\n",
              "          'templates': 345,\n",
              "          'xcode4': 92,\n",
              "          'xcode4.5': 18,\n",
              "          'networking': 133,\n",
              "          'ethernet': 4,\n",
              "          'screen-scraping': 18,\n",
              "          'visual-studio-2008': 150,\n",
              "          'sha1': 14,\n",
              "          'concurrency': 147,\n",
              "          'terminology': 41,\n",
              "          'race-condition': 12,\n",
              "          'tdd': 95,\n",
              "          'pair-programming': 2,\n",
              "          'perl': 384,\n",
              "          'locking': 58,\n",
              "          'verilog': 6,\n",
              "          'http': 305,\n",
              "          'iframe': 109,\n",
              "          'pylint': 17,\n",
              "          'pyflakes': 1,\n",
              "          'api': 249,\n",
              "          'messaging': 9,\n",
              "          'distributed': 22,\n",
              "          'cluster-computing': 16,\n",
              "          'graphics': 131,\n",
              "          'audio': 114,\n",
              "          'photoshop': 11,\n",
              "          'signal-processing': 27,\n",
              "          'domain-driven-design': 55,\n",
              "          'cross-platform': 51,\n",
              "          '32-bit': 17,\n",
              "          'sorting': 238,\n",
              "          'f#': 194,\n",
              "          'ocaml': 59,\n",
              "          'remote-desktop': 7,\n",
              "          'count': 51,\n",
              "          'x86': 79,\n",
              "          'sse': 37,\n",
              "          'assembly': 142,\n",
              "          'download': 65,\n",
              "          'maps': 30,\n",
              "          'bash': 523,\n",
              "          'research': 7,\n",
              "          'class-design': 17,\n",
              "          'schema': 28,\n",
              "          'overloading': 33,\n",
              "          'methods': 87,\n",
              "          'parameter-passing': 26,\n",
              "          'pass-by-reference': 30,\n",
              "          'pass-by-value': 13,\n",
              "          'automatic-properties': 12,\n",
              "          'codeigniter': 111,\n",
              "          'zend-framework': 83,\n",
              "          'smarty': 7,\n",
              "          'encryption': 106,\n",
              "          'cryptography': 56,\n",
              "          'file-io': 133,\n",
              "          'variadic-functions': 12,\n",
              "          'qa': 6,\n",
              "          'regression': 7,\n",
              "          'namespaces': 97,\n",
              "          'fuzzy-search': 11,\n",
              "          'shell': 335,\n",
              "          'windows-xp': 29,\n",
              "          'date': 237,\n",
              "          'configuration': 109,\n",
              "          'mercurial': 130,\n",
              "          'perforce': 18,\n",
              "          'p4merge': 1,\n",
              "          'regex-negation': 6,\n",
              "          'operating-system': 58,\n",
              "          'kernel': 47,\n",
              "          'osdev': 6,\n",
              "          'django-urls': 8,\n",
              "          'nhibernate': 113,\n",
              "          'flush': 6,\n",
              "          'mime': 14,\n",
              "          'group-by': 41,\n",
              "          'string-concatenation': 14,\n",
              "          'concat': 6,\n",
              "          'mp3': 16,\n",
              "          'ffmpeg': 72,\n",
              "          'sendmail': 10,\n",
              "          'smarthost': 1,\n",
              "          'clickonce': 20,\n",
              "          'eclipse': 786,\n",
              "          'cil': 17,\n",
              "          'nullable': 31,\n",
              "          'friendly-url': 6,\n",
              "          'interface': 148,\n",
              "          'wacom': 1,\n",
              "          'inno-setup': 16,\n",
              "          'dialog': 55,\n",
              "          'projects-and-solutions': 23,\n",
              "          'iphone': 1781,\n",
              "          'xib': 20,\n",
              "          'key-value-coding': 5,\n",
              "          'ora-00942': 2,\n",
              "          'reference': 112,\n",
              "          'labview': 2,\n",
              "          'ms-access': 52,\n",
              "          'vba': 128,\n",
              "          'code-snippets': 10,\n",
              "          'compiler-errors': 60,\n",
              "          'scalability': 31,\n",
              "          'viewstate': 9,\n",
              "          'social-networking': 13,\n",
              "          'macros': 77,\n",
              "          'tweak': 3,\n",
              "          'focus': 40,\n",
              "          'visual-studio-addins': 3,\n",
              "          'iterator': 101,\n",
              "          'mod-rewrite': 44,\n",
              "          'cocoa': 359,\n",
              "          'bounds-checker': 1,\n",
              "          'purify': 1,\n",
              "          'specifications': 18,\n",
              "          'garbage-collection': 139,\n",
              "          'positioning': 15,\n",
              "          'project-management': 45,\n",
              "          'debugging': 391,\n",
              "          'release': 25,\n",
              "          'time': 114,\n",
              "          'usability': 15,\n",
              "          'ui-guidelines': 1,\n",
              "          'demoscene': 1,\n",
              "          'applet': 28,\n",
              "          'sequence': 19,\n",
              "          'reset': 13,\n",
              "          'path': 91,\n",
              "          'relative-path': 14,\n",
              "          'absolute-path': 6,\n",
              "          'runtime': 44,\n",
              "          'specs': 3,\n",
              "          'operators': 86,\n",
              "          'comma-operator': 3,\n",
              "          'pdb-files': 6,\n",
              "          'google-reader': 1,\n",
              "          'git': 1013,\n",
              "          'paypal': 33,\n",
              "          'scala': 709,\n",
              "          'list': 334,\n",
              "          'webforms': 40,\n",
              "          'login': 62,\n",
              "          'ntlm': 7,\n",
              "          'settings': 34,\n",
              "          'cakephp': 78,\n",
              "          'acl': 15,\n",
              "          'security-roles': 1,\n",
              "          'iis': 171,\n",
              "          'wcf-data-services': 7,\n",
              "          'image': 326,\n",
              "          'error-suppression': 1,\n",
              "          'dictionary': 162,\n",
              "          'variables': 153,\n",
              "          'service': 75,\n",
              "          'profiling': 72,\n",
              "          'merge': 89,\n",
              "          'visualization': 36,\n",
              "          'floating-point': 138,\n",
              "          'definition': 13,\n",
              "          'solid-principles': 9,\n",
              "          'design-principles': 3,\n",
              "          'lsp': 3,\n",
              "          'fluent-interface': 11,\n",
              "          'sourcegear-vault': 1,\n",
              "          'version-control-migration': 2,\n",
              "          'goto': 9,\n",
              "          'continue': 2,\n",
              "          'flexbuilder': 5,\n",
              "          'sqlclr': 9,\n",
              "          'gdi+': 27,\n",
              "          'xna': 33,\n",
              "          'rendering': 32,\n",
              "          'exception-handling': 161,\n",
              "          'mime-types': 25,\n",
              "          'ssis': 36,\n",
              "          'pdf': 177,\n",
              "          'google-analytics': 78,\n",
              "          'png': 35,\n",
              "          'svg': 128,\n",
              "          'localization': 89,\n",
              "          'globalization': 17,\n",
              "          'captcha': 6,\n",
              "          'gcc': 323,\n",
              "          'inheritance': 231,\n",
              "          'member-function-pointers': 9,\n",
              "          'escaping': 67,\n",
              "          'information-hiding': 2,\n",
              "          'pimpl-idiom': 3,\n",
              "          'postback': 8,\n",
              "          'webserver': 36,\n",
              "          'internet-explorer-6': 17,\n",
              "          'profiler': 20,\n",
              "          'inline-functions': 3,\n",
              "          'aquamacs': 4,\n",
              "          'command-line': 155,\n",
              "          'console': 86,\n",
              "          'terminal': 82,\n",
              "          'directory-structure': 11,\n",
              "          'stdout': 29,\n",
              "          'static-block': 3,\n",
              "          'layout': 118,\n",
              "          'subversive': 6,\n",
              "          'integration-testing': 38,\n",
              "          'testing-strategies': 1,\n",
              "          'properties': 117,\n",
              "          'rdbms': 12,\n",
              "          'relational': 3,\n",
              "          'oodbms': 3,\n",
              "          'zbuffer': 1,\n",
              "          'sum': 17,\n",
              "          'entity-framework': 381,\n",
              "          'axis': 11,\n",
              "          'primary-key': 31,\n",
              "          'key': 40,\n",
              "          'agile': 27,\n",
              "          'scrum': 23,\n",
              "          'development-process': 1,\n",
              "          'process-management': 3,\n",
              "          'ubuntu': 187,\n",
              "          'camera': 54,\n",
              "          'actionscript': 23,\n",
              "          'copy-paste': 14,\n",
              "          'breakpoints': 22,\n",
              "          'keyboard': 65,\n",
              "          'keyboard-shortcuts': 67,\n",
              "          'text': 111,\n",
              "          'utf-8': 126,\n",
              "          'gcj': 1,\n",
              "          'workflow': 29,\n",
              "          'jvm': 128,\n",
              "          'doc': 4,\n",
              "          'wysiwyg': 19,\n",
              "          'embedded': 57,\n",
              "          'google-chrome': 334,\n",
              "          'google-chrome-devtools': 48,\n",
              "          'wget': 12,\n",
              "          'rdf': 14,\n",
              "          'semantics': 22,\n",
              "          'semantic-web': 9,\n",
              "          'owl': 4,\n",
              "          'ontology': 4,\n",
              "          'gtk': 20,\n",
              "          'pygtk': 16,\n",
              "          'gobject': 5,\n",
              "          'rspec': 118,\n",
              "          'makefile': 105,\n",
              "          'credit-card': 7,\n",
              "          'generics': 387,\n",
              "          'internationalization': 83,\n",
              "          'sed': 61,\n",
              "          'character': 27,\n",
              "          'code-reuse': 8,\n",
              "          'python-internals': 19,\n",
              "          'struct': 102,\n",
              "          'value-type': 17,\n",
              "          'reference-type': 5,\n",
              "          'extension-methods': 46,\n",
              "          'textselection': 5,\n",
              "          'safari': 75,\n",
              "          'gnuplot': 24,\n",
              "          'statistics': 62,\n",
              "          'state-machines': 6,\n",
              "          'hidden-markov-models': 4,\n",
              "          'markov-models': 1,\n",
              "          'imap': 11,\n",
              "          'maildir': 1,\n",
              "          'memory-management': 235,\n",
              "          'maven-2': 122,\n",
              "          'recommendation-engine': 4,\n",
              "          'digg': 1,\n",
              "          'resolution': 7,\n",
              "          'greasemonkey': 14,\n",
              "          'textbox': 50,\n",
              "          'scrollbar': 28,\n",
              "          'rpm': 8,\n",
              "          'pdf-generation': 36,\n",
              "          'drop-down-menu': 39,\n",
              "          'plsql': 49,\n",
              "          'visualsvn-server': 4,\n",
              "          'window': 39,\n",
              "          'restore': 16,\n",
              "          'delegates': 80,\n",
              "          'notifications': 66,\n",
              "          'axis2': 5,\n",
              "          'wsdl2java': 2,\n",
              "          'tiff': 3,\n",
              "          'orm': 122,\n",
              "          'jpa': 199,\n",
              "          'transactions': 92,\n",
              "          'encoding': 94,\n",
              "          'query-string': 21,\n",
              "          'modeling': 7,\n",
              "          'desktop': 13,\n",
              "          'build': 119,\n",
              "          'automation': 37,\n",
              "          'api-design': 12,\n",
              "          'mxml': 1,\n",
              "          'reportlab': 8,\n",
              "          'post': 96,\n",
              "          'header': 47,\n",
              "          'google-app-engine': 175,\n",
              "          'bigtable': 2,\n",
              "          'tfs': 99,\n",
              "          'com': 59,\n",
              "          'protocols': 32,\n",
              "          'custom-url-protocol': 1,\n",
              "          'finalize': 3,\n",
              "          'phantom-reference': 1,\n",
              "          'xforms': 2,\n",
              "          'global': 20,\n",
              "          'hotkeys': 11,\n",
              "          'legacy': 9,\n",
              "          'file-upload': 98,\n",
              "          'firefox-3': 1,\n",
              "          'jar': 77,\n",
              "          'restructuredtext': 9,\n",
              "          'uberjar': 2,\n",
              "          'ip-address': 27,\n",
              "          'wordpress': 122,\n",
              "          'widget': 28,\n",
              "          'facebook': 319,\n",
              "          'grails': 110,\n",
              "          'groovy': 109,\n",
              "          'c++11': 669,\n",
              "          'typeof': 9,\n",
              "          'multilingual': 10,\n",
              "          'boost-serialization': 6,\n",
              "          'matlab': 240,\n",
              "          'fonts': 120,\n",
              "          'true-type-fonts': 8,\n",
              "          'browser': 178,\n",
              "          'filenames': 28,\n",
              "          'listings': 1,\n",
              "          'truncate': 13,\n",
              "          'exists': 14,\n",
              "          'active-directory': 41,\n",
              "          'ldap': 26,\n",
              "          'cluster-analysis': 20,\n",
              "          'hierarchical-clustering': 4,\n",
              "          'foreach': 72,\n",
              "          'syntactic-sugar': 10,\n",
              "          'openid': 35,\n",
              "          'gis': 19,\n",
              "          'jce': 5,\n",
              "          'jsse': 5,\n",
              "          'webrequest': 9,\n",
              "          'webresponse': 2,\n",
              "          'grep': 59,\n",
              "          'automated-tests': 33,\n",
              "          'reporting-services': 38,\n",
              "          'recovery': 3,\n",
              "          'app-code': 3,\n",
              "          'metaprogramming': 39,\n",
              "          'google-docs': 13,\n",
              "          'desktop-application': 14,\n",
              "          'nlp': 65,\n",
              "          'word-frequency': 2,\n",
              "          'converter': 21,\n",
              "          'tree': 58,\n",
              "          'sharding': 7,\n",
              "          'prettify': 3,\n",
              "          'file-format': 9,\n",
              "          'quicken': 1,\n",
              "          'virtual-machine': 29,\n",
              "          'jira': 15,\n",
              "          'ssl': 182,\n",
              "          'brokenimage': 1,\n",
              "          'sql-injection': 21,\n",
              "          'language-features': 22,\n",
              "          'scheduling': 16,\n",
              "          'xaml': 196,\n",
              "          'streaming': 35,\n",
              "          'managed-c++': 6,\n",
              "          'java-ee': 142,\n",
              "          'workspace': 8,\n",
              "          'castle-windsor': 21,\n",
              "          'aop': 34,\n",
              "          'reverse-proxy': 11,\n",
              "          'subfolder': 3,\n",
              "          'uac': 22,\n",
              "          'dependencies': 68,\n",
              "          'code-analysis': 16,\n",
              "          'ftp': 49,\n",
              "          'eclipse-pdt': 5,\n",
              "          'reflection': 220,\n",
              "          '.net-attributes': 2,\n",
              "          'blazeds': 1,\n",
              "          'puremvc': 1,\n",
              "          'state': 24,\n",
              "          'servlets': 107,\n",
              "          'visual-c++': 160,\n",
              "          'constructor': 154,\n",
              "          'crash': 49,\n",
              "          'visual-sourcesafe': 6,\n",
              "          'stl': 181,\n",
              "          'stdmap': 9,\n",
              "          'copy': 35,\n",
              "          'usb-drive': 2,\n",
              "          'mouse': 30,\n",
              "          'hidden': 13,\n",
              "          'undefined-behavior': 34,\n",
              "          'c++-faq': 18,\n",
              "          'strict-aliasing': 9,\n",
              "          'type-punning': 6,\n",
              "          'localhost': 31,\n",
              "          'loopback': 1,\n",
              "          'serversocket': 2,\n",
              "          'xml-serialization': 34,\n",
              "          'blogs': 13,\n",
              "          'events': 188,\n",
              "          'eclipse-3.4': 4,\n",
              "          'ganymede': 2,\n",
              "          'text-comparison': 1,\n",
              "          'uniqueidentifier': 13,\n",
              "          'symlink': 21,\n",
              "          'imdb': 1,\n",
              "          'text-editor': 16,\n",
              "          'hidden-features': 2,\n",
              "          'code-behind': 11,\n",
              "          'naming-conventions': 75,\n",
              "          'csv': 117,\n",
              "          'documentation': 103,\n",
              "          'xml-rpc': 6,\n",
              "          'errorformat': 1,\n",
              "          'get': 34,\n",
              "          'farseer': 4,\n",
              "          'margin': 16,\n",
              "          'internals': 14,\n",
              "          'install': 42,\n",
              "          'cpan': 12,\n",
              "          'development-environment': 24,\n",
              "          'superfish': 1,\n",
              "          'permutation': 27,\n",
              "          'combinatorics': 16,\n",
              "          'python-2.5': 6,\n",
              "          'sqlanywhere': 1,\n",
              "          'eclipse-wtp': 5,\n",
              "          'guid': 26,\n",
              "          'windbg': 21,\n",
              "          'internalsvisibleto': 2,\n",
              "          'traceback': 7,\n",
              "          'treeview': 19,\n",
              "          'put': 13,\n",
              "          'timezone': 87,\n",
              "          'javamail': 12,\n",
              "          'developer-machine': 1,\n",
              "          'lamp': 13,\n",
              "          'web-farm': 3,\n",
              "          'prototypejs': 21,\n",
              "          'scriptaculous': 2,\n",
              "          'versioninfo': 1,\n",
              "          'gd': 21,\n",
              "          'dotnetnuke': 6,\n",
              "          'scheduler': 10,\n",
              "          'server.mappath': 2,\n",
              "          'actionmailer': 22,\n",
              "          'likely-unlikely': 2,\n",
              "          'lazylist': 1,\n",
              "          'source-filter': 1,\n",
              "          'ms-office': 19,\n",
              "          'add-in': 15,\n",
              "          'iis-6': 16,\n",
              "          'emulator': 27,\n",
              "          'machine-language': 1,\n",
              "          '6502': 1,\n",
              "          'function-pointers': 33,\n",
              "          'syntax-highlighting': 47,\n",
              "          'fieldset': 2,\n",
              "          'legend': 21,\n",
              "          'currying': 13,\n",
              "          'partial-application': 7,\n",
              "          'abstract-class': 43,\n",
              "          'virtual-functions': 15,\n",
              "          'delphi': 438,\n",
              "          'oledb': 7,\n",
              "          'ado': 8,\n",
              "          'performancecounter': 3,\n",
              "          'anonymous-objects': 2,\n",
              "          'chat': 21,\n",
              "          'xmpp': 29,\n",
              "          'hashmap': 47,\n",
              "          'hashtable': 21,\n",
              "          'compression': 55,\n",
              "          'view': 83,\n",
              "          'tcp': 79,\n",
              "          'label': 25,\n",
              "          'p4v': 2,\n",
              "          'geolocation': 47,\n",
              "          'distance': 14,\n",
              "          'kill': 7,\n",
              "          'teamcity': 52,\n",
              "          'redhat': 12,\n",
              "          'curl': 104,\n",
              "          'autofield': 1,\n",
              "          'clearcase': 7,\n",
              "          'charts': 48,\n",
              "          'fullscreen': 19,\n",
              "          'keyboard-hook': 4,\n",
              "          'sqlplus': 10,\n",
              "          'python-idle': 7,\n",
              "          'komodo': 1,\n",
              "          'pywin': 1,\n",
              "          'numpy': 284,\n",
              "          'subclass': 17,\n",
              "          'slice': 20,\n",
              "          'ellipsis': 8,\n",
              "          'gas': 4,\n",
              "          'business-logic': 7,\n",
              "          'lucene': 48,\n",
              "          'short': 5,\n",
              "          'favicon': 18,\n",
              "          'software-quality': 2,\n",
              "          'eclipse-plugin': 50,\n",
              "          'jad': 1,\n",
              "          'filesystems': 55,\n",
              "          'naming': 14,\n",
              "          'backup': 39,\n",
              "          'reflection.emit': 4,\n",
              "          'clr': 57,\n",
              "          'bytecode': 25,\n",
              "          'il': 13,\n",
              "          'inversion-of-control': 49,\n",
              "          'mef': 13,\n",
              "          'object': 146,\n",
              "          'capistrano': 28,\n",
              "          'mongrel': 5,\n",
              "          'asynchronous': 188,\n",
              "          'awt': 20,\n",
              "          'toolkit': 4,\n",
              "          'javax.imageio': 4,\n",
              "          'mantis': 1,\n",
              "          'scmbug': 1,\n",
              "          'polymorphism': 64,\n",
              "          'multiple-dispatch': 1,\n",
              "          'double-dispatch': 2,\n",
              "          'boost': 199,\n",
              "          'clean-language': 2,\n",
              "          'ui-virtualization': 1,\n",
              "          'undo': 12,\n",
              "          'cherry-pick': 6,\n",
              "          'image-processing': 160,\n",
              "          'soa': 20,\n",
              "          'uddi': 3,\n",
              "          'jdbc': 121,\n",
              "          'credentials': 7,\n",
              "          'dom': 167,\n",
              "          'clipboard': 25,\n",
              "          'extern-c': 3,\n",
              "          'software-engineering': 26,\n",
              "          'driver': 19,\n",
              "          'wdk': 2,\n",
              "          '3d': 59,\n",
              "          'geometry': 68,\n",
              "          'reverseprojection': 1,\n",
              "          'thumbnails': 13,\n",
              "          'eol': 6,\n",
              "          'diagramming': 2,\n",
              "          'assertions': 4,\n",
              "          'defensive-programming': 4,\n",
              "          'certificate': 58,\n",
              "          'code-signing': 21,\n",
              "          'custom-server-controls': 1,\n",
              "          'linker': 107,\n",
              "          'atomic': 31,\n",
              "          'migration': 64,\n",
              "          'icons': 63,\n",
              "          'utility': 1,\n",
              "          'subsonic': 2,\n",
              "          'cxf': 14,\n",
              "          'dispose': 14,\n",
              "          'thread-static': 1,\n",
              "          'volatile': 30,\n",
              "          'data-access-layer': 10,\n",
              "          'computer-science': 41,\n",
              "          'binary-tree': 22,\n",
              "          'theory': 28,\n",
              "          'avl-tree': 2,\n",
              "          'integration': 17,\n",
              "          'stackexchange-api': 2,\n",
              "          'xml-namespaces': 17,\n",
              "          'xmldocument': 10,\n",
              "          'devtools': 2,\n",
              "          'sql-execution-plan': 3,\n",
              "          'windows-server-2003': 3,\n",
              "          'nsis': 11,\n",
              "          'split': 63,\n",
              "          'productivity': 18,\n",
              "          'environment': 23,\n",
              "          'const-correctness': 7,\n",
              "          'code-smell': 4,\n",
              "          'random': 149,\n",
              "          'web-config': 64,\n",
              "          'processmodel': 2,\n",
              "          'named-scope': 3,\n",
              "          'console.writeline': 2,\n",
              "          'hosting': 20,\n",
              "          'alfresco': 3,\n",
              "          'installer': 45,\n",
              "          'wix': 59,\n",
              "          'windows-installer': 54,\n",
              "          'wix3': 15,\n",
              "          'html-table': 21,\n",
              "          'openlaszlo': 2,\n",
              "          'iso-8859-1': 3,\n",
              "          'big-o': 37,\n",
              "          'load-balancing': 22,\n",
              "          'data-protection': 3,\n",
              "          'language-design': 51,\n",
              "          'try-catch': 55,\n",
              "          'memoization': 4,\n",
              "          'equality': 34,\n",
              "          'ksh': 6,\n",
              "          'editing': 9,\n",
              "          'cabal': 22,\n",
              "          'hackage': 4,\n",
              "          'frameworks': 106,\n",
              "          'comments': 49,\n",
              "          'code-comments': 3,\n",
              "          'mathematical-optimization': 17,\n",
              "          'linear-programming': 7,\n",
              "          'cplex': 1,\n",
              "          'gurobi': 1,\n",
              "          'convex-optimization': 1,\n",
              "          'synchronization': 51,\n",
              "          'graph-theory': 19,\n",
              "          'clique': 1,\n",
              "          'cron': 43,\n",
              "          'text-to-speech': 12,\n",
              "          'bin-packing': 1,\n",
              "          'cocoa-touch': 420,\n",
              "          'bitmap': 74,\n",
              "          'p2p': 18,\n",
              "          'dht': 1,\n",
              "          'touchscreen': 5,\n",
              "          'visual-studio-2005': 27,\n",
              "          'cab': 2,\n",
              "          'desktop-shortcut': 3,\n",
              "          'debian': 33,\n",
              "          'standards': 57,\n",
              "          'sprite': 5,\n",
              "          'stack-trace': 27,\n",
              "          'wallpaper': 1,\n",
              "          'd': 43,\n",
              "          'screenshot': 27,\n",
              "          'webpage': 9,\n",
              "          'table-variable': 4,\n",
              "          'primes': 24,\n",
              "          'hlsl': 2,\n",
              "          ...})"
            ]
          },
          "metadata": {
            "tags": []
          },
          "execution_count": 52
        }
      ]
    },
    {
      "cell_type": "code",
      "metadata": {
        "id": "hoIcs5aj4uyM"
      },
      "source": [
        "#most_common()函数 \n",
        "# most_common(n)按照降序，返回前n项组成的list; n忽略时返回全部\n",
        "frquencies_words = keyword.most_common(100)\n",
        "tag_features = [word[0] for word in frequencies_words]"
      ],
      "execution_count": null,
      "outputs": []
    },
    {
      "cell_type": "code",
      "metadata": {
        "colab": {
          "base_uri": "https://localhost:8080/"
        },
        "id": "6CJhdFzX4uyV",
        "scrolled": true,
        "outputId": "e6c35457-2b8a-460e-d30a-578f37850a91"
      },
      "source": [
        "frequencies_words"
      ],
      "execution_count": null,
      "outputs": [
        {
          "output_type": "execute_result",
          "data": {
            "text/plain": [
              "[('c#', 6907),\n",
              " ('java', 6862),\n",
              " ('javascript', 5560),\n",
              " ('android', 5052),\n",
              " ('python', 4442),\n",
              " ('c++', 4369),\n",
              " ('php', 3024),\n",
              " ('jquery', 2770),\n",
              " ('.net', 2705),\n",
              " ('ios', 2685),\n",
              " ('html', 2129),\n",
              " ('css', 1980),\n",
              " ('c', 1845),\n",
              " ('iphone', 1781),\n",
              " ('objective-c', 1768),\n",
              " ('ruby-on-rails', 1524),\n",
              " ('sql', 1389),\n",
              " ('asp.net', 1302),\n",
              " ('mysql', 1286),\n",
              " ('ruby', 1249),\n",
              " ('r', 1120),\n",
              " ('git', 1013),\n",
              " ('asp.net-mvc', 1004),\n",
              " ('linux', 935),\n",
              " ('sql-server', 907),\n",
              " ('node.js', 875),\n",
              " ('angularjs', 873),\n",
              " ('django', 850),\n",
              " ('performance', 845),\n",
              " ('algorithm', 842),\n",
              " ('string', 813),\n",
              " ('xcode', 804),\n",
              " ('arrays', 791),\n",
              " ('wpf', 791),\n",
              " ('eclipse', 786),\n",
              " ('haskell', 728),\n",
              " ('windows', 721),\n",
              " ('scala', 709),\n",
              " ('multithreading', 702),\n",
              " ('json', 688),\n",
              " ('c++11', 669),\n",
              " ('regex', 662),\n",
              " ('visual-studio', 592),\n",
              " ('html5', 585),\n",
              " ('osx', 582),\n",
              " ('swift', 578),\n",
              " ('database', 571),\n",
              " ('unit-testing', 563),\n",
              " ('spring', 552),\n",
              " ('xml', 535),\n",
              " ('bash', 523),\n",
              " ('ajax', 476),\n",
              " ('delphi', 438),\n",
              " ('cocoa-touch', 420),\n",
              " ('ruby-on-rails-3', 417),\n",
              " ('visual-studio-2010', 410),\n",
              " ('linq', 409),\n",
              " ('debugging', 391),\n",
              " ('generics', 387),\n",
              " ('perl', 384),\n",
              " ('entity-framework', 381),\n",
              " ('mongodb', 374),\n",
              " ('winforms', 363),\n",
              " ('cocoa', 359),\n",
              " ('security', 354),\n",
              " ('postgresql', 350),\n",
              " ('css3', 346),\n",
              " ('templates', 345),\n",
              " ('twitter-bootstrap', 336),\n",
              " ('shell', 335),\n",
              " ('list', 334),\n",
              " ('google-chrome', 334),\n",
              " ('vim', 333),\n",
              " ('oop', 327),\n",
              " ('image', 326),\n",
              " ('hibernate', 325),\n",
              " ('gcc', 323),\n",
              " ('asp.net-mvc-3', 321),\n",
              " ('facebook', 319),\n",
              " ('oracle', 312),\n",
              " ('rest', 311),\n",
              " ('maven', 309),\n",
              " ('http', 305),\n",
              " ('exception', 299),\n",
              " ('tsql', 296),\n",
              " ('math', 289),\n",
              " ('numpy', 284),\n",
              " ('svn', 275),\n",
              " ('qt', 273),\n",
              " ('ipad', 267),\n",
              " ('function', 264),\n",
              " ('datetime', 262),\n",
              " ('wcf', 259),\n",
              " ('emacs', 256),\n",
              " ('design-patterns', 253),\n",
              " ('github', 252),\n",
              " ('class', 249),\n",
              " ('api', 249),\n",
              " ('optimization', 248),\n",
              " ('swing', 248)]"
            ]
          },
          "metadata": {
            "tags": []
          },
          "execution_count": 54
        }
      ]
    },
    {
      "cell_type": "code",
      "metadata": {
        "colab": {
          "base_uri": "https://localhost:8080/"
        },
        "id": "wODPnkxD4uyh",
        "scrolled": true,
        "outputId": "a27ba0d7-84b1-47e3-8bbb-7c4264ac30fb"
      },
      "source": [
        "tag_features"
      ],
      "execution_count": null,
      "outputs": [
        {
          "output_type": "execute_result",
          "data": {
            "text/plain": [
              "['c#',\n",
              " 'java',\n",
              " 'javascript',\n",
              " 'android',\n",
              " 'python',\n",
              " 'c++',\n",
              " 'php',\n",
              " 'jquery',\n",
              " '.net',\n",
              " 'ios',\n",
              " 'html',\n",
              " 'css',\n",
              " 'c',\n",
              " 'iphone',\n",
              " 'objective-c',\n",
              " 'ruby-on-rails',\n",
              " 'sql',\n",
              " 'asp.net',\n",
              " 'mysql',\n",
              " 'ruby',\n",
              " 'r',\n",
              " 'git',\n",
              " 'asp.net-mvc',\n",
              " 'linux',\n",
              " 'sql-server',\n",
              " 'node.js',\n",
              " 'angularjs',\n",
              " 'django',\n",
              " 'performance',\n",
              " 'algorithm',\n",
              " 'string',\n",
              " 'xcode',\n",
              " 'arrays',\n",
              " 'wpf',\n",
              " 'eclipse',\n",
              " 'haskell',\n",
              " 'windows',\n",
              " 'scala',\n",
              " 'multithreading',\n",
              " 'json',\n",
              " 'c++11',\n",
              " 'regex',\n",
              " 'visual-studio',\n",
              " 'html5',\n",
              " 'osx',\n",
              " 'swift',\n",
              " 'database',\n",
              " 'unit-testing',\n",
              " 'spring',\n",
              " 'xml',\n",
              " 'bash',\n",
              " 'ajax',\n",
              " 'delphi',\n",
              " 'cocoa-touch',\n",
              " 'ruby-on-rails-3',\n",
              " 'visual-studio-2010',\n",
              " 'linq',\n",
              " 'debugging',\n",
              " 'generics',\n",
              " 'perl',\n",
              " 'entity-framework',\n",
              " 'mongodb',\n",
              " 'winforms',\n",
              " 'cocoa',\n",
              " 'security',\n",
              " 'postgresql',\n",
              " 'css3',\n",
              " 'templates',\n",
              " 'twitter-bootstrap',\n",
              " 'shell',\n",
              " 'list',\n",
              " 'google-chrome',\n",
              " 'vim',\n",
              " 'oop',\n",
              " 'image',\n",
              " 'hibernate',\n",
              " 'gcc',\n",
              " 'asp.net-mvc-3',\n",
              " 'facebook',\n",
              " 'oracle',\n",
              " 'rest',\n",
              " 'maven',\n",
              " 'http',\n",
              " 'exception',\n",
              " 'tsql',\n",
              " 'math',\n",
              " 'numpy',\n",
              " 'svn',\n",
              " 'qt',\n",
              " 'ipad',\n",
              " 'function',\n",
              " 'datetime',\n",
              " 'wcf',\n",
              " 'emacs',\n",
              " 'design-patterns',\n",
              " 'github',\n",
              " 'class',\n",
              " 'api',\n",
              " 'optimization',\n",
              " 'swing']"
            ]
          },
          "metadata": {
            "tags": []
          },
          "execution_count": 55
        }
      ]
    },
    {
      "cell_type": "code",
      "metadata": {
        "colab": {
          "base_uri": "https://localhost:8080/",
          "height": 688
        },
        "id": "dl4F3wOO4uyo",
        "scrolled": true,
        "outputId": "14d7b404-5555-4592-adf5-0be582fa161b"
      },
      "source": [
        "fig , ax = plt.subplots(figsize = (15,10))\n",
        "keyword.plot(100,cumulative = False)\n",
        "#cumulative：whether to count the cumulative frequenceies"
      ],
      "execution_count": null,
      "outputs": [
        {
          "output_type": "display_data",
          "data": {
            "image/png": "[encoded data removed]",
            "text/plain": [
              "<Figure size 1080x720 with 1 Axes>"
            ]
          },
          "metadata": {
            "tags": [],
            "needs_background": "light"
          }
        }
      ]
    },
    {
      "cell_type": "code",
      "metadata": {
        "colab": {
          "base_uri": "https://localhost:8080/",
          "height": 677
        },
        "id": "DNXo1i7_4uyt",
        "scrolled": true,
        "outputId": "5866f588-c2a2-4899-bbe5-8279ba507721"
      },
      "source": [
        "plt.figure(figsize=(10,10))\n",
        "plt.bar(hot_tags,hot_tags_nums,color='rgb',tick_label=hot_tags)\n",
        "\n",
        "plt.xlabel('hot tags')\n",
        "plt.ylabel('the number of hot tags')\n",
        "plt.title('Frequency of high-frequency tag statistics')\n",
        "plt.show()"
      ],
      "execution_count": null,
      "outputs": [
        {
          "output_type": "stream",
          "text": [
            "/usr/local/lib/python3.6/dist-packages/ipykernel_launcher.py:2: MatplotlibDeprecationWarning: Using a string of single character colors as a color sequence is deprecated. Use an explicit list instead.\n",
            "  \n"
          ],
          "name": "stderr"
        },
        {
          "output_type": "display_data",
          "data": {
            "image/png": "[encoded data removed]",
            "text/plain": [
              "<Figure size 720x720 with 1 Axes>"
            ]
          },
          "metadata": {
            "tags": [],
            "needs_background": "light"
          }
        }
      ]
    },
    {
      "cell_type": "code",
      "metadata": {
        "colab": {
          "base_uri": "https://localhost:8080/",
          "height": 195
        },
        "id": "RrwPdArT4uy3",
        "outputId": "f2840cd8-5b46-43b9-8bcf-4d163b8aaab8"
      },
      "source": [
        "new_df.head(5)"
      ],
      "execution_count": null,
      "outputs": [
        {
          "output_type": "execute_result",
          "data": {
            "text/html": [
              "<div>\n",
              "<style scoped>\n",
              "    .dataframe tbody tr th:only-of-type {\n",
              "        vertical-align: middle;\n",
              "    }\n",
              "\n",
              "    .dataframe tbody tr th {\n",
              "        vertical-align: top;\n",
              "    }\n",
              "\n",
              "    .dataframe thead th {\n",
              "        text-align: right;\n",
              "    }\n",
              "</style>\n",
              "<table border=\"1\" class=\"dataframe\">\n",
              "  <thead>\n",
              "    <tr style=\"text-align: right;\">\n",
              "      <th></th>\n",
              "      <th>Title</th>\n",
              "      <th>Body</th>\n",
              "      <th>Tags</th>\n",
              "    </tr>\n",
              "  </thead>\n",
              "  <tbody>\n",
              "    <tr>\n",
              "      <th>0</th>\n",
              "      <td>SQLStatement.execute() - multiple queries in o...</td>\n",
              "      <td>&lt;p&gt;I've written a database generation script i...</td>\n",
              "      <td>[flex, actionscript-3, air]</td>\n",
              "    </tr>\n",
              "    <tr>\n",
              "      <th>1</th>\n",
              "      <td>Good branching and merging tutorials for Torto...</td>\n",
              "      <td>&lt;p&gt;Are there any really good tutorials explain...</td>\n",
              "      <td>[svn, tortoisesvn, branch, branching-and-merging]</td>\n",
              "    </tr>\n",
              "    <tr>\n",
              "      <th>2</th>\n",
              "      <td>ASP.NET Site Maps</td>\n",
              "      <td>&lt;p&gt;Has anyone got experience creating &lt;strong&gt;...</td>\n",
              "      <td>[sql, asp.net, sitemap]</td>\n",
              "    </tr>\n",
              "    <tr>\n",
              "      <th>3</th>\n",
              "      <td>Function for creating color wheels</td>\n",
              "      <td>&lt;p&gt;This is something I've pseudo-solved many t...</td>\n",
              "      <td>[algorithm, language-agnostic, colors, color-s...</td>\n",
              "    </tr>\n",
              "    <tr>\n",
              "      <th>4</th>\n",
              "      <td>Adding scripting functionality to .NET applica...</td>\n",
              "      <td>&lt;p&gt;I have a little game written in C#. It uses...</td>\n",
              "      <td>[c#, .net, scripting, compiler-construction]</td>\n",
              "    </tr>\n",
              "  </tbody>\n",
              "</table>\n",
              "</div>"
            ],
            "text/plain": [
              "                                               Title  ...                                               Tags\n",
              "0  SQLStatement.execute() - multiple queries in o...  ...                        [flex, actionscript-3, air]\n",
              "1  Good branching and merging tutorials for Torto...  ...  [svn, tortoisesvn, branch, branching-and-merging]\n",
              "2                                  ASP.NET Site Maps  ...                            [sql, asp.net, sitemap]\n",
              "3                 Function for creating color wheels  ...  [algorithm, language-agnostic, colors, color-s...\n",
              "4  Adding scripting functionality to .NET applica...  ...       [c#, .net, scripting, compiler-construction]\n",
              "\n",
              "[5 rows x 3 columns]"
            ]
          },
          "metadata": {
            "tags": []
          },
          "execution_count": 58
        }
      ]
    },
    {
      "cell_type": "code",
      "metadata": {
        "id": "zEaT194P4uy7"
      },
      "source": [
        "def common_f(tags):\n",
        "    tags_filtered = []\n",
        "    for i in range(0,len(tags)):\n",
        "        if tags[i] in tag_features:\n",
        "            tags_filtered.append(tags[i])\n",
        "    return tags_filtered"
      ],
      "execution_count": null,
      "outputs": []
    },
    {
      "cell_type": "code",
      "metadata": {
        "colab": {
          "base_uri": "https://localhost:8080/"
        },
        "id": "CQFFt8p74uy_",
        "outputId": "83aa7cfb-bde0-4415-b22e-4ccd6cd7bea2"
      },
      "source": [
        "new_df['Tags'] = new_df['Tags'].apply(lambda s: common_f(s))"
      ],
      "execution_count": null,
      "outputs": [
        {
          "output_type": "stream",
          "text": [
            "/usr/local/lib/python3.6/dist-packages/ipykernel_launcher.py:1: SettingWithCopyWarning: \n",
            "A value is trying to be set on a copy of a slice from a DataFrame.\n",
            "Try using .loc[row_indexer,col_indexer] = value instead\n",
            "\n",
            "See the caveats in the documentation: https://pandas.pydata.org/pandas-docs/stable/user_guide/indexing.html#returning-a-view-versus-a-copy\n",
            "  \"\"\"Entry point for launching an IPython kernel.\n"
          ],
          "name": "stderr"
        }
      ]
    },
    {
      "cell_type": "code",
      "metadata": {
        "colab": {
          "base_uri": "https://localhost:8080/"
        },
        "id": "P4DhveRR4uzK",
        "outputId": "24a86631-0625-47a1-8534-193c6ba43e74"
      },
      "source": [
        "new_df['Tags']"
      ],
      "execution_count": null,
      "outputs": [
        {
          "output_type": "execute_result",
          "data": {
            "text/plain": [
              "0                      []\n",
              "1                   [svn]\n",
              "2          [sql, asp.net]\n",
              "3             [algorithm]\n",
              "4              [c#, .net]\n",
              "                ...      \n",
              "1262915          [python]\n",
              "1263065          [python]\n",
              "1263399                []\n",
              "1263454             [c++]\n",
              "1264205         [haskell]\n",
              "Name: Tags, Length: 72950, dtype: object"
            ]
          },
          "metadata": {
            "tags": []
          },
          "execution_count": 61
        }
      ]
    },
    {
      "cell_type": "code",
      "metadata": {
        "colab": {
          "base_uri": "https://localhost:8080/"
        },
        "id": "Pc3AejBm4uzR",
        "outputId": "94d1dd71-a810-4bbd-d90c-b7f64bc45e8f"
      },
      "source": [
        "new_df['Tags']=new_df['Tags'].apply(lambda x: x if len(x)>0 else None)"
      ],
      "execution_count": null,
      "outputs": [
        {
          "output_type": "stream",
          "text": [
            "/usr/local/lib/python3.6/dist-packages/ipykernel_launcher.py:1: SettingWithCopyWarning: \n",
            "A value is trying to be set on a copy of a slice from a DataFrame.\n",
            "Try using .loc[row_indexer,col_indexer] = value instead\n",
            "\n",
            "See the caveats in the documentation: https://pandas.pydata.org/pandas-docs/stable/user_guide/indexing.html#returning-a-view-versus-a-copy\n",
            "  \"\"\"Entry point for launching an IPython kernel.\n"
          ],
          "name": "stderr"
        }
      ]
    },
    {
      "cell_type": "code",
      "metadata": {
        "colab": {
          "base_uri": "https://localhost:8080/"
        },
        "id": "VCYPfU-d4uzc",
        "scrolled": true,
        "outputId": "ff655a21-2c17-4c96-ca9f-a3558ebfa43b"
      },
      "source": [
        "new_df['Tags']"
      ],
      "execution_count": null,
      "outputs": [
        {
          "output_type": "execute_result",
          "data": {
            "text/plain": [
              "0                    None\n",
              "1                   [svn]\n",
              "2          [sql, asp.net]\n",
              "3             [algorithm]\n",
              "4              [c#, .net]\n",
              "                ...      \n",
              "1262915          [python]\n",
              "1263065          [python]\n",
              "1263399              None\n",
              "1263454             [c++]\n",
              "1264205         [haskell]\n",
              "Name: Tags, Length: 72950, dtype: object"
            ]
          },
          "metadata": {
            "tags": []
          },
          "execution_count": 63
        }
      ]
    },
    {
      "cell_type": "code",
      "metadata": {
        "colab": {
          "base_uri": "https://localhost:8080/"
        },
        "id": "fGYBsXUu4uzs",
        "outputId": "0a2d6abe-55cc-404e-c51f-03303423be76"
      },
      "source": [
        "new_df.shape"
      ],
      "execution_count": null,
      "outputs": [
        {
          "output_type": "execute_result",
          "data": {
            "text/plain": [
              "(72950, 3)"
            ]
          },
          "metadata": {
            "tags": []
          },
          "execution_count": 64
        }
      ]
    },
    {
      "cell_type": "code",
      "metadata": {
        "colab": {
          "base_uri": "https://localhost:8080/"
        },
        "id": "0J4oOuuD4uz1",
        "outputId": "c0b9dde9-e727-4ae5-e1aa-eaf8abe4f560"
      },
      "source": [
        "new_df.info()"
      ],
      "execution_count": null,
      "outputs": [
        {
          "output_type": "stream",
          "text": [
            "<class 'pandas.core.frame.DataFrame'>\n",
            "Int64Index: 72950 entries, 0 to 1264205\n",
            "Data columns (total 3 columns):\n",
            " #   Column  Non-Null Count  Dtype \n",
            "---  ------  --------------  ----- \n",
            " 0   Title   72950 non-null  object\n",
            " 1   Body    72950 non-null  object\n",
            " 2   Tags    63167 non-null  object\n",
            "dtypes: object(3)\n",
            "memory usage: 2.2+ MB\n"
          ],
          "name": "stdout"
        }
      ]
    },
    {
      "cell_type": "code",
      "metadata": {
        "colab": {
          "base_uri": "https://localhost:8080/"
        },
        "id": "QGJJAxP04uz7",
        "outputId": "ff674f7f-5537-44a5-97f9-28efd6730ca1"
      },
      "source": [
        "new_df.dropna(subset=['Tags'],inplace=True)"
      ],
      "execution_count": null,
      "outputs": [
        {
          "output_type": "stream",
          "text": [
            "/usr/local/lib/python3.6/dist-packages/ipykernel_launcher.py:1: SettingWithCopyWarning: \n",
            "A value is trying to be set on a copy of a slice from a DataFrame\n",
            "\n",
            "See the caveats in the documentation: https://pandas.pydata.org/pandas-docs/stable/user_guide/indexing.html#returning-a-view-versus-a-copy\n",
            "  \"\"\"Entry point for launching an IPython kernel.\n"
          ],
          "name": "stderr"
        }
      ]
    },
    {
      "cell_type": "code",
      "metadata": {
        "colab": {
          "base_uri": "https://localhost:8080/",
          "height": 213
        },
        "id": "gB4AoWJq4u0A",
        "outputId": "f98d71f0-0d68-4378-ee74-b31a0240367f"
      },
      "source": [
        "print(new_df.shape)\n",
        "new_df.head(5)"
      ],
      "execution_count": null,
      "outputs": [
        {
          "output_type": "stream",
          "text": [
            "(63167, 3)\n"
          ],
          "name": "stdout"
        },
        {
          "output_type": "execute_result",
          "data": {
            "text/html": [
              "<div>\n",
              "<style scoped>\n",
              "    .dataframe tbody tr th:only-of-type {\n",
              "        vertical-align: middle;\n",
              "    }\n",
              "\n",
              "    .dataframe tbody tr th {\n",
              "        vertical-align: top;\n",
              "    }\n",
              "\n",
              "    .dataframe thead th {\n",
              "        text-align: right;\n",
              "    }\n",
              "</style>\n",
              "<table border=\"1\" class=\"dataframe\">\n",
              "  <thead>\n",
              "    <tr style=\"text-align: right;\">\n",
              "      <th></th>\n",
              "      <th>Title</th>\n",
              "      <th>Body</th>\n",
              "      <th>Tags</th>\n",
              "    </tr>\n",
              "  </thead>\n",
              "  <tbody>\n",
              "    <tr>\n",
              "      <th>1</th>\n",
              "      <td>Good branching and merging tutorials for Torto...</td>\n",
              "      <td>&lt;p&gt;Are there any really good tutorials explain...</td>\n",
              "      <td>[svn]</td>\n",
              "    </tr>\n",
              "    <tr>\n",
              "      <th>2</th>\n",
              "      <td>ASP.NET Site Maps</td>\n",
              "      <td>&lt;p&gt;Has anyone got experience creating &lt;strong&gt;...</td>\n",
              "      <td>[sql, asp.net]</td>\n",
              "    </tr>\n",
              "    <tr>\n",
              "      <th>3</th>\n",
              "      <td>Function for creating color wheels</td>\n",
              "      <td>&lt;p&gt;This is something I've pseudo-solved many t...</td>\n",
              "      <td>[algorithm]</td>\n",
              "    </tr>\n",
              "    <tr>\n",
              "      <th>4</th>\n",
              "      <td>Adding scripting functionality to .NET applica...</td>\n",
              "      <td>&lt;p&gt;I have a little game written in C#. It uses...</td>\n",
              "      <td>[c#, .net]</td>\n",
              "    </tr>\n",
              "    <tr>\n",
              "      <th>5</th>\n",
              "      <td>Should I use nested classes in this case?</td>\n",
              "      <td>&lt;p&gt;I am working on a collection of classes use...</td>\n",
              "      <td>[c++, oop, class]</td>\n",
              "    </tr>\n",
              "  </tbody>\n",
              "</table>\n",
              "</div>"
            ],
            "text/plain": [
              "                                               Title  ...               Tags\n",
              "1  Good branching and merging tutorials for Torto...  ...              [svn]\n",
              "2                                  ASP.NET Site Maps  ...     [sql, asp.net]\n",
              "3                 Function for creating color wheels  ...        [algorithm]\n",
              "4  Adding scripting functionality to .NET applica...  ...         [c#, .net]\n",
              "5          Should I use nested classes in this case?  ...  [c++, oop, class]\n",
              "\n",
              "[5 rows x 3 columns]"
            ]
          },
          "metadata": {
            "tags": []
          },
          "execution_count": 67
        }
      ]
    },
    {
      "cell_type": "markdown",
      "metadata": {
        "id": "b1xxNONq4u0E"
      },
      "source": [
        "### - Body"
      ]
    },
    {
      "cell_type": "markdown",
      "metadata": {
        "id": "o9KeHtyT4u0F"
      },
      "source": [
        "#### do some text processing \n",
        "1、Removing htmi format\n",
        "\n",
        "2、Lowering text\n",
        "\n",
        "3、removing the punctuation\n",
        "\n",
        "4、lemmatizing words(词性还原\n",
        "\n",
        "5、Removing stop words"
      ]
    },
    {
      "cell_type": "code",
      "metadata": {
        "colab": {
          "base_uri": "https://localhost:8080/"
        },
        "id": "SWLr9lSq4u0F",
        "outputId": "acf94693-dba9-4315-a1ba-ea813ab19dfd"
      },
      "source": [
        "#converting html to text in the body\n",
        "new_df['Body'] = new_df['Body'].apply(lambda x:BeautifulSoup(x).get_text())"
      ],
      "execution_count": null,
      "outputs": [
        {
          "output_type": "stream",
          "text": [
            "/usr/local/lib/python3.6/dist-packages/ipykernel_launcher.py:2: SettingWithCopyWarning: \n",
            "A value is trying to be set on a copy of a slice from a DataFrame.\n",
            "Try using .loc[row_indexer,col_indexer] = value instead\n",
            "\n",
            "See the caveats in the documentation: https://pandas.pydata.org/pandas-docs/stable/user_guide/indexing.html#returning-a-view-versus-a-copy\n",
            "  \n"
          ],
          "name": "stderr"
        }
      ]
    },
    {
      "cell_type": "code",
      "metadata": {
        "colab": {
          "base_uri": "https://localhost:8080/",
          "height": 195
        },
        "id": "gJ41QRPM4u0I",
        "scrolled": true,
        "outputId": "69294090-fe8b-4bb6-a517-8086928fa3d6"
      },
      "source": [
        "new_df.head(5)"
      ],
      "execution_count": null,
      "outputs": [
        {
          "output_type": "execute_result",
          "data": {
            "text/html": [
              "<div>\n",
              "<style scoped>\n",
              "    .dataframe tbody tr th:only-of-type {\n",
              "        vertical-align: middle;\n",
              "    }\n",
              "\n",
              "    .dataframe tbody tr th {\n",
              "        vertical-align: top;\n",
              "    }\n",
              "\n",
              "    .dataframe thead th {\n",
              "        text-align: right;\n",
              "    }\n",
              "</style>\n",
              "<table border=\"1\" class=\"dataframe\">\n",
              "  <thead>\n",
              "    <tr style=\"text-align: right;\">\n",
              "      <th></th>\n",
              "      <th>Title</th>\n",
              "      <th>Body</th>\n",
              "      <th>Tags</th>\n",
              "    </tr>\n",
              "  </thead>\n",
              "  <tbody>\n",
              "    <tr>\n",
              "      <th>1</th>\n",
              "      <td>Good branching and merging tutorials for Torto...</td>\n",
              "      <td>Are there any really good tutorials explaining...</td>\n",
              "      <td>[svn]</td>\n",
              "    </tr>\n",
              "    <tr>\n",
              "      <th>2</th>\n",
              "      <td>ASP.NET Site Maps</td>\n",
              "      <td>Has anyone got experience creating SQL-based A...</td>\n",
              "      <td>[sql, asp.net]</td>\n",
              "    </tr>\n",
              "    <tr>\n",
              "      <th>3</th>\n",
              "      <td>Function for creating color wheels</td>\n",
              "      <td>This is something I've pseudo-solved many time...</td>\n",
              "      <td>[algorithm]</td>\n",
              "    </tr>\n",
              "    <tr>\n",
              "      <th>4</th>\n",
              "      <td>Adding scripting functionality to .NET applica...</td>\n",
              "      <td>I have a little game written in C#. It uses a ...</td>\n",
              "      <td>[c#, .net]</td>\n",
              "    </tr>\n",
              "    <tr>\n",
              "      <th>5</th>\n",
              "      <td>Should I use nested classes in this case?</td>\n",
              "      <td>I am working on a collection of classes used f...</td>\n",
              "      <td>[c++, oop, class]</td>\n",
              "    </tr>\n",
              "  </tbody>\n",
              "</table>\n",
              "</div>"
            ],
            "text/plain": [
              "                                               Title  ...               Tags\n",
              "1  Good branching and merging tutorials for Torto...  ...              [svn]\n",
              "2                                  ASP.NET Site Maps  ...     [sql, asp.net]\n",
              "3                 Function for creating color wheels  ...        [algorithm]\n",
              "4  Adding scripting functionality to .NET applica...  ...         [c#, .net]\n",
              "5          Should I use nested classes in this case?  ...  [c++, oop, class]\n",
              "\n",
              "[5 rows x 3 columns]"
            ]
          },
          "metadata": {
            "tags": []
          },
          "execution_count": 69
        }
      ]
    },
    {
      "cell_type": "code",
      "metadata": {
        "id": "N5WFnXzC4u0c"
      },
      "source": [
        "#re.sub()函数用于替换字符串中的匹配项\n",
        "def clean_text(text):\n",
        "    text = text.lower()\n",
        "    text = re.sub(r\"what's\",\"what is\", text)\n",
        "    text = re.sub(r\"\\'s'\",\" \",text)\n",
        "    text = re.sub(r\"\\'ve\", \" have \", text)\n",
        "    text = re.sub(r\"can't\", \"can not \", text)\n",
        "    text = re.sub(r\"n't\", \" not \", text)\n",
        "    text = re.sub(r\"i'm\", \"i am \", text)\n",
        "    text = re.sub(r\"\\'re\", \" are \", text)\n",
        "    text = re.sub(r\"\\'d\", \" would \", text)\n",
        "    text = re.sub(r\"\\'ll\", \" will \", text)\n",
        "    text = re.sub(r\"\\'scuse\", \" excuse \", text)\n",
        "    text = re.sub(r\"\\'\\n\", \" \", text)\n",
        "    text = re.sub(r\"\\'\\xa0\", \" \", text)\n",
        "    text = re.sub('\\s+', ' ', text)\n",
        "    text = text.strip(' ')\n",
        "    return text"
      ],
      "execution_count": null,
      "outputs": []
    },
    {
      "cell_type": "code",
      "metadata": {
        "colab": {
          "base_uri": "https://localhost:8080/"
        },
        "id": "8MghXq3N4u0s",
        "outputId": "bb7a412e-5974-41d8-87ca-50918c0951f7"
      },
      "source": [
        "new_df['Body'] = new_df['Body'].apply(lambda a:clean_text(a))"
      ],
      "execution_count": null,
      "outputs": [
        {
          "output_type": "stream",
          "text": [
            "/usr/local/lib/python3.6/dist-packages/ipykernel_launcher.py:1: SettingWithCopyWarning: \n",
            "A value is trying to be set on a copy of a slice from a DataFrame.\n",
            "Try using .loc[row_indexer,col_indexer] = value instead\n",
            "\n",
            "See the caveats in the documentation: https://pandas.pydata.org/pandas-docs/stable/user_guide/indexing.html#returning-a-view-versus-a-copy\n",
            "  \"\"\"Entry point for launching an IPython kernel.\n"
          ],
          "name": "stderr"
        }
      ]
    },
    {
      "cell_type": "code",
      "metadata": {
        "colab": {
          "base_uri": "https://localhost:8080/",
          "height": 195
        },
        "id": "Bk0l80fx4u0y",
        "scrolled": false,
        "outputId": "fb408dcb-308a-4b8a-8197-60f806e9f746"
      },
      "source": [
        "new_df.head(5)"
      ],
      "execution_count": null,
      "outputs": [
        {
          "output_type": "execute_result",
          "data": {
            "text/html": [
              "<div>\n",
              "<style scoped>\n",
              "    .dataframe tbody tr th:only-of-type {\n",
              "        vertical-align: middle;\n",
              "    }\n",
              "\n",
              "    .dataframe tbody tr th {\n",
              "        vertical-align: top;\n",
              "    }\n",
              "\n",
              "    .dataframe thead th {\n",
              "        text-align: right;\n",
              "    }\n",
              "</style>\n",
              "<table border=\"1\" class=\"dataframe\">\n",
              "  <thead>\n",
              "    <tr style=\"text-align: right;\">\n",
              "      <th></th>\n",
              "      <th>Title</th>\n",
              "      <th>Body</th>\n",
              "      <th>Tags</th>\n",
              "    </tr>\n",
              "  </thead>\n",
              "  <tbody>\n",
              "    <tr>\n",
              "      <th>1</th>\n",
              "      <td>Good branching and merging tutorials for Torto...</td>\n",
              "      <td>are there any really good tutorials explaining...</td>\n",
              "      <td>[svn]</td>\n",
              "    </tr>\n",
              "    <tr>\n",
              "      <th>2</th>\n",
              "      <td>ASP.NET Site Maps</td>\n",
              "      <td>has anyone got experience creating sql-based a...</td>\n",
              "      <td>[sql, asp.net]</td>\n",
              "    </tr>\n",
              "    <tr>\n",
              "      <th>3</th>\n",
              "      <td>Function for creating color wheels</td>\n",
              "      <td>this is something i have pseudo-solved many ti...</td>\n",
              "      <td>[algorithm]</td>\n",
              "    </tr>\n",
              "    <tr>\n",
              "      <th>4</th>\n",
              "      <td>Adding scripting functionality to .NET applica...</td>\n",
              "      <td>i have a little game written in c#. it uses a ...</td>\n",
              "      <td>[c#, .net]</td>\n",
              "    </tr>\n",
              "    <tr>\n",
              "      <th>5</th>\n",
              "      <td>Should I use nested classes in this case?</td>\n",
              "      <td>i am working on a collection of classes used f...</td>\n",
              "      <td>[c++, oop, class]</td>\n",
              "    </tr>\n",
              "  </tbody>\n",
              "</table>\n",
              "</div>"
            ],
            "text/plain": [
              "                                               Title  ...               Tags\n",
              "1  Good branching and merging tutorials for Torto...  ...              [svn]\n",
              "2                                  ASP.NET Site Maps  ...     [sql, asp.net]\n",
              "3                 Function for creating color wheels  ...        [algorithm]\n",
              "4  Adding scripting functionality to .NET applica...  ...         [c#, .net]\n",
              "5          Should I use nested classes in this case?  ...  [c++, oop, class]\n",
              "\n",
              "[5 rows x 3 columns]"
            ]
          },
          "metadata": {
            "tags": []
          },
          "execution_count": 72
        }
      ]
    },
    {
      "cell_type": "code",
      "metadata": {
        "id": "9j3sCUFk4u03"
      },
      "source": [
        "token =ToktokTokenizer()"
      ],
      "execution_count": null,
      "outputs": []
    },
    {
      "cell_type": "code",
      "metadata": {
        "colab": {
          "base_uri": "https://localhost:8080/",
          "height": 35
        },
        "id": "zKmjRdya4u09",
        "outputId": "e4fe4f15-7107-4916-985d-59fdbc3a9408"
      },
      "source": [
        "punctuation"
      ],
      "execution_count": null,
      "outputs": [
        {
          "output_type": "execute_result",
          "data": {
            "application/vnd.google.colaboratory.intrinsic+json": {
              "type": "string"
            },
            "text/plain": [
              "'!\"#$%&\\'()*+,-./:;<=>?@[\\\\]^_`{|}~'"
            ]
          },
          "metadata": {
            "tags": []
          },
          "execution_count": 74
        }
      ]
    },
    {
      "cell_type": "code",
      "metadata": {
        "id": "vZx_6L-U4u1C"
      },
      "source": [
        "punct='!\"#$%&\\'()*+,-./:;<=>?@[\\\\]^_`{|}~'"
      ],
      "execution_count": null,
      "outputs": []
    },
    {
      "cell_type": "code",
      "metadata": {
        "id": "YyGUFoiS4u1Q"
      },
      "source": [
        "def strip_list_noempty(mylist):\n",
        "    newlist = (item.strip() if hasattr(item,'strip') else item for item in mylist)\n",
        "    return [item for item in newlist if item !='']\n",
        "    #hasattr(object, name)判断对象是否有该属性，返回True或者False\n",
        "    #strip()去除首尾空格"
      ],
      "execution_count": null,
      "outputs": []
    },
    {
      "cell_type": "code",
      "metadata": {
        "id": "940n48cQ4u1m"
      },
      "source": [
        "def clean_punc(text):\n",
        "    words = token.tokenize(text)\n",
        "    punctuation_filtered = []\n",
        "    regex = re.compile('[%s]'% re.escape(punct))\n",
        "    remove_punctuation = str.maketrans(' ',' ',punct)\n",
        "    for w in words:\n",
        "        if w in tag_features:\n",
        "            punctuation_filtered.append(w)\n",
        "        else:\n",
        "            punctuation_filtered.append(regex.sub(' ',w))\n",
        "    filtered_list=strip_list_noempty(punctuation_filtered)\n",
        "    return (' '.join(map(str, filtered_list)))"
      ],
      "execution_count": null,
      "outputs": []
    },
    {
      "cell_type": "code",
      "metadata": {
        "id": "Npx9AzfV4u3I",
        "colab": {
          "base_uri": "https://localhost:8080/"
        },
        "outputId": "10bbbd99-13ec-41e5-e271-e9b392c06506"
      },
      "source": [
        "new_df['Body'] = new_df['Body'].apply(lambda x: clean_punc(x)) "
      ],
      "execution_count": null,
      "outputs": [
        {
          "output_type": "stream",
          "text": [
            "/usr/local/lib/python3.6/dist-packages/ipykernel_launcher.py:1: SettingWithCopyWarning: \n",
            "A value is trying to be set on a copy of a slice from a DataFrame.\n",
            "Try using .loc[row_indexer,col_indexer] = value instead\n",
            "\n",
            "See the caveats in the documentation: https://pandas.pydata.org/pandas-docs/stable/user_guide/indexing.html#returning-a-view-versus-a-copy\n",
            "  \"\"\"Entry point for launching an IPython kernel.\n"
          ],
          "name": "stderr"
        }
      ]
    },
    {
      "cell_type": "code",
      "metadata": {
        "id": "iBY7NeOt4u3R",
        "colab": {
          "base_uri": "https://localhost:8080/",
          "height": 53
        },
        "outputId": "99604688-255d-495a-af54-18e630e0b605"
      },
      "source": [
        "new_df['Body'][2]"
      ],
      "execution_count": null,
      "outputs": [
        {
          "output_type": "execute_result",
          "data": {
            "application/vnd.google.colaboratory.intrinsic+json": {
              "type": "string"
            },
            "text/plain": [
              "'has anyone got experience creating sql based asp.net site map providers i have got the default xml file web sitemap working properly with my menu and sitemappath controls but i will need a way for the users of my site to create and modify pages dynamically i need to tie page viewing permissions into the standard asp.net membership system as well'"
            ]
          },
          "metadata": {
            "tags": []
          },
          "execution_count": 79
        }
      ]
    },
    {
      "cell_type": "code",
      "metadata": {
        "id": "5hTXHJiI4u3X",
        "colab": {
          "base_uri": "https://localhost:8080/"
        },
        "outputId": "dc5ac00d-036e-4a44-b21e-37a16bc38bc5"
      },
      "source": [
        "import nltk\n",
        "nltk.download('stopwords')\n",
        "lemma = WordNetLemmatizer()\n",
        "stop_words=set(stopwords.words('english'))"
      ],
      "execution_count": null,
      "outputs": [
        {
          "output_type": "stream",
          "text": [
            "[nltk_data] Downloading package stopwords to /root/nltk_data...\n",
            "[nltk_data]   Unzipping corpora/stopwords.zip.\n"
          ],
          "name": "stdout"
        }
      ]
    },
    {
      "cell_type": "code",
      "metadata": {
        "id": "dMLMVpKo4u3l"
      },
      "source": [
        "def lemitizeWords(text):\n",
        "    words = token.tokenize(text)\n",
        "    listLemma=[]\n",
        "    for w in words:\n",
        "        x=lemma.lemmatize(w,pos='v')\n",
        "        listLemma.append(x)\n",
        "    return ' '.join(map(str,listLemma))"
      ],
      "execution_count": null,
      "outputs": []
    },
    {
      "cell_type": "code",
      "metadata": {
        "id": "wrTgXdp-4u34"
      },
      "source": [
        "def stopWordsRemove(text):\n",
        "    stop_words = set(stopwords.words(\"english\"))\n",
        "    words=token.tokenize(text)\n",
        "    filtered = [w for w in words if not w in stop_words]\n",
        "    return ' '.join(map(str,filtered))"
      ],
      "execution_count": null,
      "outputs": []
    },
    {
      "cell_type": "code",
      "metadata": {
        "id": "NOpJrhPi4u4L",
        "colab": {
          "base_uri": "https://localhost:8080/"
        },
        "outputId": "a3c33617-6621-4a01-fa9c-b810f160e421"
      },
      "source": [
        "new_df['Body']=new_df['Body'].apply(lambda x: lemitizeWords(x))\n",
        "new_df['Body']=new_df['Body'].apply(lambda x: stopWordsRemove(x))"
      ],
      "execution_count": null,
      "outputs": [
        {
          "output_type": "stream",
          "text": [
            "/usr/local/lib/python3.6/dist-packages/ipykernel_launcher.py:1: SettingWithCopyWarning: \n",
            "A value is trying to be set on a copy of a slice from a DataFrame.\n",
            "Try using .loc[row_indexer,col_indexer] = value instead\n",
            "\n",
            "See the caveats in the documentation: https://pandas.pydata.org/pandas-docs/stable/user_guide/indexing.html#returning-a-view-versus-a-copy\n",
            "  \"\"\"Entry point for launching an IPython kernel.\n",
            "/usr/local/lib/python3.6/dist-packages/ipykernel_launcher.py:2: SettingWithCopyWarning: \n",
            "A value is trying to be set on a copy of a slice from a DataFrame.\n",
            "Try using .loc[row_indexer,col_indexer] = value instead\n",
            "\n",
            "See the caveats in the documentation: https://pandas.pydata.org/pandas-docs/stable/user_guide/indexing.html#returning-a-view-versus-a-copy\n",
            "  \n"
          ],
          "name": "stderr"
        }
      ]
    },
    {
      "cell_type": "markdown",
      "metadata": {
        "id": "_LwCOH_W4u4Z"
      },
      "source": [
        "### -Title"
      ]
    },
    {
      "cell_type": "code",
      "metadata": {
        "id": "8VStl6fF4u4a",
        "colab": {
          "base_uri": "https://localhost:8080/"
        },
        "outputId": "16fb16dd-3f52-4c1d-d0be-4ae1f0101006"
      },
      "source": [
        "new_df['Title'].head()"
      ],
      "execution_count": null,
      "outputs": [
        {
          "output_type": "execute_result",
          "data": {
            "text/plain": [
              "1    Good branching and merging tutorials for Torto...\n",
              "2                                    ASP.NET Site Maps\n",
              "3                   Function for creating color wheels\n",
              "4    Adding scripting functionality to .NET applica...\n",
              "5            Should I use nested classes in this case?\n",
              "Name: Title, dtype: object"
            ]
          },
          "metadata": {
            "tags": []
          },
          "execution_count": 84
        }
      ]
    },
    {
      "cell_type": "code",
      "metadata": {
        "id": "C54fwH8R4u4j",
        "colab": {
          "base_uri": "https://localhost:8080/"
        },
        "outputId": "08b4287a-958e-4d32-cecd-afa7625a028f"
      },
      "source": [
        "new_df['Title'] = new_df['Title'].apply(lambda x: str(x))\n",
        "new_df['Title'] = new_df['Title'].apply(lambda x: clean_text(x))\n",
        "new_df['Title'] = new_df['Title'].apply(lambda x: clean_punc(x))\n",
        "new_df['Title'] = new_df['Title'].apply(lambda x: lemitizeWords(x))\n",
        "new_df['Title'] = new_df['Title'].apply(lambda x: stopWordsRemove(x))\n"
      ],
      "execution_count": null,
      "outputs": [
        {
          "output_type": "stream",
          "text": [
            "/usr/local/lib/python3.6/dist-packages/ipykernel_launcher.py:1: SettingWithCopyWarning: \n",
            "A value is trying to be set on a copy of a slice from a DataFrame.\n",
            "Try using .loc[row_indexer,col_indexer] = value instead\n",
            "\n",
            "See the caveats in the documentation: https://pandas.pydata.org/pandas-docs/stable/user_guide/indexing.html#returning-a-view-versus-a-copy\n",
            "  \"\"\"Entry point for launching an IPython kernel.\n",
            "/usr/local/lib/python3.6/dist-packages/ipykernel_launcher.py:2: SettingWithCopyWarning: \n",
            "A value is trying to be set on a copy of a slice from a DataFrame.\n",
            "Try using .loc[row_indexer,col_indexer] = value instead\n",
            "\n",
            "See the caveats in the documentation: https://pandas.pydata.org/pandas-docs/stable/user_guide/indexing.html#returning-a-view-versus-a-copy\n",
            "  \n",
            "/usr/local/lib/python3.6/dist-packages/ipykernel_launcher.py:3: SettingWithCopyWarning: \n",
            "A value is trying to be set on a copy of a slice from a DataFrame.\n",
            "Try using .loc[row_indexer,col_indexer] = value instead\n",
            "\n",
            "See the caveats in the documentation: https://pandas.pydata.org/pandas-docs/stable/user_guide/indexing.html#returning-a-view-versus-a-copy\n",
            "  This is separate from the ipykernel package so we can avoid doing imports until\n",
            "/usr/local/lib/python3.6/dist-packages/ipykernel_launcher.py:4: SettingWithCopyWarning: \n",
            "A value is trying to be set on a copy of a slice from a DataFrame.\n",
            "Try using .loc[row_indexer,col_indexer] = value instead\n",
            "\n",
            "See the caveats in the documentation: https://pandas.pydata.org/pandas-docs/stable/user_guide/indexing.html#returning-a-view-versus-a-copy\n",
            "  after removing the cwd from sys.path.\n",
            "/usr/local/lib/python3.6/dist-packages/ipykernel_launcher.py:5: SettingWithCopyWarning: \n",
            "A value is trying to be set on a copy of a slice from a DataFrame.\n",
            "Try using .loc[row_indexer,col_indexer] = value instead\n",
            "\n",
            "See the caveats in the documentation: https://pandas.pydata.org/pandas-docs/stable/user_guide/indexing.html#returning-a-view-versus-a-copy\n",
            "  \"\"\"\n"
          ],
          "name": "stderr"
        }
      ]
    },
    {
      "cell_type": "markdown",
      "metadata": {
        "id": "-CCkGikR4u4o"
      },
      "source": [
        "### -EDA"
      ]
    },
    {
      "cell_type": "code",
      "metadata": {
        "id": "7cixfmk74u4p"
      },
      "source": [
        "no_topics=20"
      ],
      "execution_count": null,
      "outputs": []
    },
    {
      "cell_type": "code",
      "metadata": {
        "id": "k-A6spC54u4s"
      },
      "source": [
        "text = new_df['Body']"
      ],
      "execution_count": null,
      "outputs": []
    },
    {
      "cell_type": "code",
      "metadata": {
        "id": "OVqicg9f4u4y"
      },
      "source": [
        "from sklearn.feature_extraction.text import TfidfVectorizer"
      ],
      "execution_count": null,
      "outputs": []
    },
    {
      "cell_type": "code",
      "metadata": {
        "id": "O-572wtr4u43"
      },
      "source": [
        "vectorizer_train = TfidfVectorizer(analyzer = 'word',min_df=0.0,max_df=1.0,strip_accents=None,\n",
        "                                  encoding='utf-8', preprocessor=None,token_pattern=r\"(?u)\\S\\S+\",\n",
        "                                  max_features=1000\n",
        "                                 )"
      ],
      "execution_count": null,
      "outputs": []
    },
    {
      "cell_type": "code",
      "metadata": {
        "id": "QlBCeFtC4u47"
      },
      "source": [
        "TF_IDF_matrix = vectorizer_train.fit_transform(text)"
      ],
      "execution_count": null,
      "outputs": []
    },
    {
      "cell_type": "code",
      "metadata": {
        "id": "9nHCvoRJ4u5L"
      },
      "source": [
        "from sklearn.decomposition import LatentDirichletAllocation"
      ],
      "execution_count": null,
      "outputs": []
    },
    {
      "cell_type": "code",
      "metadata": {
        "id": "nNWiQDaM4u5R"
      },
      "source": [
        "lda = LatentDirichletAllocation(n_components=no_topics,max_iter=5,learning_method='online',learning_offset=50,random_state=11).fit(TF_IDF_matrix)"
      ],
      "execution_count": null,
      "outputs": []
    },
    {
      "cell_type": "code",
      "metadata": {
        "id": "-0iuX2CL4u5X",
        "colab": {
          "base_uri": "https://localhost:8080/"
        },
        "outputId": "d16c17dd-182f-44d0-c6de-dc9d8c2d64ba"
      },
      "source": [
        "def display_topics(model,feature_names,no_stop_words):\n",
        "    for topic_idx, topic in enumerate(model.components_):\n",
        "        print(\"------------------------------------------\")\n",
        "        print(\"Topic %d:\"%(topic_idx))\n",
        "        print(\" \".join([feature_names[i] for i in topic.argsort()[:-no_top_words-1:-1]]))\n",
        "        print(\"------------------------------------------\")\n",
        "        \n",
        "no_top_words =10\n",
        "display_topics(lda,vectorizer_train.get_feature_names(),no_top_words)"
      ],
      "execution_count": null,
      "outputs": [
        {
          "output_type": "stream",
          "text": [
            "------------------------------------------\n",
            "Topic 0:\n",
            "project file build error install use run studio android package\n",
            "------------------------------------------\n",
            "------------------------------------------\n",
            "Topic 1:\n",
            "table id 124 query select data database sql row name\n",
            "------------------------------------------\n",
            "------------------------------------------\n",
            "Topic 2:\n",
            "android matrix drawable notification textview icon widget nsstring linearlayout androidruntime\n",
            "------------------------------------------\n",
            "------------------------------------------\n",
            "Topic 3:\n",
            "file python py import plot module path line pdf txt\n",
            "------------------------------------------\n",
            "------------------------------------------\n",
            "Topic 4:\n",
            "xcode apple rb lib iphone usr ref temp 2011 env\n",
            "------------------------------------------\n",
            "------------------------------------------\n",
            "Topic 5:\n",
            "thread run use process time application app task memory call\n",
            "------------------------------------------\n",
            "------------------------------------------\n",
            "Topic 6:\n",
            "div button text width color height click layout id style\n",
            "------------------------------------------\n",
            "------------------------------------------\n",
            "Topic 7:\n",
            "git github commit branch file repository master push merge svn\n",
            "------------------------------------------\n",
            "------------------------------------------\n",
            "Topic 8:\n",
            "console hello println scope system byte writeline stream bytes obj\n",
            "------------------------------------------\n",
            "------------------------------------------\n",
            "Topic 9:\n",
            "array string list number value character use function like would\n",
            "------------------------------------------\n",
            "------------------------------------------\n",
            "Topic 10:\n",
            "use would know like find look question one good code\n",
            "------------------------------------------\n",
            "------------------------------------------\n",
            "Topic 11:\n",
            "date 00 12 2013 01 11 10 fragment 15 datetime\n",
            "------------------------------------------\n",
            "------------------------------------------\n",
            "Topic 12:\n",
            "public class string new object void method return private type\n",
            "------------------------------------------\n",
            "------------------------------------------\n",
            "Topic 13:\n",
            "image ios self view app angular video use frame screen\n",
            "------------------------------------------\n",
            "------------------------------------------\n",
            "Topic 14:\n",
            "node facebook 2012 bootstrap ruby li res err rail gems\n",
            "------------------------------------------\n",
            "------------------------------------------\n",
            "Topic 15:\n",
            "js script javascript jquery css min html alert src function\n",
            "------------------------------------------\n",
            "------------------------------------------\n",
            "Topic 16:\n",
            "request json user url http use get server data response\n",
            "------------------------------------------\n",
            "------------------------------------------\n",
            "Topic 17:\n",
            "int std foo const function type char return vector struct\n",
            "------------------------------------------\n",
            "------------------------------------------\n",
            "Topic 18:\n",
            "java org spring bean driver hibernate springframework socket lang annotation\n",
            "------------------------------------------\n",
            "------------------------------------------\n",
            "Topic 19:\n",
            "command php printf df script file echo line shell run\n",
            "------------------------------------------\n"
          ],
          "name": "stdout"
        }
      ]
    },
    {
      "cell_type": "markdown",
      "metadata": {
        "id": "0cV-hWl74u5d"
      },
      "source": [
        "### Classical classifiers"
      ]
    },
    {
      "cell_type": "markdown",
      "metadata": {
        "id": "JPHzC7t34u5d"
      },
      "source": [
        "### - Data preparation\n",
        "- Binarize the tags\n",
        "- Use a TFIDF for body and Title"
      ]
    },
    {
      "cell_type": "code",
      "metadata": {
        "id": "aCU9g5qN4u5e"
      },
      "source": [
        "X1 = new_df['Body']\n",
        "X2 = new_df['Title']\n",
        "y = new_df['Tags']\n",
        "\n",
        "multilabel_binarizer = MultiLabelBinarizer()\n",
        "y_bin = multilabel_binarizer.fit_transform(y)"
      ],
      "execution_count": null,
      "outputs": []
    },
    {
      "cell_type": "code",
      "metadata": {
        "id": "ZNAU414J4u5n"
      },
      "source": [
        "vectorizer_X1 = TfidfVectorizer(analyzer = 'word',min_df =0.0,max_df =1.0,strip_accents=None,encoding='utf-8',preprocessor=None,token_pattern=r\"(?u)\\S\\S+\",max_features=1000)\n",
        "vectorizer_X2 = TfidfVectorizer(analyzer = 'word',min_df=0.0,max_df=1.0,strip_accents=None,encoding='utf-8',preprocessor = None,token_pattern=r\"(?u)\\S\\S+\",max_features=1000)"
      ],
      "execution_count": null,
      "outputs": []
    },
    {
      "cell_type": "code",
      "metadata": {
        "id": "YtnE-W5j4u5r"
      },
      "source": [
        "X1_tfidf = vectorizer_X1.fit_transform(X1)\n",
        "X2_tfidf = vectorizer_X2.fit_transform(X2)"
      ],
      "execution_count": null,
      "outputs": []
    },
    {
      "cell_type": "code",
      "metadata": {
        "id": "NNDRfD7C4u5u"
      },
      "source": [
        "X_tfidf = hstack([X1_tfidf,X2_tfidf])"
      ],
      "execution_count": null,
      "outputs": []
    },
    {
      "cell_type": "code",
      "metadata": {
        "id": "KbOV7j4T4u56"
      },
      "source": [
        "X_train,X_test,y_train,y_test = train_test_split(X_tfidf,y_bin,test_size=0.2,random_state=0)"
      ],
      "execution_count": null,
      "outputs": []
    },
    {
      "cell_type": "code",
      "metadata": {
        "colab": {
          "base_uri": "https://localhost:8080/"
        },
        "id": "-gE0VBs4GT8-",
        "outputId": "b41e843f-b8af-4245-adf4-7c94f1074377"
      },
      "source": [
        "cnt = [0]*10\n",
        "for i in range(len(y_train)):\n",
        "  cnt[sum(y_train[i])]+=1\n",
        "print(cnt)"
      ],
      "execution_count": null,
      "outputs": [
        {
          "output_type": "stream",
          "text": [
            "[0, 27974, 16730, 4885, 851, 93, 0, 0, 0, 0]\n"
          ],
          "name": "stdout"
        }
      ]
    },
    {
      "cell_type": "code",
      "metadata": {
        "colab": {
          "base_uri": "https://localhost:8080/"
        },
        "id": "NaizSVbOGwVG",
        "outputId": "2138fad1-2c42-4522-baca-065a93417649"
      },
      "source": [
        "y_train.shape"
      ],
      "execution_count": null,
      "outputs": [
        {
          "output_type": "execute_result",
          "data": {
            "text/plain": [
              "(50533, 100)"
            ]
          },
          "metadata": {
            "tags": []
          },
          "execution_count": 113
        }
      ]
    },
    {
      "cell_type": "code",
      "metadata": {
        "colab": {
          "base_uri": "https://localhost:8080/"
        },
        "id": "_EJR5q9NG6iT",
        "outputId": "0afce3c4-3454-4dd0-ddc7-39aadaa8d442"
      },
      "source": [
        "cnt = [0]*10\n",
        "for i in range(len(y_test)):\n",
        "  cnt[sum(y_test[i])]+=1\n",
        "print(cnt)"
      ],
      "execution_count": null,
      "outputs": [
        {
          "output_type": "stream",
          "text": [
            "[0, 7075, 4136, 1202, 201, 20, 0, 0, 0, 0]\n"
          ],
          "name": "stdout"
        }
      ]
    },
    {
      "cell_type": "code",
      "metadata": {
        "colab": {
          "base_uri": "https://localhost:8080/"
        },
        "id": "WnNmbdHnG8lf",
        "outputId": "eb87a751-275c-4aab-b631-49733d30f999"
      },
      "source": [
        "y_test.shape"
      ],
      "execution_count": null,
      "outputs": [
        {
          "output_type": "execute_result",
          "data": {
            "text/plain": [
              "(12634, 100)"
            ]
          },
          "metadata": {
            "tags": []
          },
          "execution_count": 115
        }
      ]
    },
    {
      "cell_type": "markdown",
      "metadata": {
        "id": "feBxWuwwpcQj"
      },
      "source": [
        "## model"
      ]
    },
    {
      "cell_type": "markdown",
      "metadata": {
        "id": "xmyidoVppfoW"
      },
      "source": [
        "the criterion of mult-label\n",
        "1. avg_jacard \n",
        "2. hamming loss"
      ]
    },
    {
      "cell_type": "code",
      "metadata": {
        "id": "H3nyVRzQ4u5_"
      },
      "source": [
        "def avg_jacard(y_true,y_pred):\n",
        "    '''\n",
        "    see https://en.wikipedia.org/wiki/Multi-label_classification#Statistics_and_evaluation_metrics\n",
        "    '''\n",
        "    jacard = np.minimum(y_true,y_pred).sum(axis=1) / np.maximum(y_true,y_pred).sum(axis=1)\n",
        "    \n",
        "    return jacard.mean()*100\n",
        "\n",
        "def print_score(y_pred, clf):\n",
        "    label = clf.__class__.__name__\n",
        "    v_jacard = avg_jacard(y_test, y_pred)\n",
        "    v_hamming_loss = hamming_loss(y_pred, y_test)*100\n",
        "    print(\"Clf: \", clf.__class__.__name__)\n",
        "    print(\"Jacard score: {}\".format(avg_jacard(y_test, y_pred)))\n",
        "    print(\"Hamming loss: {}\".format(hamming_loss(y_pred, y_test)*100))\n",
        "    print(\"---\")    \n",
        "    return label,v_jacard,v_hamming_loss"
      ],
      "execution_count": null,
      "outputs": []
    },
    {
      "cell_type": "code",
      "metadata": {
        "id": "LTwbyUKpqWAd"
      },
      "source": [
        "from sklearn.dummy import *\n",
        "from sklearn.linear_model import *\n",
        "from sklearn.naive_bayes import *\n",
        "from sklearn.svm import *\n",
        "from sklearn.multiclass import *\n",
        "from sklearn.metrics import *\n",
        "from sklearn.neural_network import MLPClassifier\n",
        "from sklearn.ensemble import RandomForestClassifier"
      ],
      "execution_count": null,
      "outputs": []
    },
    {
      "cell_type": "code",
      "metadata": {
        "id": "i3EenTJpu74c"
      },
      "source": [
        "# store the result\n",
        "methods = []\n",
        "jacards = []\n",
        "hamming_losses = []"
      ],
      "execution_count": null,
      "outputs": []
    },
    {
      "cell_type": "code",
      "metadata": {
        "id": "qNJ8FzGM4u6F",
        "colab": {
          "base_uri": "https://localhost:8080/",
          "height": 573
        },
        "outputId": "b15c0292-1554-48aa-84e8-b62284f59352"
      },
      "source": [
        "dummy = DummyClassifier()\n",
        "sgd = SGDClassifier()\n",
        "lr = LogisticRegression()\n",
        "mn = MultinomialNB()\n",
        "svc = LinearSVC()\n",
        "perceptron = Perceptron()\n",
        "pac = PassiveAggressiveClassifier()\n",
        "\n",
        "for classifier in [dummy, sgd, lr, mn, svc, perceptron, pac]:\n",
        "    clf = OneVsRestClassifier(classifier)\n",
        "    clf.fit(X_train, y_train)\n",
        "    y_pred = clf.predict(X_test)\n",
        "    meth,jac,ham = print_score(y_pred, classifier)\n",
        "    methods.append(meth)\n",
        "    jacards.append(jac)\n",
        "    hamming_losses.append(ham)"
      ],
      "execution_count": null,
      "outputs": [
        {
          "output_type": "stream",
          "text": [
            "/usr/local/lib/python3.6/dist-packages/sklearn/dummy.py:132: FutureWarning: The default value of strategy will change from stratified to prior in 0.24.\n",
            "  \"stratified to prior in 0.24.\", FutureWarning)\n"
          ],
          "name": "stderr"
        },
        {
          "output_type": "stream",
          "text": [
            "Clf:  DummyClassifier\n",
            "Jacard score: 2.6246353377507403\n",
            "Hamming loss: 3.011635269906601\n",
            "---\n",
            "Clf:  SGDClassifier\n",
            "Jacard score: 49.63537544192918\n",
            "Hamming loss: 0.9319297134715847\n",
            "---\n"
          ],
          "name": "stdout"
        },
        {
          "output_type": "error",
          "ename": "KeyboardInterrupt",
          "evalue": "ignored",
          "traceback": [
            "\u001b[0;31m---------------------------------------------------------------------------\u001b[0m",
            "\u001b[0;31mKeyboardInterrupt\u001b[0m                         Traceback (most recent call last)",
            "\u001b[0;32m<ipython-input-102-34a4df2cccbc>\u001b[0m in \u001b[0;36m<module>\u001b[0;34m()\u001b[0m\n\u001b[1;32m      9\u001b[0m \u001b[0;32mfor\u001b[0m \u001b[0mclassifier\u001b[0m \u001b[0;32min\u001b[0m \u001b[0;34m[\u001b[0m\u001b[0mdummy\u001b[0m\u001b[0;34m,\u001b[0m \u001b[0msgd\u001b[0m\u001b[0;34m,\u001b[0m \u001b[0mlr\u001b[0m\u001b[0;34m,\u001b[0m \u001b[0mmn\u001b[0m\u001b[0;34m,\u001b[0m \u001b[0msvc\u001b[0m\u001b[0;34m,\u001b[0m \u001b[0mperceptron\u001b[0m\u001b[0;34m,\u001b[0m \u001b[0mpac\u001b[0m\u001b[0;34m]\u001b[0m\u001b[0;34m:\u001b[0m\u001b[0;34m\u001b[0m\u001b[0;34m\u001b[0m\u001b[0m\n\u001b[1;32m     10\u001b[0m     \u001b[0mclf\u001b[0m \u001b[0;34m=\u001b[0m \u001b[0mOneVsRestClassifier\u001b[0m\u001b[0;34m(\u001b[0m\u001b[0mclassifier\u001b[0m\u001b[0;34m)\u001b[0m\u001b[0;34m\u001b[0m\u001b[0;34m\u001b[0m\u001b[0m\n\u001b[0;32m---> 11\u001b[0;31m     \u001b[0mclf\u001b[0m\u001b[0;34m.\u001b[0m\u001b[0mfit\u001b[0m\u001b[0;34m(\u001b[0m\u001b[0mX_train\u001b[0m\u001b[0;34m,\u001b[0m \u001b[0my_train\u001b[0m\u001b[0;34m)\u001b[0m\u001b[0;34m\u001b[0m\u001b[0;34m\u001b[0m\u001b[0m\n\u001b[0m\u001b[1;32m     12\u001b[0m     \u001b[0my_pred\u001b[0m \u001b[0;34m=\u001b[0m \u001b[0mclf\u001b[0m\u001b[0;34m.\u001b[0m\u001b[0mpredict\u001b[0m\u001b[0;34m(\u001b[0m\u001b[0mX_test\u001b[0m\u001b[0;34m)\u001b[0m\u001b[0;34m\u001b[0m\u001b[0;34m\u001b[0m\u001b[0m\n\u001b[1;32m     13\u001b[0m     \u001b[0mmeth\u001b[0m\u001b[0;34m,\u001b[0m\u001b[0mjac\u001b[0m\u001b[0;34m,\u001b[0m\u001b[0mham\u001b[0m \u001b[0;34m=\u001b[0m \u001b[0mprint_score\u001b[0m\u001b[0;34m(\u001b[0m\u001b[0my_pred\u001b[0m\u001b[0;34m,\u001b[0m \u001b[0mclassifier\u001b[0m\u001b[0;34m)\u001b[0m\u001b[0;34m\u001b[0m\u001b[0;34m\u001b[0m\u001b[0m\n",
            "\u001b[0;32m/usr/local/lib/python3.6/dist-packages/sklearn/multiclass.py\u001b[0m in \u001b[0;36mfit\u001b[0;34m(self, X, y)\u001b[0m\n\u001b[1;32m    237\u001b[0m                 \u001b[0;34m\"not %s\"\u001b[0m \u001b[0;34m%\u001b[0m \u001b[0mself\u001b[0m\u001b[0;34m.\u001b[0m\u001b[0mlabel_binarizer_\u001b[0m\u001b[0;34m.\u001b[0m\u001b[0mclasses_\u001b[0m\u001b[0;34m[\u001b[0m\u001b[0mi\u001b[0m\u001b[0;34m]\u001b[0m\u001b[0;34m,\u001b[0m\u001b[0;34m\u001b[0m\u001b[0;34m\u001b[0m\u001b[0m\n\u001b[1;32m    238\u001b[0m                 self.label_binarizer_.classes_[i]])\n\u001b[0;32m--> 239\u001b[0;31m             for i, column in enumerate(columns))\n\u001b[0m\u001b[1;32m    240\u001b[0m \u001b[0;34m\u001b[0m\u001b[0m\n\u001b[1;32m    241\u001b[0m         \u001b[0;32mreturn\u001b[0m \u001b[0mself\u001b[0m\u001b[0;34m\u001b[0m\u001b[0;34m\u001b[0m\u001b[0m\n",
            "\u001b[0;32m/usr/local/lib/python3.6/dist-packages/joblib/parallel.py\u001b[0m in \u001b[0;36m__call__\u001b[0;34m(self, iterable)\u001b[0m\n\u001b[1;32m   1049\u001b[0m                 \u001b[0mself\u001b[0m\u001b[0;34m.\u001b[0m\u001b[0m_iterating\u001b[0m \u001b[0;34m=\u001b[0m \u001b[0mself\u001b[0m\u001b[0;34m.\u001b[0m\u001b[0m_original_iterator\u001b[0m \u001b[0;32mis\u001b[0m \u001b[0;32mnot\u001b[0m \u001b[0;32mNone\u001b[0m\u001b[0;34m\u001b[0m\u001b[0;34m\u001b[0m\u001b[0m\n\u001b[1;32m   1050\u001b[0m \u001b[0;34m\u001b[0m\u001b[0m\n\u001b[0;32m-> 1051\u001b[0;31m             \u001b[0;32mwhile\u001b[0m \u001b[0mself\u001b[0m\u001b[0;34m.\u001b[0m\u001b[0mdispatch_one_batch\u001b[0m\u001b[0;34m(\u001b[0m\u001b[0miterator\u001b[0m\u001b[0;34m)\u001b[0m\u001b[0;34m:\u001b[0m\u001b[0;34m\u001b[0m\u001b[0;34m\u001b[0m\u001b[0m\n\u001b[0m\u001b[1;32m   1052\u001b[0m                 \u001b[0;32mpass\u001b[0m\u001b[0;34m\u001b[0m\u001b[0;34m\u001b[0m\u001b[0m\n\u001b[1;32m   1053\u001b[0m \u001b[0;34m\u001b[0m\u001b[0m\n",
            "\u001b[0;32m/usr/local/lib/python3.6/dist-packages/joblib/parallel.py\u001b[0m in \u001b[0;36mdispatch_one_batch\u001b[0;34m(self, iterator)\u001b[0m\n\u001b[1;32m    864\u001b[0m                 \u001b[0;32mreturn\u001b[0m \u001b[0;32mFalse\u001b[0m\u001b[0;34m\u001b[0m\u001b[0;34m\u001b[0m\u001b[0m\n\u001b[1;32m    865\u001b[0m             \u001b[0;32melse\u001b[0m\u001b[0;34m:\u001b[0m\u001b[0;34m\u001b[0m\u001b[0;34m\u001b[0m\u001b[0m\n\u001b[0;32m--> 866\u001b[0;31m                 \u001b[0mself\u001b[0m\u001b[0;34m.\u001b[0m\u001b[0m_dispatch\u001b[0m\u001b[0;34m(\u001b[0m\u001b[0mtasks\u001b[0m\u001b[0;34m)\u001b[0m\u001b[0;34m\u001b[0m\u001b[0;34m\u001b[0m\u001b[0m\n\u001b[0m\u001b[1;32m    867\u001b[0m                 \u001b[0;32mreturn\u001b[0m \u001b[0;32mTrue\u001b[0m\u001b[0;34m\u001b[0m\u001b[0;34m\u001b[0m\u001b[0m\n\u001b[1;32m    868\u001b[0m \u001b[0;34m\u001b[0m\u001b[0m\n",
            "\u001b[0;32m/usr/local/lib/python3.6/dist-packages/joblib/parallel.py\u001b[0m in \u001b[0;36m_dispatch\u001b[0;34m(self, batch)\u001b[0m\n\u001b[1;32m    782\u001b[0m         \u001b[0;32mwith\u001b[0m \u001b[0mself\u001b[0m\u001b[0;34m.\u001b[0m\u001b[0m_lock\u001b[0m\u001b[0;34m:\u001b[0m\u001b[0;34m\u001b[0m\u001b[0;34m\u001b[0m\u001b[0m\n\u001b[1;32m    783\u001b[0m             \u001b[0mjob_idx\u001b[0m \u001b[0;34m=\u001b[0m \u001b[0mlen\u001b[0m\u001b[0;34m(\u001b[0m\u001b[0mself\u001b[0m\u001b[0;34m.\u001b[0m\u001b[0m_jobs\u001b[0m\u001b[0;34m)\u001b[0m\u001b[0;34m\u001b[0m\u001b[0;34m\u001b[0m\u001b[0m\n\u001b[0;32m--> 784\u001b[0;31m             \u001b[0mjob\u001b[0m \u001b[0;34m=\u001b[0m \u001b[0mself\u001b[0m\u001b[0;34m.\u001b[0m\u001b[0m_backend\u001b[0m\u001b[0;34m.\u001b[0m\u001b[0mapply_async\u001b[0m\u001b[0;34m(\u001b[0m\u001b[0mbatch\u001b[0m\u001b[0;34m,\u001b[0m \u001b[0mcallback\u001b[0m\u001b[0;34m=\u001b[0m\u001b[0mcb\u001b[0m\u001b[0;34m)\u001b[0m\u001b[0;34m\u001b[0m\u001b[0;34m\u001b[0m\u001b[0m\n\u001b[0m\u001b[1;32m    785\u001b[0m             \u001b[0;31m# A job can complete so quickly than its callback is\u001b[0m\u001b[0;34m\u001b[0m\u001b[0;34m\u001b[0m\u001b[0;34m\u001b[0m\u001b[0m\n\u001b[1;32m    786\u001b[0m             \u001b[0;31m# called before we get here, causing self._jobs to\u001b[0m\u001b[0;34m\u001b[0m\u001b[0;34m\u001b[0m\u001b[0;34m\u001b[0m\u001b[0m\n",
            "\u001b[0;32m/usr/local/lib/python3.6/dist-packages/joblib/_parallel_backends.py\u001b[0m in \u001b[0;36mapply_async\u001b[0;34m(self, func, callback)\u001b[0m\n\u001b[1;32m    206\u001b[0m     \u001b[0;32mdef\u001b[0m \u001b[0mapply_async\u001b[0m\u001b[0;34m(\u001b[0m\u001b[0mself\u001b[0m\u001b[0;34m,\u001b[0m \u001b[0mfunc\u001b[0m\u001b[0;34m,\u001b[0m \u001b[0mcallback\u001b[0m\u001b[0;34m=\u001b[0m\u001b[0;32mNone\u001b[0m\u001b[0;34m)\u001b[0m\u001b[0;34m:\u001b[0m\u001b[0;34m\u001b[0m\u001b[0;34m\u001b[0m\u001b[0m\n\u001b[1;32m    207\u001b[0m         \u001b[0;34m\"\"\"Schedule a func to be run\"\"\"\u001b[0m\u001b[0;34m\u001b[0m\u001b[0;34m\u001b[0m\u001b[0m\n\u001b[0;32m--> 208\u001b[0;31m         \u001b[0mresult\u001b[0m \u001b[0;34m=\u001b[0m \u001b[0mImmediateResult\u001b[0m\u001b[0;34m(\u001b[0m\u001b[0mfunc\u001b[0m\u001b[0;34m)\u001b[0m\u001b[0;34m\u001b[0m\u001b[0;34m\u001b[0m\u001b[0m\n\u001b[0m\u001b[1;32m    209\u001b[0m         \u001b[0;32mif\u001b[0m \u001b[0mcallback\u001b[0m\u001b[0;34m:\u001b[0m\u001b[0;34m\u001b[0m\u001b[0;34m\u001b[0m\u001b[0m\n\u001b[1;32m    210\u001b[0m             \u001b[0mcallback\u001b[0m\u001b[0;34m(\u001b[0m\u001b[0mresult\u001b[0m\u001b[0;34m)\u001b[0m\u001b[0;34m\u001b[0m\u001b[0;34m\u001b[0m\u001b[0m\n",
            "\u001b[0;32m/usr/local/lib/python3.6/dist-packages/joblib/_parallel_backends.py\u001b[0m in \u001b[0;36m__init__\u001b[0;34m(self, batch)\u001b[0m\n\u001b[1;32m    570\u001b[0m         \u001b[0;31m# Don't delay the application, to avoid keeping the input\u001b[0m\u001b[0;34m\u001b[0m\u001b[0;34m\u001b[0m\u001b[0;34m\u001b[0m\u001b[0m\n\u001b[1;32m    571\u001b[0m         \u001b[0;31m# arguments in memory\u001b[0m\u001b[0;34m\u001b[0m\u001b[0;34m\u001b[0m\u001b[0;34m\u001b[0m\u001b[0m\n\u001b[0;32m--> 572\u001b[0;31m         \u001b[0mself\u001b[0m\u001b[0;34m.\u001b[0m\u001b[0mresults\u001b[0m \u001b[0;34m=\u001b[0m \u001b[0mbatch\u001b[0m\u001b[0;34m(\u001b[0m\u001b[0;34m)\u001b[0m\u001b[0;34m\u001b[0m\u001b[0;34m\u001b[0m\u001b[0m\n\u001b[0m\u001b[1;32m    573\u001b[0m \u001b[0;34m\u001b[0m\u001b[0m\n\u001b[1;32m    574\u001b[0m     \u001b[0;32mdef\u001b[0m \u001b[0mget\u001b[0m\u001b[0;34m(\u001b[0m\u001b[0mself\u001b[0m\u001b[0;34m)\u001b[0m\u001b[0;34m:\u001b[0m\u001b[0;34m\u001b[0m\u001b[0;34m\u001b[0m\u001b[0m\n",
            "\u001b[0;32m/usr/local/lib/python3.6/dist-packages/joblib/parallel.py\u001b[0m in \u001b[0;36m__call__\u001b[0;34m(self)\u001b[0m\n\u001b[1;32m    261\u001b[0m         \u001b[0;32mwith\u001b[0m \u001b[0mparallel_backend\u001b[0m\u001b[0;34m(\u001b[0m\u001b[0mself\u001b[0m\u001b[0;34m.\u001b[0m\u001b[0m_backend\u001b[0m\u001b[0;34m,\u001b[0m \u001b[0mn_jobs\u001b[0m\u001b[0;34m=\u001b[0m\u001b[0mself\u001b[0m\u001b[0;34m.\u001b[0m\u001b[0m_n_jobs\u001b[0m\u001b[0;34m)\u001b[0m\u001b[0;34m:\u001b[0m\u001b[0;34m\u001b[0m\u001b[0;34m\u001b[0m\u001b[0m\n\u001b[1;32m    262\u001b[0m             return [func(*args, **kwargs)\n\u001b[0;32m--> 263\u001b[0;31m                     for func, args, kwargs in self.items]\n\u001b[0m\u001b[1;32m    264\u001b[0m \u001b[0;34m\u001b[0m\u001b[0m\n\u001b[1;32m    265\u001b[0m     \u001b[0;32mdef\u001b[0m \u001b[0m__reduce__\u001b[0m\u001b[0;34m(\u001b[0m\u001b[0mself\u001b[0m\u001b[0;34m)\u001b[0m\u001b[0;34m:\u001b[0m\u001b[0;34m\u001b[0m\u001b[0;34m\u001b[0m\u001b[0m\n",
            "\u001b[0;32m/usr/local/lib/python3.6/dist-packages/joblib/parallel.py\u001b[0m in \u001b[0;36m<listcomp>\u001b[0;34m(.0)\u001b[0m\n\u001b[1;32m    261\u001b[0m         \u001b[0;32mwith\u001b[0m \u001b[0mparallel_backend\u001b[0m\u001b[0;34m(\u001b[0m\u001b[0mself\u001b[0m\u001b[0;34m.\u001b[0m\u001b[0m_backend\u001b[0m\u001b[0;34m,\u001b[0m \u001b[0mn_jobs\u001b[0m\u001b[0;34m=\u001b[0m\u001b[0mself\u001b[0m\u001b[0;34m.\u001b[0m\u001b[0m_n_jobs\u001b[0m\u001b[0;34m)\u001b[0m\u001b[0;34m:\u001b[0m\u001b[0;34m\u001b[0m\u001b[0;34m\u001b[0m\u001b[0m\n\u001b[1;32m    262\u001b[0m             return [func(*args, **kwargs)\n\u001b[0;32m--> 263\u001b[0;31m                     for func, args, kwargs in self.items]\n\u001b[0m\u001b[1;32m    264\u001b[0m \u001b[0;34m\u001b[0m\u001b[0m\n\u001b[1;32m    265\u001b[0m     \u001b[0;32mdef\u001b[0m \u001b[0m__reduce__\u001b[0m\u001b[0;34m(\u001b[0m\u001b[0mself\u001b[0m\u001b[0;34m)\u001b[0m\u001b[0;34m:\u001b[0m\u001b[0;34m\u001b[0m\u001b[0;34m\u001b[0m\u001b[0m\n",
            "\u001b[0;32m/usr/local/lib/python3.6/dist-packages/sklearn/multiclass.py\u001b[0m in \u001b[0;36m_fit_binary\u001b[0;34m(estimator, X, y, classes)\u001b[0m\n\u001b[1;32m     77\u001b[0m     \u001b[0;32melse\u001b[0m\u001b[0;34m:\u001b[0m\u001b[0;34m\u001b[0m\u001b[0;34m\u001b[0m\u001b[0m\n\u001b[1;32m     78\u001b[0m         \u001b[0mestimator\u001b[0m \u001b[0;34m=\u001b[0m \u001b[0mclone\u001b[0m\u001b[0;34m(\u001b[0m\u001b[0mestimator\u001b[0m\u001b[0;34m)\u001b[0m\u001b[0;34m\u001b[0m\u001b[0;34m\u001b[0m\u001b[0m\n\u001b[0;32m---> 79\u001b[0;31m         \u001b[0mestimator\u001b[0m\u001b[0;34m.\u001b[0m\u001b[0mfit\u001b[0m\u001b[0;34m(\u001b[0m\u001b[0mX\u001b[0m\u001b[0;34m,\u001b[0m \u001b[0my\u001b[0m\u001b[0;34m)\u001b[0m\u001b[0;34m\u001b[0m\u001b[0;34m\u001b[0m\u001b[0m\n\u001b[0m\u001b[1;32m     80\u001b[0m     \u001b[0;32mreturn\u001b[0m \u001b[0mestimator\u001b[0m\u001b[0;34m\u001b[0m\u001b[0;34m\u001b[0m\u001b[0m\n\u001b[1;32m     81\u001b[0m \u001b[0;34m\u001b[0m\u001b[0m\n",
            "\u001b[0;32m/usr/local/lib/python3.6/dist-packages/sklearn/linear_model/_logistic.py\u001b[0m in \u001b[0;36mfit\u001b[0;34m(self, X, y, sample_weight)\u001b[0m\n\u001b[1;32m   1599\u001b[0m                       \u001b[0mpenalty\u001b[0m\u001b[0;34m=\u001b[0m\u001b[0mpenalty\u001b[0m\u001b[0;34m,\u001b[0m \u001b[0mmax_squared_sum\u001b[0m\u001b[0;34m=\u001b[0m\u001b[0mmax_squared_sum\u001b[0m\u001b[0;34m,\u001b[0m\u001b[0;34m\u001b[0m\u001b[0;34m\u001b[0m\u001b[0m\n\u001b[1;32m   1600\u001b[0m                       sample_weight=sample_weight)\n\u001b[0;32m-> 1601\u001b[0;31m             for class_, warm_start_coef_ in zip(classes_, warm_start_coef))\n\u001b[0m\u001b[1;32m   1602\u001b[0m \u001b[0;34m\u001b[0m\u001b[0m\n\u001b[1;32m   1603\u001b[0m         \u001b[0mfold_coefs_\u001b[0m\u001b[0;34m,\u001b[0m \u001b[0m_\u001b[0m\u001b[0;34m,\u001b[0m \u001b[0mn_iter_\u001b[0m \u001b[0;34m=\u001b[0m \u001b[0mzip\u001b[0m\u001b[0;34m(\u001b[0m\u001b[0;34m*\u001b[0m\u001b[0mfold_coefs_\u001b[0m\u001b[0;34m)\u001b[0m\u001b[0;34m\u001b[0m\u001b[0;34m\u001b[0m\u001b[0m\n",
            "\u001b[0;32m/usr/local/lib/python3.6/dist-packages/joblib/parallel.py\u001b[0m in \u001b[0;36m__call__\u001b[0;34m(self, iterable)\u001b[0m\n\u001b[1;32m   1046\u001b[0m             \u001b[0;31m# remaining jobs.\u001b[0m\u001b[0;34m\u001b[0m\u001b[0;34m\u001b[0m\u001b[0;34m\u001b[0m\u001b[0m\n\u001b[1;32m   1047\u001b[0m             \u001b[0mself\u001b[0m\u001b[0;34m.\u001b[0m\u001b[0m_iterating\u001b[0m \u001b[0;34m=\u001b[0m \u001b[0;32mFalse\u001b[0m\u001b[0;34m\u001b[0m\u001b[0;34m\u001b[0m\u001b[0m\n\u001b[0;32m-> 1048\u001b[0;31m             \u001b[0;32mif\u001b[0m \u001b[0mself\u001b[0m\u001b[0;34m.\u001b[0m\u001b[0mdispatch_one_batch\u001b[0m\u001b[0;34m(\u001b[0m\u001b[0miterator\u001b[0m\u001b[0;34m)\u001b[0m\u001b[0;34m:\u001b[0m\u001b[0;34m\u001b[0m\u001b[0;34m\u001b[0m\u001b[0m\n\u001b[0m\u001b[1;32m   1049\u001b[0m                 \u001b[0mself\u001b[0m\u001b[0;34m.\u001b[0m\u001b[0m_iterating\u001b[0m \u001b[0;34m=\u001b[0m \u001b[0mself\u001b[0m\u001b[0;34m.\u001b[0m\u001b[0m_original_iterator\u001b[0m \u001b[0;32mis\u001b[0m \u001b[0;32mnot\u001b[0m \u001b[0;32mNone\u001b[0m\u001b[0;34m\u001b[0m\u001b[0;34m\u001b[0m\u001b[0m\n\u001b[1;32m   1050\u001b[0m \u001b[0;34m\u001b[0m\u001b[0m\n",
            "\u001b[0;32m/usr/local/lib/python3.6/dist-packages/joblib/parallel.py\u001b[0m in \u001b[0;36mdispatch_one_batch\u001b[0;34m(self, iterator)\u001b[0m\n\u001b[1;32m    864\u001b[0m                 \u001b[0;32mreturn\u001b[0m \u001b[0;32mFalse\u001b[0m\u001b[0;34m\u001b[0m\u001b[0;34m\u001b[0m\u001b[0m\n\u001b[1;32m    865\u001b[0m             \u001b[0;32melse\u001b[0m\u001b[0;34m:\u001b[0m\u001b[0;34m\u001b[0m\u001b[0;34m\u001b[0m\u001b[0m\n\u001b[0;32m--> 866\u001b[0;31m                 \u001b[0mself\u001b[0m\u001b[0;34m.\u001b[0m\u001b[0m_dispatch\u001b[0m\u001b[0;34m(\u001b[0m\u001b[0mtasks\u001b[0m\u001b[0;34m)\u001b[0m\u001b[0;34m\u001b[0m\u001b[0;34m\u001b[0m\u001b[0m\n\u001b[0m\u001b[1;32m    867\u001b[0m                 \u001b[0;32mreturn\u001b[0m \u001b[0;32mTrue\u001b[0m\u001b[0;34m\u001b[0m\u001b[0;34m\u001b[0m\u001b[0m\n\u001b[1;32m    868\u001b[0m \u001b[0;34m\u001b[0m\u001b[0m\n",
            "\u001b[0;32m/usr/local/lib/python3.6/dist-packages/joblib/parallel.py\u001b[0m in \u001b[0;36m_dispatch\u001b[0;34m(self, batch)\u001b[0m\n\u001b[1;32m    782\u001b[0m         \u001b[0;32mwith\u001b[0m \u001b[0mself\u001b[0m\u001b[0;34m.\u001b[0m\u001b[0m_lock\u001b[0m\u001b[0;34m:\u001b[0m\u001b[0;34m\u001b[0m\u001b[0;34m\u001b[0m\u001b[0m\n\u001b[1;32m    783\u001b[0m             \u001b[0mjob_idx\u001b[0m \u001b[0;34m=\u001b[0m \u001b[0mlen\u001b[0m\u001b[0;34m(\u001b[0m\u001b[0mself\u001b[0m\u001b[0;34m.\u001b[0m\u001b[0m_jobs\u001b[0m\u001b[0;34m)\u001b[0m\u001b[0;34m\u001b[0m\u001b[0;34m\u001b[0m\u001b[0m\n\u001b[0;32m--> 784\u001b[0;31m             \u001b[0mjob\u001b[0m \u001b[0;34m=\u001b[0m \u001b[0mself\u001b[0m\u001b[0;34m.\u001b[0m\u001b[0m_backend\u001b[0m\u001b[0;34m.\u001b[0m\u001b[0mapply_async\u001b[0m\u001b[0;34m(\u001b[0m\u001b[0mbatch\u001b[0m\u001b[0;34m,\u001b[0m \u001b[0mcallback\u001b[0m\u001b[0;34m=\u001b[0m\u001b[0mcb\u001b[0m\u001b[0;34m)\u001b[0m\u001b[0;34m\u001b[0m\u001b[0;34m\u001b[0m\u001b[0m\n\u001b[0m\u001b[1;32m    785\u001b[0m             \u001b[0;31m# A job can complete so quickly than its callback is\u001b[0m\u001b[0;34m\u001b[0m\u001b[0;34m\u001b[0m\u001b[0;34m\u001b[0m\u001b[0m\n\u001b[1;32m    786\u001b[0m             \u001b[0;31m# called before we get here, causing self._jobs to\u001b[0m\u001b[0;34m\u001b[0m\u001b[0;34m\u001b[0m\u001b[0;34m\u001b[0m\u001b[0m\n",
            "\u001b[0;32m/usr/local/lib/python3.6/dist-packages/joblib/_parallel_backends.py\u001b[0m in \u001b[0;36mapply_async\u001b[0;34m(self, func, callback)\u001b[0m\n\u001b[1;32m    206\u001b[0m     \u001b[0;32mdef\u001b[0m \u001b[0mapply_async\u001b[0m\u001b[0;34m(\u001b[0m\u001b[0mself\u001b[0m\u001b[0;34m,\u001b[0m \u001b[0mfunc\u001b[0m\u001b[0;34m,\u001b[0m \u001b[0mcallback\u001b[0m\u001b[0;34m=\u001b[0m\u001b[0;32mNone\u001b[0m\u001b[0;34m)\u001b[0m\u001b[0;34m:\u001b[0m\u001b[0;34m\u001b[0m\u001b[0;34m\u001b[0m\u001b[0m\n\u001b[1;32m    207\u001b[0m         \u001b[0;34m\"\"\"Schedule a func to be run\"\"\"\u001b[0m\u001b[0;34m\u001b[0m\u001b[0;34m\u001b[0m\u001b[0m\n\u001b[0;32m--> 208\u001b[0;31m         \u001b[0mresult\u001b[0m \u001b[0;34m=\u001b[0m \u001b[0mImmediateResult\u001b[0m\u001b[0;34m(\u001b[0m\u001b[0mfunc\u001b[0m\u001b[0;34m)\u001b[0m\u001b[0;34m\u001b[0m\u001b[0;34m\u001b[0m\u001b[0m\n\u001b[0m\u001b[1;32m    209\u001b[0m         \u001b[0;32mif\u001b[0m \u001b[0mcallback\u001b[0m\u001b[0;34m:\u001b[0m\u001b[0;34m\u001b[0m\u001b[0;34m\u001b[0m\u001b[0m\n\u001b[1;32m    210\u001b[0m             \u001b[0mcallback\u001b[0m\u001b[0;34m(\u001b[0m\u001b[0mresult\u001b[0m\u001b[0;34m)\u001b[0m\u001b[0;34m\u001b[0m\u001b[0;34m\u001b[0m\u001b[0m\n",
            "\u001b[0;32m/usr/local/lib/python3.6/dist-packages/joblib/_parallel_backends.py\u001b[0m in \u001b[0;36m__init__\u001b[0;34m(self, batch)\u001b[0m\n\u001b[1;32m    570\u001b[0m         \u001b[0;31m# Don't delay the application, to avoid keeping the input\u001b[0m\u001b[0;34m\u001b[0m\u001b[0;34m\u001b[0m\u001b[0;34m\u001b[0m\u001b[0m\n\u001b[1;32m    571\u001b[0m         \u001b[0;31m# arguments in memory\u001b[0m\u001b[0;34m\u001b[0m\u001b[0;34m\u001b[0m\u001b[0;34m\u001b[0m\u001b[0m\n\u001b[0;32m--> 572\u001b[0;31m         \u001b[0mself\u001b[0m\u001b[0;34m.\u001b[0m\u001b[0mresults\u001b[0m \u001b[0;34m=\u001b[0m \u001b[0mbatch\u001b[0m\u001b[0;34m(\u001b[0m\u001b[0;34m)\u001b[0m\u001b[0;34m\u001b[0m\u001b[0;34m\u001b[0m\u001b[0m\n\u001b[0m\u001b[1;32m    573\u001b[0m \u001b[0;34m\u001b[0m\u001b[0m\n\u001b[1;32m    574\u001b[0m     \u001b[0;32mdef\u001b[0m \u001b[0mget\u001b[0m\u001b[0;34m(\u001b[0m\u001b[0mself\u001b[0m\u001b[0;34m)\u001b[0m\u001b[0;34m:\u001b[0m\u001b[0;34m\u001b[0m\u001b[0;34m\u001b[0m\u001b[0m\n",
            "\u001b[0;32m/usr/local/lib/python3.6/dist-packages/joblib/parallel.py\u001b[0m in \u001b[0;36m__call__\u001b[0;34m(self)\u001b[0m\n\u001b[1;32m    261\u001b[0m         \u001b[0;32mwith\u001b[0m \u001b[0mparallel_backend\u001b[0m\u001b[0;34m(\u001b[0m\u001b[0mself\u001b[0m\u001b[0;34m.\u001b[0m\u001b[0m_backend\u001b[0m\u001b[0;34m,\u001b[0m \u001b[0mn_jobs\u001b[0m\u001b[0;34m=\u001b[0m\u001b[0mself\u001b[0m\u001b[0;34m.\u001b[0m\u001b[0m_n_jobs\u001b[0m\u001b[0;34m)\u001b[0m\u001b[0;34m:\u001b[0m\u001b[0;34m\u001b[0m\u001b[0;34m\u001b[0m\u001b[0m\n\u001b[1;32m    262\u001b[0m             return [func(*args, **kwargs)\n\u001b[0;32m--> 263\u001b[0;31m                     for func, args, kwargs in self.items]\n\u001b[0m\u001b[1;32m    264\u001b[0m \u001b[0;34m\u001b[0m\u001b[0m\n\u001b[1;32m    265\u001b[0m     \u001b[0;32mdef\u001b[0m \u001b[0m__reduce__\u001b[0m\u001b[0;34m(\u001b[0m\u001b[0mself\u001b[0m\u001b[0;34m)\u001b[0m\u001b[0;34m:\u001b[0m\u001b[0;34m\u001b[0m\u001b[0;34m\u001b[0m\u001b[0m\n",
            "\u001b[0;32m/usr/local/lib/python3.6/dist-packages/joblib/parallel.py\u001b[0m in \u001b[0;36m<listcomp>\u001b[0;34m(.0)\u001b[0m\n\u001b[1;32m    261\u001b[0m         \u001b[0;32mwith\u001b[0m \u001b[0mparallel_backend\u001b[0m\u001b[0;34m(\u001b[0m\u001b[0mself\u001b[0m\u001b[0;34m.\u001b[0m\u001b[0m_backend\u001b[0m\u001b[0;34m,\u001b[0m \u001b[0mn_jobs\u001b[0m\u001b[0;34m=\u001b[0m\u001b[0mself\u001b[0m\u001b[0;34m.\u001b[0m\u001b[0m_n_jobs\u001b[0m\u001b[0;34m)\u001b[0m\u001b[0;34m:\u001b[0m\u001b[0;34m\u001b[0m\u001b[0;34m\u001b[0m\u001b[0m\n\u001b[1;32m    262\u001b[0m             return [func(*args, **kwargs)\n\u001b[0;32m--> 263\u001b[0;31m                     for func, args, kwargs in self.items]\n\u001b[0m\u001b[1;32m    264\u001b[0m \u001b[0;34m\u001b[0m\u001b[0m\n\u001b[1;32m    265\u001b[0m     \u001b[0;32mdef\u001b[0m \u001b[0m__reduce__\u001b[0m\u001b[0;34m(\u001b[0m\u001b[0mself\u001b[0m\u001b[0;34m)\u001b[0m\u001b[0;34m:\u001b[0m\u001b[0;34m\u001b[0m\u001b[0;34m\u001b[0m\u001b[0m\n",
            "\u001b[0;32m/usr/local/lib/python3.6/dist-packages/sklearn/linear_model/_logistic.py\u001b[0m in \u001b[0;36m_logistic_regression_path\u001b[0;34m(X, y, pos_class, Cs, fit_intercept, max_iter, tol, verbose, solver, coef, class_weight, dual, penalty, intercept_scaling, multi_class, random_state, check_input, max_squared_sum, sample_weight, l1_ratio)\u001b[0m\n\u001b[1;32m    934\u001b[0m                 \u001b[0mfunc\u001b[0m\u001b[0;34m,\u001b[0m \u001b[0mw0\u001b[0m\u001b[0;34m,\u001b[0m \u001b[0mmethod\u001b[0m\u001b[0;34m=\u001b[0m\u001b[0;34m\"L-BFGS-B\"\u001b[0m\u001b[0;34m,\u001b[0m \u001b[0mjac\u001b[0m\u001b[0;34m=\u001b[0m\u001b[0;32mTrue\u001b[0m\u001b[0;34m,\u001b[0m\u001b[0;34m\u001b[0m\u001b[0;34m\u001b[0m\u001b[0m\n\u001b[1;32m    935\u001b[0m                 \u001b[0margs\u001b[0m\u001b[0;34m=\u001b[0m\u001b[0;34m(\u001b[0m\u001b[0mX\u001b[0m\u001b[0;34m,\u001b[0m \u001b[0mtarget\u001b[0m\u001b[0;34m,\u001b[0m \u001b[0;36m1.\u001b[0m \u001b[0;34m/\u001b[0m \u001b[0mC\u001b[0m\u001b[0;34m,\u001b[0m \u001b[0msample_weight\u001b[0m\u001b[0;34m)\u001b[0m\u001b[0;34m,\u001b[0m\u001b[0;34m\u001b[0m\u001b[0;34m\u001b[0m\u001b[0m\n\u001b[0;32m--> 936\u001b[0;31m                 \u001b[0moptions\u001b[0m\u001b[0;34m=\u001b[0m\u001b[0;34m{\u001b[0m\u001b[0;34m\"iprint\"\u001b[0m\u001b[0;34m:\u001b[0m \u001b[0miprint\u001b[0m\u001b[0;34m,\u001b[0m \u001b[0;34m\"gtol\"\u001b[0m\u001b[0;34m:\u001b[0m \u001b[0mtol\u001b[0m\u001b[0;34m,\u001b[0m \u001b[0;34m\"maxiter\"\u001b[0m\u001b[0;34m:\u001b[0m \u001b[0mmax_iter\u001b[0m\u001b[0;34m}\u001b[0m\u001b[0;34m\u001b[0m\u001b[0;34m\u001b[0m\u001b[0m\n\u001b[0m\u001b[1;32m    937\u001b[0m             )\n\u001b[1;32m    938\u001b[0m             n_iter_i = _check_optimize_result(\n",
            "\u001b[0;32m/usr/local/lib/python3.6/dist-packages/scipy/optimize/_minimize.py\u001b[0m in \u001b[0;36mminimize\u001b[0;34m(fun, x0, args, method, jac, hess, hessp, bounds, constraints, tol, callback, options)\u001b[0m\n\u001b[1;32m    608\u001b[0m     \u001b[0;32melif\u001b[0m \u001b[0mmeth\u001b[0m \u001b[0;34m==\u001b[0m \u001b[0;34m'l-bfgs-b'\u001b[0m\u001b[0;34m:\u001b[0m\u001b[0;34m\u001b[0m\u001b[0;34m\u001b[0m\u001b[0m\n\u001b[1;32m    609\u001b[0m         return _minimize_lbfgsb(fun, x0, args, jac, bounds,\n\u001b[0;32m--> 610\u001b[0;31m                                 callback=callback, **options)\n\u001b[0m\u001b[1;32m    611\u001b[0m     \u001b[0;32melif\u001b[0m \u001b[0mmeth\u001b[0m \u001b[0;34m==\u001b[0m \u001b[0;34m'tnc'\u001b[0m\u001b[0;34m:\u001b[0m\u001b[0;34m\u001b[0m\u001b[0;34m\u001b[0m\u001b[0m\n\u001b[1;32m    612\u001b[0m         return _minimize_tnc(fun, x0, args, jac, bounds, callback=callback,\n",
            "\u001b[0;32m/usr/local/lib/python3.6/dist-packages/scipy/optimize/lbfgsb.py\u001b[0m in \u001b[0;36m_minimize_lbfgsb\u001b[0;34m(fun, x0, args, jac, bounds, disp, maxcor, ftol, gtol, eps, maxfun, maxiter, iprint, callback, maxls, **unknown_options)\u001b[0m\n\u001b[1;32m    343\u001b[0m             \u001b[0;31m# until the completion of the current minimization iteration.\u001b[0m\u001b[0;34m\u001b[0m\u001b[0;34m\u001b[0m\u001b[0;34m\u001b[0m\u001b[0m\n\u001b[1;32m    344\u001b[0m             \u001b[0;31m# Overwrite f and g:\u001b[0m\u001b[0;34m\u001b[0m\u001b[0;34m\u001b[0m\u001b[0;34m\u001b[0m\u001b[0m\n\u001b[0;32m--> 345\u001b[0;31m             \u001b[0mf\u001b[0m\u001b[0;34m,\u001b[0m \u001b[0mg\u001b[0m \u001b[0;34m=\u001b[0m \u001b[0mfunc_and_grad\u001b[0m\u001b[0;34m(\u001b[0m\u001b[0mx\u001b[0m\u001b[0;34m)\u001b[0m\u001b[0;34m\u001b[0m\u001b[0;34m\u001b[0m\u001b[0m\n\u001b[0m\u001b[1;32m    346\u001b[0m         \u001b[0;32melif\u001b[0m \u001b[0mtask_str\u001b[0m\u001b[0;34m.\u001b[0m\u001b[0mstartswith\u001b[0m\u001b[0;34m(\u001b[0m\u001b[0;34mb'NEW_X'\u001b[0m\u001b[0;34m)\u001b[0m\u001b[0;34m:\u001b[0m\u001b[0;34m\u001b[0m\u001b[0;34m\u001b[0m\u001b[0m\n\u001b[1;32m    347\u001b[0m             \u001b[0;31m# new iteration\u001b[0m\u001b[0;34m\u001b[0m\u001b[0;34m\u001b[0m\u001b[0;34m\u001b[0m\u001b[0m\n",
            "\u001b[0;32m/usr/local/lib/python3.6/dist-packages/scipy/optimize/lbfgsb.py\u001b[0m in \u001b[0;36mfunc_and_grad\u001b[0;34m(x)\u001b[0m\n\u001b[1;32m    293\u001b[0m     \u001b[0;32melse\u001b[0m\u001b[0;34m:\u001b[0m\u001b[0;34m\u001b[0m\u001b[0;34m\u001b[0m\u001b[0m\n\u001b[1;32m    294\u001b[0m         \u001b[0;32mdef\u001b[0m \u001b[0mfunc_and_grad\u001b[0m\u001b[0;34m(\u001b[0m\u001b[0mx\u001b[0m\u001b[0;34m)\u001b[0m\u001b[0;34m:\u001b[0m\u001b[0;34m\u001b[0m\u001b[0;34m\u001b[0m\u001b[0m\n\u001b[0;32m--> 295\u001b[0;31m             \u001b[0mf\u001b[0m \u001b[0;34m=\u001b[0m \u001b[0mfun\u001b[0m\u001b[0;34m(\u001b[0m\u001b[0mx\u001b[0m\u001b[0;34m,\u001b[0m \u001b[0;34m*\u001b[0m\u001b[0margs\u001b[0m\u001b[0;34m)\u001b[0m\u001b[0;34m\u001b[0m\u001b[0;34m\u001b[0m\u001b[0m\n\u001b[0m\u001b[1;32m    296\u001b[0m             \u001b[0mg\u001b[0m \u001b[0;34m=\u001b[0m \u001b[0mjac\u001b[0m\u001b[0;34m(\u001b[0m\u001b[0mx\u001b[0m\u001b[0;34m,\u001b[0m \u001b[0;34m*\u001b[0m\u001b[0margs\u001b[0m\u001b[0;34m)\u001b[0m\u001b[0;34m\u001b[0m\u001b[0;34m\u001b[0m\u001b[0m\n\u001b[1;32m    297\u001b[0m             \u001b[0;32mreturn\u001b[0m \u001b[0mf\u001b[0m\u001b[0;34m,\u001b[0m \u001b[0mg\u001b[0m\u001b[0;34m\u001b[0m\u001b[0;34m\u001b[0m\u001b[0m\n",
            "\u001b[0;32m/usr/local/lib/python3.6/dist-packages/scipy/optimize/optimize.py\u001b[0m in \u001b[0;36mfunction_wrapper\u001b[0;34m(*wrapper_args)\u001b[0m\n\u001b[1;32m    325\u001b[0m     \u001b[0;32mdef\u001b[0m \u001b[0mfunction_wrapper\u001b[0m\u001b[0;34m(\u001b[0m\u001b[0;34m*\u001b[0m\u001b[0mwrapper_args\u001b[0m\u001b[0;34m)\u001b[0m\u001b[0;34m:\u001b[0m\u001b[0;34m\u001b[0m\u001b[0;34m\u001b[0m\u001b[0m\n\u001b[1;32m    326\u001b[0m         \u001b[0mncalls\u001b[0m\u001b[0;34m[\u001b[0m\u001b[0;36m0\u001b[0m\u001b[0;34m]\u001b[0m \u001b[0;34m+=\u001b[0m \u001b[0;36m1\u001b[0m\u001b[0;34m\u001b[0m\u001b[0;34m\u001b[0m\u001b[0m\n\u001b[0;32m--> 327\u001b[0;31m         \u001b[0;32mreturn\u001b[0m \u001b[0mfunction\u001b[0m\u001b[0;34m(\u001b[0m\u001b[0;34m*\u001b[0m\u001b[0;34m(\u001b[0m\u001b[0mwrapper_args\u001b[0m \u001b[0;34m+\u001b[0m \u001b[0margs\u001b[0m\u001b[0;34m)\u001b[0m\u001b[0;34m)\u001b[0m\u001b[0;34m\u001b[0m\u001b[0;34m\u001b[0m\u001b[0m\n\u001b[0m\u001b[1;32m    328\u001b[0m \u001b[0;34m\u001b[0m\u001b[0m\n\u001b[1;32m    329\u001b[0m     \u001b[0;32mreturn\u001b[0m \u001b[0mncalls\u001b[0m\u001b[0;34m,\u001b[0m \u001b[0mfunction_wrapper\u001b[0m\u001b[0;34m\u001b[0m\u001b[0;34m\u001b[0m\u001b[0m\n",
            "\u001b[0;32m/usr/local/lib/python3.6/dist-packages/scipy/optimize/optimize.py\u001b[0m in \u001b[0;36m__call__\u001b[0;34m(self, x, *args)\u001b[0m\n\u001b[1;32m     63\u001b[0m     \u001b[0;32mdef\u001b[0m \u001b[0m__call__\u001b[0m\u001b[0;34m(\u001b[0m\u001b[0mself\u001b[0m\u001b[0;34m,\u001b[0m \u001b[0mx\u001b[0m\u001b[0;34m,\u001b[0m \u001b[0;34m*\u001b[0m\u001b[0margs\u001b[0m\u001b[0;34m)\u001b[0m\u001b[0;34m:\u001b[0m\u001b[0;34m\u001b[0m\u001b[0;34m\u001b[0m\u001b[0m\n\u001b[1;32m     64\u001b[0m         \u001b[0mself\u001b[0m\u001b[0;34m.\u001b[0m\u001b[0mx\u001b[0m \u001b[0;34m=\u001b[0m \u001b[0mnumpy\u001b[0m\u001b[0;34m.\u001b[0m\u001b[0masarray\u001b[0m\u001b[0;34m(\u001b[0m\u001b[0mx\u001b[0m\u001b[0;34m)\u001b[0m\u001b[0;34m.\u001b[0m\u001b[0mcopy\u001b[0m\u001b[0;34m(\u001b[0m\u001b[0;34m)\u001b[0m\u001b[0;34m\u001b[0m\u001b[0;34m\u001b[0m\u001b[0m\n\u001b[0;32m---> 65\u001b[0;31m         \u001b[0mfg\u001b[0m \u001b[0;34m=\u001b[0m \u001b[0mself\u001b[0m\u001b[0;34m.\u001b[0m\u001b[0mfun\u001b[0m\u001b[0;34m(\u001b[0m\u001b[0mx\u001b[0m\u001b[0;34m,\u001b[0m \u001b[0;34m*\u001b[0m\u001b[0margs\u001b[0m\u001b[0;34m)\u001b[0m\u001b[0;34m\u001b[0m\u001b[0;34m\u001b[0m\u001b[0m\n\u001b[0m\u001b[1;32m     66\u001b[0m         \u001b[0mself\u001b[0m\u001b[0;34m.\u001b[0m\u001b[0mjac\u001b[0m \u001b[0;34m=\u001b[0m \u001b[0mfg\u001b[0m\u001b[0;34m[\u001b[0m\u001b[0;36m1\u001b[0m\u001b[0;34m]\u001b[0m\u001b[0;34m\u001b[0m\u001b[0;34m\u001b[0m\u001b[0m\n\u001b[1;32m     67\u001b[0m         \u001b[0;32mreturn\u001b[0m \u001b[0mfg\u001b[0m\u001b[0;34m[\u001b[0m\u001b[0;36m0\u001b[0m\u001b[0;34m]\u001b[0m\u001b[0;34m\u001b[0m\u001b[0;34m\u001b[0m\u001b[0m\n",
            "\u001b[0;32m/usr/local/lib/python3.6/dist-packages/sklearn/linear_model/_logistic.py\u001b[0m in \u001b[0;36m_logistic_loss_and_grad\u001b[0;34m(w, X, y, alpha, sample_weight)\u001b[0m\n\u001b[1;32m    116\u001b[0m     \u001b[0mgrad\u001b[0m \u001b[0;34m=\u001b[0m \u001b[0mnp\u001b[0m\u001b[0;34m.\u001b[0m\u001b[0mempty_like\u001b[0m\u001b[0;34m(\u001b[0m\u001b[0mw\u001b[0m\u001b[0;34m)\u001b[0m\u001b[0;34m\u001b[0m\u001b[0;34m\u001b[0m\u001b[0m\n\u001b[1;32m    117\u001b[0m \u001b[0;34m\u001b[0m\u001b[0m\n\u001b[0;32m--> 118\u001b[0;31m     \u001b[0mw\u001b[0m\u001b[0;34m,\u001b[0m \u001b[0mc\u001b[0m\u001b[0;34m,\u001b[0m \u001b[0myz\u001b[0m \u001b[0;34m=\u001b[0m \u001b[0m_intercept_dot\u001b[0m\u001b[0;34m(\u001b[0m\u001b[0mw\u001b[0m\u001b[0;34m,\u001b[0m \u001b[0mX\u001b[0m\u001b[0;34m,\u001b[0m \u001b[0my\u001b[0m\u001b[0;34m)\u001b[0m\u001b[0;34m\u001b[0m\u001b[0;34m\u001b[0m\u001b[0m\n\u001b[0m\u001b[1;32m    119\u001b[0m \u001b[0;34m\u001b[0m\u001b[0m\n\u001b[1;32m    120\u001b[0m     \u001b[0;32mif\u001b[0m \u001b[0msample_weight\u001b[0m \u001b[0;32mis\u001b[0m \u001b[0;32mNone\u001b[0m\u001b[0;34m:\u001b[0m\u001b[0;34m\u001b[0m\u001b[0;34m\u001b[0m\u001b[0m\n",
            "\u001b[0;32m/usr/local/lib/python3.6/dist-packages/sklearn/linear_model/_logistic.py\u001b[0m in \u001b[0;36m_intercept_dot\u001b[0;34m(w, X, y)\u001b[0m\n\u001b[1;32m     79\u001b[0m         \u001b[0mw\u001b[0m \u001b[0;34m=\u001b[0m \u001b[0mw\u001b[0m\u001b[0;34m[\u001b[0m\u001b[0;34m:\u001b[0m\u001b[0;34m-\u001b[0m\u001b[0;36m1\u001b[0m\u001b[0;34m]\u001b[0m\u001b[0;34m\u001b[0m\u001b[0;34m\u001b[0m\u001b[0m\n\u001b[1;32m     80\u001b[0m \u001b[0;34m\u001b[0m\u001b[0m\n\u001b[0;32m---> 81\u001b[0;31m     \u001b[0mz\u001b[0m \u001b[0;34m=\u001b[0m \u001b[0msafe_sparse_dot\u001b[0m\u001b[0;34m(\u001b[0m\u001b[0mX\u001b[0m\u001b[0;34m,\u001b[0m \u001b[0mw\u001b[0m\u001b[0;34m)\u001b[0m \u001b[0;34m+\u001b[0m \u001b[0mc\u001b[0m\u001b[0;34m\u001b[0m\u001b[0;34m\u001b[0m\u001b[0m\n\u001b[0m\u001b[1;32m     82\u001b[0m     \u001b[0myz\u001b[0m \u001b[0;34m=\u001b[0m \u001b[0my\u001b[0m \u001b[0;34m*\u001b[0m \u001b[0mz\u001b[0m\u001b[0;34m\u001b[0m\u001b[0;34m\u001b[0m\u001b[0m\n\u001b[1;32m     83\u001b[0m     \u001b[0;32mreturn\u001b[0m \u001b[0mw\u001b[0m\u001b[0;34m,\u001b[0m \u001b[0mc\u001b[0m\u001b[0;34m,\u001b[0m \u001b[0myz\u001b[0m\u001b[0;34m\u001b[0m\u001b[0;34m\u001b[0m\u001b[0m\n",
            "\u001b[0;32m/usr/local/lib/python3.6/dist-packages/sklearn/utils/extmath.py\u001b[0m in \u001b[0;36msafe_sparse_dot\u001b[0;34m(a, b, dense_output)\u001b[0m\n\u001b[1;32m    149\u001b[0m             \u001b[0mret\u001b[0m \u001b[0;34m=\u001b[0m \u001b[0mnp\u001b[0m\u001b[0;34m.\u001b[0m\u001b[0mdot\u001b[0m\u001b[0;34m(\u001b[0m\u001b[0ma\u001b[0m\u001b[0;34m,\u001b[0m \u001b[0mb\u001b[0m\u001b[0;34m)\u001b[0m\u001b[0;34m\u001b[0m\u001b[0;34m\u001b[0m\u001b[0m\n\u001b[1;32m    150\u001b[0m     \u001b[0;32melse\u001b[0m\u001b[0;34m:\u001b[0m\u001b[0;34m\u001b[0m\u001b[0;34m\u001b[0m\u001b[0m\n\u001b[0;32m--> 151\u001b[0;31m         \u001b[0mret\u001b[0m \u001b[0;34m=\u001b[0m \u001b[0ma\u001b[0m \u001b[0;34m@\u001b[0m \u001b[0mb\u001b[0m\u001b[0;34m\u001b[0m\u001b[0;34m\u001b[0m\u001b[0m\n\u001b[0m\u001b[1;32m    152\u001b[0m \u001b[0;34m\u001b[0m\u001b[0m\n\u001b[1;32m    153\u001b[0m     if (sparse.issparse(a) and sparse.issparse(b)\n",
            "\u001b[0;32m/usr/local/lib/python3.6/dist-packages/scipy/sparse/base.py\u001b[0m in \u001b[0;36m__matmul__\u001b[0;34m(self, other)\u001b[0m\n\u001b[1;32m    562\u001b[0m             raise ValueError(\"Scalar operands are not allowed, \"\n\u001b[1;32m    563\u001b[0m                              \"use '*' instead\")\n\u001b[0;32m--> 564\u001b[0;31m         \u001b[0;32mreturn\u001b[0m \u001b[0mself\u001b[0m\u001b[0;34m.\u001b[0m\u001b[0m__mul__\u001b[0m\u001b[0;34m(\u001b[0m\u001b[0mother\u001b[0m\u001b[0;34m)\u001b[0m\u001b[0;34m\u001b[0m\u001b[0;34m\u001b[0m\u001b[0m\n\u001b[0m\u001b[1;32m    565\u001b[0m \u001b[0;34m\u001b[0m\u001b[0m\n\u001b[1;32m    566\u001b[0m     \u001b[0;32mdef\u001b[0m \u001b[0m__rmatmul__\u001b[0m\u001b[0;34m(\u001b[0m\u001b[0mself\u001b[0m\u001b[0;34m,\u001b[0m \u001b[0mother\u001b[0m\u001b[0;34m)\u001b[0m\u001b[0;34m:\u001b[0m\u001b[0;34m\u001b[0m\u001b[0;34m\u001b[0m\u001b[0m\n",
            "\u001b[0;32m/usr/local/lib/python3.6/dist-packages/scipy/sparse/base.py\u001b[0m in \u001b[0;36m__mul__\u001b[0;34m(self, other)\u001b[0m\n\u001b[1;32m    469\u001b[0m             \u001b[0;31m# Fast path for the most common case\u001b[0m\u001b[0;34m\u001b[0m\u001b[0;34m\u001b[0m\u001b[0;34m\u001b[0m\u001b[0m\n\u001b[1;32m    470\u001b[0m             \u001b[0;32mif\u001b[0m \u001b[0mother\u001b[0m\u001b[0;34m.\u001b[0m\u001b[0mshape\u001b[0m \u001b[0;34m==\u001b[0m \u001b[0;34m(\u001b[0m\u001b[0mN\u001b[0m\u001b[0;34m,\u001b[0m\u001b[0;34m)\u001b[0m\u001b[0;34m:\u001b[0m\u001b[0;34m\u001b[0m\u001b[0;34m\u001b[0m\u001b[0m\n\u001b[0;32m--> 471\u001b[0;31m                 \u001b[0;32mreturn\u001b[0m \u001b[0mself\u001b[0m\u001b[0;34m.\u001b[0m\u001b[0m_mul_vector\u001b[0m\u001b[0;34m(\u001b[0m\u001b[0mother\u001b[0m\u001b[0;34m)\u001b[0m\u001b[0;34m\u001b[0m\u001b[0;34m\u001b[0m\u001b[0m\n\u001b[0m\u001b[1;32m    472\u001b[0m             \u001b[0;32melif\u001b[0m \u001b[0mother\u001b[0m\u001b[0;34m.\u001b[0m\u001b[0mshape\u001b[0m \u001b[0;34m==\u001b[0m \u001b[0;34m(\u001b[0m\u001b[0mN\u001b[0m\u001b[0;34m,\u001b[0m \u001b[0;36m1\u001b[0m\u001b[0;34m)\u001b[0m\u001b[0;34m:\u001b[0m\u001b[0;34m\u001b[0m\u001b[0;34m\u001b[0m\u001b[0m\n\u001b[1;32m    473\u001b[0m                 \u001b[0;32mreturn\u001b[0m \u001b[0mself\u001b[0m\u001b[0;34m.\u001b[0m\u001b[0m_mul_vector\u001b[0m\u001b[0;34m(\u001b[0m\u001b[0mother\u001b[0m\u001b[0;34m.\u001b[0m\u001b[0mravel\u001b[0m\u001b[0;34m(\u001b[0m\u001b[0;34m)\u001b[0m\u001b[0;34m)\u001b[0m\u001b[0;34m.\u001b[0m\u001b[0mreshape\u001b[0m\u001b[0;34m(\u001b[0m\u001b[0mM\u001b[0m\u001b[0;34m,\u001b[0m \u001b[0;36m1\u001b[0m\u001b[0;34m)\u001b[0m\u001b[0;34m\u001b[0m\u001b[0;34m\u001b[0m\u001b[0m\n",
            "\u001b[0;32m/usr/local/lib/python3.6/dist-packages/scipy/sparse/compressed.py\u001b[0m in \u001b[0;36m_mul_vector\u001b[0;34m(self, other)\u001b[0m\n\u001b[1;32m    471\u001b[0m         \u001b[0;31m# csr_matvec or csc_matvec\u001b[0m\u001b[0;34m\u001b[0m\u001b[0;34m\u001b[0m\u001b[0;34m\u001b[0m\u001b[0m\n\u001b[1;32m    472\u001b[0m         \u001b[0mfn\u001b[0m \u001b[0;34m=\u001b[0m \u001b[0mgetattr\u001b[0m\u001b[0;34m(\u001b[0m\u001b[0m_sparsetools\u001b[0m\u001b[0;34m,\u001b[0m \u001b[0mself\u001b[0m\u001b[0;34m.\u001b[0m\u001b[0mformat\u001b[0m \u001b[0;34m+\u001b[0m \u001b[0;34m'_matvec'\u001b[0m\u001b[0;34m)\u001b[0m\u001b[0;34m\u001b[0m\u001b[0;34m\u001b[0m\u001b[0m\n\u001b[0;32m--> 473\u001b[0;31m         \u001b[0mfn\u001b[0m\u001b[0;34m(\u001b[0m\u001b[0mM\u001b[0m\u001b[0;34m,\u001b[0m \u001b[0mN\u001b[0m\u001b[0;34m,\u001b[0m \u001b[0mself\u001b[0m\u001b[0;34m.\u001b[0m\u001b[0mindptr\u001b[0m\u001b[0;34m,\u001b[0m \u001b[0mself\u001b[0m\u001b[0;34m.\u001b[0m\u001b[0mindices\u001b[0m\u001b[0;34m,\u001b[0m \u001b[0mself\u001b[0m\u001b[0;34m.\u001b[0m\u001b[0mdata\u001b[0m\u001b[0;34m,\u001b[0m \u001b[0mother\u001b[0m\u001b[0;34m,\u001b[0m \u001b[0mresult\u001b[0m\u001b[0;34m)\u001b[0m\u001b[0;34m\u001b[0m\u001b[0;34m\u001b[0m\u001b[0m\n\u001b[0m\u001b[1;32m    474\u001b[0m \u001b[0;34m\u001b[0m\u001b[0m\n\u001b[1;32m    475\u001b[0m         \u001b[0;32mreturn\u001b[0m \u001b[0mresult\u001b[0m\u001b[0;34m\u001b[0m\u001b[0;34m\u001b[0m\u001b[0m\n",
            "\u001b[0;31mKeyboardInterrupt\u001b[0m: "
          ]
        }
      ]
    },
    {
      "cell_type": "code",
      "metadata": {
        "id": "Bg67b1BY4u6J"
      },
      "source": [
        "mlpc = MLPClassifier()\n",
        "mlpc.fit(X_train, y_train)\n",
        "\n",
        "y_pred = mlpc.predict(X_test)\n",
        "\n",
        "meth,jac,ham = print_score(y_pred, mlpc)\n",
        "methods.append(meth)\n",
        "jacards.append(jac)\n",
        "hamming_losses.append(ham)"
      ],
      "execution_count": null,
      "outputs": []
    },
    {
      "cell_type": "code",
      "metadata": {
        "id": "zE7JCmyy4u6L"
      },
      "source": [
        "# rfc = RandomForestClassifier()\n",
        "# rfc.fit(X_train, y_train)\n",
        "\n",
        "# y_pred = rfc.predict(X_test)\n",
        "\n",
        "# meth,jac,ham = print_score(y_pred, rfc)\n",
        "# methods.append(meth)\n",
        "# jacards.append(jac)\n",
        "# hamming_losses.append(ham)"
      ],
      "execution_count": null,
      "outputs": []
    },
    {
      "cell_type": "code",
      "metadata": {
        "id": "yTiJ6zNxzRV6"
      },
      "source": [
        "import matplotlib.pyplot as plt\n",
        "fig = plt.figure(figsize=(14,4)) \n",
        "x = np.arange(len(jacards))\n",
        "total_width, n = 0.8, 2\n",
        "width = total_width / n\n",
        "x = x - (total_width - width) / 2\n",
        "\n",
        "plt.bar(x, np.array(jacards), width=width, label='avg_jaccards')\n",
        "plt.bar(x+width, np.array(hamming_losses),width=width, label='hamming_loss')\n",
        "for a,b in zip(x,jacards):  \n",
        " plt.text(a, b+0.05, '%.3f' % b, ha='center', va= 'bottom',fontsize=11) \n",
        "for a,b in zip(x+width,hamming_losses):  \n",
        " plt.text(a, b+0.05, '%.3f' % b, ha='center', va= 'bottom',fontsize=11) \n",
        "plt.xticks(range(len(methods)), methods)\n",
        "plt.legend(loc = 'upper left')\n",
        "plt.show()"
      ],
      "execution_count": null,
      "outputs": []
    },
    {
      "cell_type": "code",
      "metadata": {
        "id": "q5USKhqXzCtl"
      },
      "source": [
        "fig = plt.figure(figsize=(16,4)) \n",
        "x = np.arange(len(jacards))\n",
        "total_width, n = 0.8, 2\n",
        "width = total_width / n\n",
        "x = x - (total_width - width) / 2\n",
        "\n",
        "plt.bar(x+width/2, np.array(jacards), width=width, label='avg_jaccards')\n",
        "for a,b in zip(x,jacards):  \n",
        " plt.text(a+width/2, b+0.05, '%.3f' % b, ha='center', va= 'bottom',fontsize=11) \n",
        "plt.xticks(range(len(methods)), methods)\n",
        "plt.legend(loc = 'upper left')\n",
        "plt.show()"
      ],
      "execution_count": null,
      "outputs": []
    },
    {
      "cell_type": "code",
      "metadata": {
        "id": "a1jWiRZgzqce"
      },
      "source": [
        "fig = plt.figure(figsize=(16,4)) \n",
        "x = np.arange(len(hamming_losses))\n",
        "total_width, n = 0.8, 2\n",
        "width = total_width / n\n",
        "x = x - (total_width - width) / 2\n",
        "\n",
        "plt.bar(x+width/2, np.array(hamming_losses), width=width, label='hamming_loss',color='g')\n",
        "for a,b in zip(x,hamming_losses):  \n",
        " plt.text(a+width/2, b+0.05, '%.3f' % b, ha='center', va= 'bottom',fontsize=11) \n",
        "plt.xticks(range(len(methods)), methods)\n",
        "plt.legend(loc = 'upper right')\n",
        "plt.show()"
      ],
      "execution_count": null,
      "outputs": []
    },
    {
      "cell_type": "markdown",
      "metadata": {
        "id": "Lj2T1gfrq75l"
      },
      "source": [
        "GridSearch CV on the best classifier"
      ]
    },
    {
      "cell_type": "code",
      "metadata": {
        "colab": {
          "base_uri": "https://localhost:8080/"
        },
        "id": "C6wT9tKmoQAc",
        "outputId": "3ee67e25-9a22-4dc0-c66e-8d4271e3452e"
      },
      "source": [
        "from sklearn.model_selection import GridSearchCV\n",
        "param_grid = {'estimator__C':[1],\"estimator__penalty\": [\"l1\",\"l2\"],\n",
        "    \"estimator__loss\":[\"hinge\",\"squared_hinge\"],}\n",
        "svc = OneVsRestClassifier(LinearSVC())\n",
        "CV_svc = GridSearchCV(estimator=svc, param_grid=param_grid, cv= 3, verbose=10, scoring=make_scorer(avg_jacard,greater_is_better=True))\n",
        "CV_svc.fit(X_train, y_train)\n",
        "CV_svc.best_params_"
      ],
      "execution_count": null,
      "outputs": [
        {
          "output_type": "stream",
          "text": [
            "Fitting 3 folds for each of 4 candidates, totalling 12 fits\n",
            "[CV] estimator__C=1, estimator__loss=hinge, estimator__penalty=l1 ....\n"
          ],
          "name": "stdout"
        },
        {
          "output_type": "stream",
          "text": [
            "[Parallel(n_jobs=1)]: Using backend SequentialBackend with 1 concurrent workers.\n",
            "/usr/local/lib/python3.6/dist-packages/sklearn/model_selection/_validation.py:536: FitFailedWarning: Estimator fit failed. The score on this train-test partition for these parameters will be set to nan. Details: \n",
            "ValueError: Unsupported set of arguments: The combination of penalty='l1' and loss='hinge' is not supported, Parameters: penalty='l1', loss='hinge', dual=True\n",
            "\n",
            "  FitFailedWarning)\n",
            "[Parallel(n_jobs=1)]: Done   1 out of   1 | elapsed:    0.4s remaining:    0.0s\n"
          ],
          "name": "stderr"
        },
        {
          "output_type": "stream",
          "text": [
            "[CV]  estimator__C=1, estimator__loss=hinge, estimator__penalty=l1, score=nan, total=   0.4s\n",
            "[CV] estimator__C=1, estimator__loss=hinge, estimator__penalty=l1 ....\n"
          ],
          "name": "stdout"
        },
        {
          "output_type": "stream",
          "text": [
            "/usr/local/lib/python3.6/dist-packages/sklearn/model_selection/_validation.py:536: FitFailedWarning: Estimator fit failed. The score on this train-test partition for these parameters will be set to nan. Details: \n",
            "ValueError: Unsupported set of arguments: The combination of penalty='l1' and loss='hinge' is not supported, Parameters: penalty='l1', loss='hinge', dual=True\n",
            "\n",
            "  FitFailedWarning)\n",
            "[Parallel(n_jobs=1)]: Done   2 out of   2 | elapsed:    0.7s remaining:    0.0s\n"
          ],
          "name": "stderr"
        },
        {
          "output_type": "stream",
          "text": [
            "[CV]  estimator__C=1, estimator__loss=hinge, estimator__penalty=l1, score=nan, total=   0.3s\n",
            "[CV] estimator__C=1, estimator__loss=hinge, estimator__penalty=l1 ....\n"
          ],
          "name": "stdout"
        },
        {
          "output_type": "stream",
          "text": [
            "/usr/local/lib/python3.6/dist-packages/sklearn/model_selection/_validation.py:536: FitFailedWarning: Estimator fit failed. The score on this train-test partition for these parameters will be set to nan. Details: \n",
            "ValueError: Unsupported set of arguments: The combination of penalty='l1' and loss='hinge' is not supported, Parameters: penalty='l1', loss='hinge', dual=True\n",
            "\n",
            "  FitFailedWarning)\n",
            "[Parallel(n_jobs=1)]: Done   3 out of   3 | elapsed:    1.1s remaining:    0.0s\n"
          ],
          "name": "stderr"
        },
        {
          "output_type": "stream",
          "text": [
            "[CV]  estimator__C=1, estimator__loss=hinge, estimator__penalty=l1, score=nan, total=   0.3s\n",
            "[CV] estimator__C=1, estimator__loss=hinge, estimator__penalty=l2 ....\n"
          ],
          "name": "stdout"
        },
        {
          "output_type": "stream",
          "text": [
            "/usr/local/lib/python3.6/dist-packages/sklearn/svm/_base.py:947: ConvergenceWarning: Liblinear failed to converge, increase the number of iterations.\n",
            "  \"the number of iterations.\", ConvergenceWarning)\n"
          ],
          "name": "stderr"
        },
        {
          "output_type": "stream",
          "text": [
            "[CV]  estimator__C=1, estimator__loss=hinge, estimator__penalty=l2, score=53.930, total=  16.1s\n",
            "[CV] estimator__C=1, estimator__loss=hinge, estimator__penalty=l2 ....\n"
          ],
          "name": "stdout"
        },
        {
          "output_type": "stream",
          "text": [
            "[Parallel(n_jobs=1)]: Done   4 out of   4 | elapsed:   17.2s remaining:    0.0s\n",
            "/usr/local/lib/python3.6/dist-packages/sklearn/svm/_base.py:947: ConvergenceWarning: Liblinear failed to converge, increase the number of iterations.\n",
            "  \"the number of iterations.\", ConvergenceWarning)\n"
          ],
          "name": "stderr"
        },
        {
          "output_type": "stream",
          "text": [
            "[CV]  estimator__C=1, estimator__loss=hinge, estimator__penalty=l2, score=53.085, total=  15.4s\n",
            "[CV] estimator__C=1, estimator__loss=hinge, estimator__penalty=l2 ....\n"
          ],
          "name": "stdout"
        },
        {
          "output_type": "stream",
          "text": [
            "[Parallel(n_jobs=1)]: Done   5 out of   5 | elapsed:   32.5s remaining:    0.0s\n",
            "/usr/local/lib/python3.6/dist-packages/sklearn/svm/_base.py:947: ConvergenceWarning: Liblinear failed to converge, increase the number of iterations.\n",
            "  \"the number of iterations.\", ConvergenceWarning)\n"
          ],
          "name": "stderr"
        },
        {
          "output_type": "stream",
          "text": [
            "[CV]  estimator__C=1, estimator__loss=hinge, estimator__penalty=l2, score=53.313, total=  16.1s\n",
            "[CV] estimator__C=1, estimator__loss=squared_hinge, estimator__penalty=l1 \n"
          ],
          "name": "stdout"
        },
        {
          "output_type": "stream",
          "text": [
            "[Parallel(n_jobs=1)]: Done   6 out of   6 | elapsed:   48.6s remaining:    0.0s\n",
            "/usr/local/lib/python3.6/dist-packages/sklearn/model_selection/_validation.py:536: FitFailedWarning: Estimator fit failed. The score on this train-test partition for these parameters will be set to nan. Details: \n",
            "ValueError: Unsupported set of arguments: The combination of penalty='l1' and loss='squared_hinge' are not supported when dual=True, Parameters: penalty='l1', loss='squared_hinge', dual=True\n",
            "\n",
            "  FitFailedWarning)\n",
            "[Parallel(n_jobs=1)]: Done   7 out of   7 | elapsed:   48.9s remaining:    0.0s\n"
          ],
          "name": "stderr"
        },
        {
          "output_type": "stream",
          "text": [
            "[CV]  estimator__C=1, estimator__loss=squared_hinge, estimator__penalty=l1, score=nan, total=   0.3s\n",
            "[CV] estimator__C=1, estimator__loss=squared_hinge, estimator__penalty=l1 \n"
          ],
          "name": "stdout"
        },
        {
          "output_type": "stream",
          "text": [
            "/usr/local/lib/python3.6/dist-packages/sklearn/model_selection/_validation.py:536: FitFailedWarning: Estimator fit failed. The score on this train-test partition for these parameters will be set to nan. Details: \n",
            "ValueError: Unsupported set of arguments: The combination of penalty='l1' and loss='squared_hinge' are not supported when dual=True, Parameters: penalty='l1', loss='squared_hinge', dual=True\n",
            "\n",
            "  FitFailedWarning)\n",
            "[Parallel(n_jobs=1)]: Done   8 out of   8 | elapsed:   49.3s remaining:    0.0s\n"
          ],
          "name": "stderr"
        },
        {
          "output_type": "stream",
          "text": [
            "[CV]  estimator__C=1, estimator__loss=squared_hinge, estimator__penalty=l1, score=nan, total=   0.3s\n",
            "[CV] estimator__C=1, estimator__loss=squared_hinge, estimator__penalty=l1 \n"
          ],
          "name": "stdout"
        },
        {
          "output_type": "stream",
          "text": [
            "/usr/local/lib/python3.6/dist-packages/sklearn/model_selection/_validation.py:536: FitFailedWarning: Estimator fit failed. The score on this train-test partition for these parameters will be set to nan. Details: \n",
            "ValueError: Unsupported set of arguments: The combination of penalty='l1' and loss='squared_hinge' are not supported when dual=True, Parameters: penalty='l1', loss='squared_hinge', dual=True\n",
            "\n",
            "  FitFailedWarning)\n",
            "[Parallel(n_jobs=1)]: Done   9 out of   9 | elapsed:   49.6s remaining:    0.0s\n"
          ],
          "name": "stderr"
        },
        {
          "output_type": "stream",
          "text": [
            "[CV]  estimator__C=1, estimator__loss=squared_hinge, estimator__penalty=l1, score=nan, total=   0.3s\n",
            "[CV] estimator__C=1, estimator__loss=squared_hinge, estimator__penalty=l2 \n",
            "[CV]  estimator__C=1, estimator__loss=squared_hinge, estimator__penalty=l2, score=53.322, total=  14.5s\n",
            "[CV] estimator__C=1, estimator__loss=squared_hinge, estimator__penalty=l2 \n",
            "[CV]  estimator__C=1, estimator__loss=squared_hinge, estimator__penalty=l2, score=52.105, total=  14.6s\n",
            "[CV] estimator__C=1, estimator__loss=squared_hinge, estimator__penalty=l2 \n",
            "[CV]  estimator__C=1, estimator__loss=squared_hinge, estimator__penalty=l2, score=52.550, total=  14.9s\n"
          ],
          "name": "stdout"
        },
        {
          "output_type": "stream",
          "text": [
            "[Parallel(n_jobs=1)]: Done  12 out of  12 | elapsed:  1.6min finished\n",
            "/usr/local/lib/python3.6/dist-packages/sklearn/svm/_base.py:947: ConvergenceWarning: Liblinear failed to converge, increase the number of iterations.\n",
            "  \"the number of iterations.\", ConvergenceWarning)\n"
          ],
          "name": "stderr"
        },
        {
          "output_type": "execute_result",
          "data": {
            "text/plain": [
              "{'estimator__C': 1, 'estimator__loss': 'hinge', 'estimator__penalty': 'l2'}"
            ]
          },
          "metadata": {
            "tags": []
          },
          "execution_count": 116
        }
      ]
    },
    {
      "cell_type": "code",
      "metadata": {
        "colab": {
          "base_uri": "https://localhost:8080/",
          "height": 279
        },
        "id": "rUavZJlG4LaJ",
        "outputId": "3a85f7b5-c38e-454b-8462-fe0ec4f4a03b"
      },
      "source": [
        "x1 = [1,10,100,1000]\n",
        "y1 = [53.162,49.972,46.815,43.617]\n",
        "plt.plot(x1,y1)\n",
        "plt.xlabel('Regularization parameter')\n",
        "plt.ylabel('avg_jaccards')\n",
        "plt.show()"
      ],
      "execution_count": null,
      "outputs": [
        {
          "output_type": "display_data",
          "data": {
            "image/png": "[encoded data removed]",
            "text/plain": [
              "<Figure size 432x288 with 1 Axes>"
            ]
          },
          "metadata": {
            "tags": [],
            "needs_background": "light"
          }
        }
      ]
    },
    {
      "cell_type": "code",
      "metadata": {
        "id": "cGlDWOBLoYzd"
      },
      "source": [
        "best_model = CV_svc.best_estimator_"
      ],
      "execution_count": null,
      "outputs": []
    },
    {
      "cell_type": "code",
      "metadata": {
        "id": "pctLRcSLoan6",
        "colab": {
          "base_uri": "https://localhost:8080/"
        },
        "outputId": "8771a0dc-afee-4f8b-de23-0a0369bfa2f9"
      },
      "source": [
        "y_pred = best_model.predict(X_test)\n",
        "\n",
        "meth,jac,ham = print_score(y_pred, best_model)\n",
        "methods.append(meth)\n",
        "jacards.append(jac)\n",
        "hamming_losses.append(ham)"
      ],
      "execution_count": null,
      "outputs": [
        {
          "output_type": "stream",
          "text": [
            "Clf:  OneVsRestClassifier\n",
            "Jacard score: 54.59777848134662\n",
            "Hamming loss: 0.8894253601393067\n",
            "---\n"
          ],
          "name": "stdout"
        }
      ]
    },
    {
      "cell_type": "code",
      "metadata": {
        "colab": {
          "base_uri": "https://localhost:8080/"
        },
        "id": "EkKfXtNpHRlD",
        "outputId": "86eb4d1b-254d-491e-c97a-ed05b56829dc"
      },
      "source": [
        "cnt = [0]*10\n",
        "for i in range(len(y_pred)):\n",
        "  cnt[sum(y_pred[i])]+=1\n",
        "print(cnt)"
      ],
      "execution_count": null,
      "outputs": [
        {
          "output_type": "stream",
          "text": [
            "[3041, 7050, 2286, 241, 15, 1, 0, 0, 0, 0]\n"
          ],
          "name": "stdout"
        }
      ]
    },
    {
      "cell_type": "code",
      "metadata": {
        "colab": {
          "base_uri": "https://localhost:8080/"
        },
        "id": "kAOIf39EHYco",
        "outputId": "4bafd4e3-04cb-40cd-d6c2-2b3402b216ad"
      },
      "source": [
        "y_pred.shape"
      ],
      "execution_count": null,
      "outputs": [
        {
          "output_type": "execute_result",
          "data": {
            "text/plain": [
              "(12634, 100)"
            ]
          },
          "metadata": {
            "tags": []
          },
          "execution_count": 121
        }
      ]
    },
    {
      "cell_type": "code",
      "metadata": {
        "id": "u8pPVP5BHCVy"
      },
      "source": [
        "hamming_losses"
      ],
      "execution_count": null,
      "outputs": []
    },
    {
      "cell_type": "code",
      "metadata": {
        "id": "Z5iHXP9SGlZ-"
      },
      "source": [
        "print(\"Clf: \", clf.__class__.__name__)\n",
        "print(\"Accuracy score: {}\".format(accuracy_score(y_test, y_pred)))\n",
        "print(\"Recall score: {}\".format(recall_score(y_true=y_test, y_pred=y_pred, average='weighted')))\n",
        "print(\"Precision score: {}\".format(precision_score(y_true=y_test, y_pred=y_pred, average='weighted')))\n",
        "print(\"Hamming loss: {}\".format(hamming_loss(y_pred, y_test)*100))\n",
        "print(\"F1 score: {}\".format(f1_score(y_pred, y_test, average='weighted')))"
      ],
      "execution_count": null,
      "outputs": []
    },
    {
      "cell_type": "code",
      "metadata": {
        "id": "8nmlpgty-hSC"
      },
      "source": [
        "fig = plt.figure(figsize=(16,4)) \n",
        "x = np.arange(len(jacards))\n",
        "total_width, n = 0.8, 2\n",
        "width = total_width / n\n",
        "x = x - (total_width - width) / 2\n",
        "\n",
        "plt.bar(x+width/2, np.array(jacards), width=width, label='avg_jacards')\n",
        "for a,b in zip(x,jacards):  \n",
        " plt.text(a+width/2, b+0.05, '%.3f' % b, ha='center', va= 'bottom',fontsize=11) \n",
        "plt.xticks(range(len(methods)), methods)\n",
        "plt.legend(loc = 'upper left')\n",
        "plt.show()"
      ],
      "execution_count": null,
      "outputs": []
    },
    {
      "cell_type": "code",
      "metadata": {
        "id": "I2PSafTQHLix"
      },
      "source": [
        "fig = plt.figure(figsize=(16,4)) \n",
        "x = np.arange(len(hamming_losses))\n",
        "total_width, n = 0.8, 2\n",
        "width = total_width / n\n",
        "x = x - (total_width - width) / 2\n",
        "\n",
        "plt.bar(x+width/2, np.array(hamming_losses), width=width, label='hamming_losses')\n",
        "for a,b in zip(x,hamming_losses):  \n",
        " plt.text(a+width/2, b+0.05, '%.3f' % b, ha='center', va= 'bottom',fontsize=11) \n",
        "plt.xticks(range(len(methods)), methods)\n",
        "plt.legend(loc = 'upper right')\n",
        "plt.show()"
      ],
      "execution_count": null,
      "outputs": []
    },
    {
      "cell_type": "markdown",
      "metadata": {
        "id": "d9a69gKVrBrI"
      },
      "source": [
        "Exctracting feature importance"
      ]
    },
    {
      "cell_type": "code",
      "metadata": {
        "id": "fpizOho7rBSZ"
      },
      "source": [
        "def print_top10(feature_names, clf, class_labels):\n",
        "    \"\"\"Prints features with the highest coefficient values, per class\"\"\"\n",
        "    for i, class_label in enumerate(class_labels):\n",
        "        top10 = np.argsort(clf.coef_[i])[-10:]\n",
        "        print(\"--------------------------------------------\")\n",
        "        print(\"%s: %s\" % (class_label,\n",
        "              \" \".join(feature_names[j] for j in top10)))\n",
        "        print(\"--------------------------------------------\")\n",
        "feature_names = vectorizer_X1.get_feature_names() + vectorizer_X2.get_feature_names()"
      ],
      "execution_count": null,
      "outputs": []
    },
    {
      "cell_type": "code",
      "metadata": {
        "colab": {
          "base_uri": "https://localhost:8080/",
          "height": 279
        },
        "id": "p2TJbqR1J_XM",
        "outputId": "7e3900a7-8671-4d8c-db40-b596d6f1c9c6"
      },
      "source": [
        "import matplotlib.pyplot as plt\n",
        "fig = plt.figure(figsize=(14,4)) \n",
        "x = np.arange(6)\n",
        "a =  [0, 7075, 4136, 1202, 201, 20]\n",
        "b = [3041, 7050, 2286, 241, 15, 1]\n",
        "total_width, n = 0.8, 2\n",
        "width = total_width / n\n",
        "x = x - (total_width - width) / 2\n",
        "\n",
        "plt.bar(x, np.array(a), width=width, label='true tags')\n",
        "plt.bar(x+width, np.array(b),width=width, label='predict tags')\n",
        "for a1,b1 in zip(x,a):  \n",
        " plt.text(a1, b1+0.05, '%.0f' % b1, ha='center', va= 'bottom',fontsize=11) \n",
        "for a1,b1 in zip(x+width,b):  \n",
        " plt.text(a1, b1+0.05, '%.0f' % b1, ha='center', va= 'bottom',fontsize=11) \n",
        "plt.xlabel('number of tags')\n",
        "plt.ylabel('number of samples')\n",
        "plt.legend(loc = 'upper left')\n",
        "plt.show()"
      ],
      "execution_count": null,
      "outputs": [
        {
          "output_type": "display_data",
          "data": {
            "image/png": "[encoded data removed]",
            "text/plain": [
              "<Figure size 1008x288 with 1 Axes>"
            ]
          },
          "metadata": {
            "tags": [],
            "needs_background": "light"
          }
        }
      ]
    }
  ]
}